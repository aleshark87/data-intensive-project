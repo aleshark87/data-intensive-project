{
  "nbformat": 4,
  "nbformat_minor": 0,
  "metadata": {
    "colab": {
      "name": "Progetto.ipynb",
      "provenance": [],
      "collapsed_sections": [],
      "authorship_tag": "ABX9TyO5fJfuqeBgDWGBje/vicwU",
      "include_colab_link": true
    },
    "kernelspec": {
      "name": "python3",
      "display_name": "Python 3"
    },
    "language_info": {
      "name": "python"
    }
  },
  "cells": [
    {
      "cell_type": "markdown",
      "metadata": {
        "id": "view-in-github",
        "colab_type": "text"
      },
      "source": [
        "<a href=\"https://colab.research.google.com/github/aleshark87/data-intensive-project/blob/main/Progetto.ipynb\" target=\"_parent\"><img src=\"https://colab.research.google.com/assets/colab-badge.svg\" alt=\"Open In Colab\"/></a>"
      ]
    },
    {
      "cell_type": "markdown",
      "metadata": {
        "id": "bKSXL3QGo2R1"
      },
      "source": [
        "Importo le librerie necessarie"
      ]
    },
    {
      "cell_type": "code",
      "metadata": {
        "id": "ZIBDlbOonj6H"
      },
      "source": [
        "import numpy as np\n",
        "import pandas as pd\n",
        "import os.path"
      ],
      "execution_count": null,
      "outputs": []
    },
    {
      "cell_type": "markdown",
      "metadata": {
        "id": "c-dHsFXNo6zZ"
      },
      "source": [
        "**Caricamento dei dati**\n"
      ]
    },
    {
      "cell_type": "code",
      "metadata": {
        "id": "AVdP1MHMo-42"
      },
      "source": [
        "file_zip_url = \"https://www.kaggle.com/kwadwoofosu/predict-test-scores-of-students/download/\"\n",
        "file_zip_name=\"scores_data.zip\"\n",
        "\n",
        "if not os.path.exists(file_zip_name):\n",
        "  from urllib.request import urlretrieve\n",
        "  urlretrieve(file_zip_url, file_zip_name)\n",
        "  \n",
        "  "
      ],
      "execution_count": null,
      "outputs": []
    }
  ]
}