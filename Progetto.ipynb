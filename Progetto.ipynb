{
  "nbformat": 4,
  "nbformat_minor": 0,
  "metadata": {
    "colab": {
      "name": "Progetto.ipynb",
      "provenance": [],
      "collapsed_sections": [],
      "authorship_tag": "ABX9TyMJ5fdQTOiznbDkxX0PsHwG",
      "include_colab_link": true
    },
    "kernelspec": {
      "name": "python3",
      "display_name": "Python 3"
    },
    "language_info": {
      "name": "python"
    }
  },
  "cells": [
    {
      "cell_type": "markdown",
      "metadata": {
        "id": "view-in-github",
        "colab_type": "text"
      },
      "source": [
        "<a href=\"https://colab.research.google.com/github/aleshark87/data-intensive-project/blob/main/Progetto.ipynb\" target=\"_parent\"><img src=\"https://colab.research.google.com/assets/colab-badge.svg\" alt=\"Open In Colab\"/></a>"
      ]
    },
    {
      "cell_type": "markdown",
      "metadata": {
        "id": "9XVHHQ3lEDRB"
      },
      "source": [
        "##Descrizione del problema\n",
        "\n",
        "*In questo progetto si vuole realizzare un modello in grado di predire la potabilità dell'acqua in base a delle analisi effettuate*"
      ]
    },
    {
      "cell_type": "markdown",
      "metadata": {
        "id": "bKSXL3QGo2R1"
      },
      "source": [
        "## Importo le librerie necessarie"
      ]
    },
    {
      "cell_type": "code",
      "metadata": {
        "id": "ZIBDlbOonj6H"
      },
      "source": [
        "import numpy as np\n",
        "import pandas as pd\n",
        "import matplotlib.pyplot as plt\n",
        "import seaborn as sns\n",
        "import os.path\n",
        "from urllib.request import urlretrieve"
      ],
      "execution_count": 268,
      "outputs": []
    },
    {
      "cell_type": "markdown",
      "metadata": {
        "id": "c-dHsFXNo6zZ"
      },
      "source": [
        "##Caricamento dei dati\n"
      ]
    },
    {
      "cell_type": "code",
      "metadata": {
        "id": "AVdP1MHMo-42",
        "colab": {
          "base_uri": "https://localhost:8080/",
          "height": 357
        },
        "outputId": "bf9bce43-3e86-429e-f56e-bd5e0b470f9f"
      },
      "source": [
        "dataset_url = \"https://github.com/aleshark87/data-intensive-project/raw/main/water_potability%20(2).csv\"\n",
        "dataset_filename = \"water_potability.csv\"\n",
        "\n",
        "if not os.path.exists(dataset_filename):\n",
        "  urlretrieve(dataset_url, dataset_filename)\n",
        "\n",
        "dataset = pd.read_csv(dataset_filename, sep=\",\")\n",
        "dataset.head(10)  "
      ],
      "execution_count": 269,
      "outputs": [
        {
          "output_type": "execute_result",
          "data": {
            "text/html": [
              "<div>\n",
              "<style scoped>\n",
              "    .dataframe tbody tr th:only-of-type {\n",
              "        vertical-align: middle;\n",
              "    }\n",
              "\n",
              "    .dataframe tbody tr th {\n",
              "        vertical-align: top;\n",
              "    }\n",
              "\n",
              "    .dataframe thead th {\n",
              "        text-align: right;\n",
              "    }\n",
              "</style>\n",
              "<table border=\"1\" class=\"dataframe\">\n",
              "  <thead>\n",
              "    <tr style=\"text-align: right;\">\n",
              "      <th></th>\n",
              "      <th>ph</th>\n",
              "      <th>Hardness</th>\n",
              "      <th>Solids</th>\n",
              "      <th>Chloramines</th>\n",
              "      <th>Sulfate</th>\n",
              "      <th>Conductivity</th>\n",
              "      <th>Organic_carbon</th>\n",
              "      <th>Trihalomethanes</th>\n",
              "      <th>Turbidity</th>\n",
              "      <th>Potability</th>\n",
              "    </tr>\n",
              "  </thead>\n",
              "  <tbody>\n",
              "    <tr>\n",
              "      <th>0</th>\n",
              "      <td>NaN</td>\n",
              "      <td>204.890455</td>\n",
              "      <td>20791.318981</td>\n",
              "      <td>7.300212</td>\n",
              "      <td>368.516441</td>\n",
              "      <td>564.308654</td>\n",
              "      <td>10.379783</td>\n",
              "      <td>86.990970</td>\n",
              "      <td>2.963135</td>\n",
              "      <td>0</td>\n",
              "    </tr>\n",
              "    <tr>\n",
              "      <th>1</th>\n",
              "      <td>3.716080</td>\n",
              "      <td>129.422921</td>\n",
              "      <td>18630.057858</td>\n",
              "      <td>6.635246</td>\n",
              "      <td>NaN</td>\n",
              "      <td>592.885359</td>\n",
              "      <td>15.180013</td>\n",
              "      <td>56.329076</td>\n",
              "      <td>4.500656</td>\n",
              "      <td>0</td>\n",
              "    </tr>\n",
              "    <tr>\n",
              "      <th>2</th>\n",
              "      <td>8.099124</td>\n",
              "      <td>224.236259</td>\n",
              "      <td>19909.541732</td>\n",
              "      <td>9.275884</td>\n",
              "      <td>NaN</td>\n",
              "      <td>418.606213</td>\n",
              "      <td>16.868637</td>\n",
              "      <td>66.420093</td>\n",
              "      <td>3.055934</td>\n",
              "      <td>0</td>\n",
              "    </tr>\n",
              "    <tr>\n",
              "      <th>3</th>\n",
              "      <td>8.316766</td>\n",
              "      <td>214.373394</td>\n",
              "      <td>22018.417441</td>\n",
              "      <td>8.059332</td>\n",
              "      <td>356.886136</td>\n",
              "      <td>363.266516</td>\n",
              "      <td>18.436524</td>\n",
              "      <td>100.341674</td>\n",
              "      <td>4.628771</td>\n",
              "      <td>0</td>\n",
              "    </tr>\n",
              "    <tr>\n",
              "      <th>4</th>\n",
              "      <td>9.092223</td>\n",
              "      <td>181.101509</td>\n",
              "      <td>17978.986339</td>\n",
              "      <td>6.546600</td>\n",
              "      <td>310.135738</td>\n",
              "      <td>398.410813</td>\n",
              "      <td>11.558279</td>\n",
              "      <td>31.997993</td>\n",
              "      <td>4.075075</td>\n",
              "      <td>0</td>\n",
              "    </tr>\n",
              "    <tr>\n",
              "      <th>5</th>\n",
              "      <td>5.584087</td>\n",
              "      <td>188.313324</td>\n",
              "      <td>28748.687739</td>\n",
              "      <td>7.544869</td>\n",
              "      <td>326.678363</td>\n",
              "      <td>280.467916</td>\n",
              "      <td>8.399735</td>\n",
              "      <td>54.917862</td>\n",
              "      <td>2.559708</td>\n",
              "      <td>0</td>\n",
              "    </tr>\n",
              "    <tr>\n",
              "      <th>6</th>\n",
              "      <td>10.223862</td>\n",
              "      <td>248.071735</td>\n",
              "      <td>28749.716544</td>\n",
              "      <td>7.513408</td>\n",
              "      <td>393.663396</td>\n",
              "      <td>283.651634</td>\n",
              "      <td>13.789695</td>\n",
              "      <td>84.603556</td>\n",
              "      <td>2.672989</td>\n",
              "      <td>0</td>\n",
              "    </tr>\n",
              "    <tr>\n",
              "      <th>7</th>\n",
              "      <td>8.635849</td>\n",
              "      <td>203.361523</td>\n",
              "      <td>13672.091764</td>\n",
              "      <td>4.563009</td>\n",
              "      <td>303.309771</td>\n",
              "      <td>474.607645</td>\n",
              "      <td>12.363817</td>\n",
              "      <td>62.798309</td>\n",
              "      <td>4.401425</td>\n",
              "      <td>0</td>\n",
              "    </tr>\n",
              "    <tr>\n",
              "      <th>8</th>\n",
              "      <td>NaN</td>\n",
              "      <td>118.988579</td>\n",
              "      <td>14285.583854</td>\n",
              "      <td>7.804174</td>\n",
              "      <td>268.646941</td>\n",
              "      <td>389.375566</td>\n",
              "      <td>12.706049</td>\n",
              "      <td>53.928846</td>\n",
              "      <td>3.595017</td>\n",
              "      <td>0</td>\n",
              "    </tr>\n",
              "    <tr>\n",
              "      <th>9</th>\n",
              "      <td>11.180284</td>\n",
              "      <td>227.231469</td>\n",
              "      <td>25484.508491</td>\n",
              "      <td>9.077200</td>\n",
              "      <td>404.041635</td>\n",
              "      <td>563.885481</td>\n",
              "      <td>17.927806</td>\n",
              "      <td>71.976601</td>\n",
              "      <td>4.370562</td>\n",
              "      <td>0</td>\n",
              "    </tr>\n",
              "  </tbody>\n",
              "</table>\n",
              "</div>"
            ],
            "text/plain": [
              "          ph    Hardness        Solids  ...  Trihalomethanes  Turbidity  Potability\n",
              "0        NaN  204.890455  20791.318981  ...        86.990970   2.963135           0\n",
              "1   3.716080  129.422921  18630.057858  ...        56.329076   4.500656           0\n",
              "2   8.099124  224.236259  19909.541732  ...        66.420093   3.055934           0\n",
              "3   8.316766  214.373394  22018.417441  ...       100.341674   4.628771           0\n",
              "4   9.092223  181.101509  17978.986339  ...        31.997993   4.075075           0\n",
              "5   5.584087  188.313324  28748.687739  ...        54.917862   2.559708           0\n",
              "6  10.223862  248.071735  28749.716544  ...        84.603556   2.672989           0\n",
              "7   8.635849  203.361523  13672.091764  ...        62.798309   4.401425           0\n",
              "8        NaN  118.988579  14285.583854  ...        53.928846   3.595017           0\n",
              "9  11.180284  227.231469  25484.508491  ...        71.976601   4.370562           0\n",
              "\n",
              "[10 rows x 10 columns]"
            ]
          },
          "metadata": {},
          "execution_count": 269
        }
      ]
    },
    {
      "cell_type": "markdown",
      "metadata": {
        "id": "7QwlH9OI8z9F"
      },
      "source": [
        "##Comprensione delle feature"
      ]
    },
    {
      "cell_type": "markdown",
      "metadata": {
        "id": "At5CW_9T9z83"
      },
      "source": [
        "\n",
        "###Unità di misura:\n",
        "\n",
        "\n",
        "*  **NTU**: Nephelometric Turbidity unit\n",
        "*  **ppm**: Parti per milione\n",
        "*  **μg/L**: Microgrammi per litro\n",
        "*  **mg/L**: Milligrammi per litro\n",
        "\n",
        "###Descrizione:\n",
        "\n",
        "1. **ph**: Misura del pH dell'acqua.\n",
        "2. **Hardness**: Misura della durezza dell'acqua. Viene espressa in mg/L.\n",
        "3. **Solids**: Misura dei materiali disciolti. Viene espressa in ppm.\n",
        "4. **Chloramines**: Misura delle clorammine in ppm.\n",
        "5. **Sulfate**: Misura dei solfati in mg/L.\n",
        "6. **Conductivity**: Conduttività elettrica dell'acqua in μS/cm.\n",
        "7. **Organic_carbon**: Carbonio organico in ppm.\n",
        "8. **Trihalomethanes**: Misura dei trialometani in μg/L.\n",
        "9. **Turbidity**: Misura della torbidità in NTU.\n",
        "10. **Potability**: Indica se l'acqua è potabile, 1 significa potabile e 0 significa non potabile.\n",
        "\n"
      ]
    },
    {
      "cell_type": "markdown",
      "metadata": {
        "id": "TAUmTnzAYZxm"
      },
      "source": [
        "##Esplorazione delle feature"
      ]
    },
    {
      "cell_type": "code",
      "metadata": {
        "colab": {
          "base_uri": "https://localhost:8080/",
          "height": 295
        },
        "id": "A897GIJ7YbvP",
        "outputId": "9c58d242-0a7e-4bf8-b0dd-9628e6b8b81d"
      },
      "source": [
        "dataset.describe()"
      ],
      "execution_count": 270,
      "outputs": [
        {
          "output_type": "execute_result",
          "data": {
            "text/html": [
              "<div>\n",
              "<style scoped>\n",
              "    .dataframe tbody tr th:only-of-type {\n",
              "        vertical-align: middle;\n",
              "    }\n",
              "\n",
              "    .dataframe tbody tr th {\n",
              "        vertical-align: top;\n",
              "    }\n",
              "\n",
              "    .dataframe thead th {\n",
              "        text-align: right;\n",
              "    }\n",
              "</style>\n",
              "<table border=\"1\" class=\"dataframe\">\n",
              "  <thead>\n",
              "    <tr style=\"text-align: right;\">\n",
              "      <th></th>\n",
              "      <th>ph</th>\n",
              "      <th>Hardness</th>\n",
              "      <th>Solids</th>\n",
              "      <th>Chloramines</th>\n",
              "      <th>Sulfate</th>\n",
              "      <th>Conductivity</th>\n",
              "      <th>Organic_carbon</th>\n",
              "      <th>Trihalomethanes</th>\n",
              "      <th>Turbidity</th>\n",
              "      <th>Potability</th>\n",
              "    </tr>\n",
              "  </thead>\n",
              "  <tbody>\n",
              "    <tr>\n",
              "      <th>count</th>\n",
              "      <td>2785.000000</td>\n",
              "      <td>3276.000000</td>\n",
              "      <td>3276.000000</td>\n",
              "      <td>3276.000000</td>\n",
              "      <td>2495.000000</td>\n",
              "      <td>3276.000000</td>\n",
              "      <td>3276.000000</td>\n",
              "      <td>3114.000000</td>\n",
              "      <td>3276.000000</td>\n",
              "      <td>3276.000000</td>\n",
              "    </tr>\n",
              "    <tr>\n",
              "      <th>mean</th>\n",
              "      <td>7.080795</td>\n",
              "      <td>196.369496</td>\n",
              "      <td>22014.092526</td>\n",
              "      <td>7.122277</td>\n",
              "      <td>333.775777</td>\n",
              "      <td>426.205111</td>\n",
              "      <td>14.284970</td>\n",
              "      <td>66.396293</td>\n",
              "      <td>3.966786</td>\n",
              "      <td>0.390110</td>\n",
              "    </tr>\n",
              "    <tr>\n",
              "      <th>std</th>\n",
              "      <td>1.594320</td>\n",
              "      <td>32.879761</td>\n",
              "      <td>8768.570828</td>\n",
              "      <td>1.583085</td>\n",
              "      <td>41.416840</td>\n",
              "      <td>80.824064</td>\n",
              "      <td>3.308162</td>\n",
              "      <td>16.175008</td>\n",
              "      <td>0.780382</td>\n",
              "      <td>0.487849</td>\n",
              "    </tr>\n",
              "    <tr>\n",
              "      <th>min</th>\n",
              "      <td>0.000000</td>\n",
              "      <td>47.432000</td>\n",
              "      <td>320.942611</td>\n",
              "      <td>0.352000</td>\n",
              "      <td>129.000000</td>\n",
              "      <td>181.483754</td>\n",
              "      <td>2.200000</td>\n",
              "      <td>0.738000</td>\n",
              "      <td>1.450000</td>\n",
              "      <td>0.000000</td>\n",
              "    </tr>\n",
              "    <tr>\n",
              "      <th>25%</th>\n",
              "      <td>6.093092</td>\n",
              "      <td>176.850538</td>\n",
              "      <td>15666.690297</td>\n",
              "      <td>6.127421</td>\n",
              "      <td>307.699498</td>\n",
              "      <td>365.734414</td>\n",
              "      <td>12.065801</td>\n",
              "      <td>55.844536</td>\n",
              "      <td>3.439711</td>\n",
              "      <td>0.000000</td>\n",
              "    </tr>\n",
              "    <tr>\n",
              "      <th>50%</th>\n",
              "      <td>7.036752</td>\n",
              "      <td>196.967627</td>\n",
              "      <td>20927.833607</td>\n",
              "      <td>7.130299</td>\n",
              "      <td>333.073546</td>\n",
              "      <td>421.884968</td>\n",
              "      <td>14.218338</td>\n",
              "      <td>66.622485</td>\n",
              "      <td>3.955028</td>\n",
              "      <td>0.000000</td>\n",
              "    </tr>\n",
              "    <tr>\n",
              "      <th>75%</th>\n",
              "      <td>8.062066</td>\n",
              "      <td>216.667456</td>\n",
              "      <td>27332.762127</td>\n",
              "      <td>8.114887</td>\n",
              "      <td>359.950170</td>\n",
              "      <td>481.792304</td>\n",
              "      <td>16.557652</td>\n",
              "      <td>77.337473</td>\n",
              "      <td>4.500320</td>\n",
              "      <td>1.000000</td>\n",
              "    </tr>\n",
              "    <tr>\n",
              "      <th>max</th>\n",
              "      <td>14.000000</td>\n",
              "      <td>323.124000</td>\n",
              "      <td>61227.196008</td>\n",
              "      <td>13.127000</td>\n",
              "      <td>481.030642</td>\n",
              "      <td>753.342620</td>\n",
              "      <td>28.300000</td>\n",
              "      <td>124.000000</td>\n",
              "      <td>6.739000</td>\n",
              "      <td>1.000000</td>\n",
              "    </tr>\n",
              "  </tbody>\n",
              "</table>\n",
              "</div>"
            ],
            "text/plain": [
              "                ph     Hardness  ...    Turbidity   Potability\n",
              "count  2785.000000  3276.000000  ...  3276.000000  3276.000000\n",
              "mean      7.080795   196.369496  ...     3.966786     0.390110\n",
              "std       1.594320    32.879761  ...     0.780382     0.487849\n",
              "min       0.000000    47.432000  ...     1.450000     0.000000\n",
              "25%       6.093092   176.850538  ...     3.439711     0.000000\n",
              "50%       7.036752   196.967627  ...     3.955028     0.000000\n",
              "75%       8.062066   216.667456  ...     4.500320     1.000000\n",
              "max      14.000000   323.124000  ...     6.739000     1.000000\n",
              "\n",
              "[8 rows x 10 columns]"
            ]
          },
          "metadata": {},
          "execution_count": 270
        }
      ]
    },
    {
      "cell_type": "code",
      "metadata": {
        "colab": {
          "base_uri": "https://localhost:8080/",
          "height": 802
        },
        "id": "43dQUzNNYseG",
        "outputId": "657b554c-7947-4e49-ba75-95ce5144016b"
      },
      "source": [
        "colors = ['#009246','#fff000','#18fff9','#8f139f']\n",
        "fig, axes = plt.subplots(3, 3,figsize=(20,12))\n",
        "column = dataset.columns\n",
        "fig.suptitle('Boxplots of each variable')\n",
        "sns.boxenplot(ax=axes[0,0],x=column[0],data=dataset,color=colors[0])\n",
        "sns.boxenplot(ax=axes[0,1],x=column[1],data=dataset,color=colors[1])\n",
        "sns.boxenplot(ax=axes[0,2],x=column[2],data=dataset,color=colors[2])\n",
        "sns.boxenplot(ax=axes[1,0],x=column[3],data=dataset,color=colors[3])\n",
        "sns.boxenplot(ax=axes[1,1],x=column[4],data=dataset,color=colors[0])\n",
        "sns.boxenplot(ax=axes[1,2],x=column[5],data=dataset,color=colors[1])\n",
        "sns.boxenplot(ax=axes[2,0],x=column[6],data=dataset,color=colors[2])\n",
        "sns.boxenplot(ax=axes[2,1],x=column[7],data=dataset,color=colors[3])\n",
        "sns.boxenplot(ax=axes[2,2],x=column[8],data=dataset,color=colors[0])\n",
        "plt.show()"
      ],
      "execution_count": 271,
      "outputs": [
        {
          "output_type": "display_data",
          "data": {
            "image/png": "[encoded data removed]",
            "text/plain": [
              "<Figure size 1440x864 with 9 Axes>"
            ]
          },
          "metadata": {
            "needs_background": "light"
          }
        }
      ]
    },
    {
      "cell_type": "markdown",
      "metadata": {
        "id": "tofRqe-DmMTF"
      },
      "source": [
        "Il dataset ha alcuni valori null, vediamo quanti sono."
      ]
    },
    {
      "cell_type": "code",
      "metadata": {
        "colab": {
          "base_uri": "https://localhost:8080/"
        },
        "id": "SVPkSb6OZnk-",
        "outputId": "8230ec8e-33f9-46f3-9003-b94ecfac278f"
      },
      "source": [
        "dataset.isnull().sum()"
      ],
      "execution_count": 272,
      "outputs": [
        {
          "output_type": "execute_result",
          "data": {
            "text/plain": [
              "ph                 491\n",
              "Hardness             0\n",
              "Solids               0\n",
              "Chloramines          0\n",
              "Sulfate            781\n",
              "Conductivity         0\n",
              "Organic_carbon       0\n",
              "Trihalomethanes    162\n",
              "Turbidity            0\n",
              "Potability           0\n",
              "dtype: int64"
            ]
          },
          "metadata": {},
          "execution_count": 272
        }
      ]
    },
    {
      "cell_type": "markdown",
      "metadata": {
        "id": "lUflnEnFmQWy"
      },
      "source": [
        "Rimuoviamo i valori null."
      ]
    },
    {
      "cell_type": "code",
      "metadata": {
        "colab": {
          "base_uri": "https://localhost:8080/"
        },
        "id": "9rDjoYgzmntR",
        "outputId": "6aaace55-a4bf-4613-a95d-81efc5e17dbf"
      },
      "source": [
        "dataset.dropna(inplace=True)\n",
        "dataset.isnull().sum()"
      ],
      "execution_count": 273,
      "outputs": [
        {
          "output_type": "execute_result",
          "data": {
            "text/plain": [
              "ph                 0\n",
              "Hardness           0\n",
              "Solids             0\n",
              "Chloramines        0\n",
              "Sulfate            0\n",
              "Conductivity       0\n",
              "Organic_carbon     0\n",
              "Trihalomethanes    0\n",
              "Turbidity          0\n",
              "Potability         0\n",
              "dtype: int64"
            ]
          },
          "metadata": {},
          "execution_count": 273
        }
      ]
    },
    {
      "cell_type": "code",
      "metadata": {
        "id": "16cXH9kgnFB1",
        "colab": {
          "base_uri": "https://localhost:8080/",
          "height": 266
        },
        "outputId": "18a1ad8f-7ab8-44b2-e848-40005d8bdcd1"
      },
      "source": [
        "dataset[\"Potability\"].value_counts().plot.pie()"
      ],
      "execution_count": 274,
      "outputs": [
        {
          "output_type": "execute_result",
          "data": {
            "text/plain": [
              "<matplotlib.axes._subplots.AxesSubplot at 0x7f602a0b3450>"
            ]
          },
          "metadata": {},
          "execution_count": 274
        },
        {
          "output_type": "display_data",
          "data": {
            "image/png": "[encoded data removed]",
            "text/plain": [
              "<Figure size 432x288 with 1 Axes>"
            ]
          },
          "metadata": {}
        }
      ]
    },
    {
      "cell_type": "code",
      "metadata": {
        "colab": {
          "base_uri": "https://localhost:8080/",
          "height": 338
        },
        "id": "jFKSMTixihMM",
        "outputId": "98db664a-14fe-4d49-f45c-b33bf30856e7"
      },
      "source": [
        "corr = dataset.corr()\n",
        "mask = np.triu(np.ones_like(corr, dtype=bool))\n",
        "sns.heatmap(corr, mask=mask, cmap=\"Reds\");"
      ],
      "execution_count": 275,
      "outputs": [
        {
          "output_type": "display_data",
          "data": {
            "image/png": "[encoded data removed]",
            "text/plain": [
              "<Figure size 432x288 with 2 Axes>"
            ]
          },
          "metadata": {
            "needs_background": "light"
          }
        }
      ]
    },
    {
      "cell_type": "markdown",
      "metadata": {
        "id": "Uo3IrsVe1oAG"
      },
      "source": [
        "**Preparazione del modello**"
      ]
    },
    {
      "cell_type": "code",
      "metadata": {
        "id": "QaMFE0JW1rQa"
      },
      "source": [
        "from sklearn.model_selection import train_test_split\n",
        "from sklearn.linear_model import Perceptron\n",
        "from sklearn.pipeline import Pipeline\n",
        "from sklearn.preprocessing import StandardScaler\n",
        "from sklearn.preprocessing import MinMaxScaler\n",
        "from sklearn.preprocessing import MaxAbsScaler\n",
        "from sklearn.preprocessing import RobustScaler"
      ],
      "execution_count": 276,
      "outputs": []
    },
    {
      "cell_type": "markdown",
      "metadata": {
        "id": "RqevZCtfEWFr"
      },
      "source": [
        "SPlit in training e validation"
      ]
    },
    {
      "cell_type": "code",
      "metadata": {
        "id": "AAtxTdjyC2ng"
      },
      "source": [
        "X = dataset.drop(columns=\"Potability\")\n",
        "y = dataset[\"Potability\"]"
      ],
      "execution_count": 277,
      "outputs": []
    },
    {
      "cell_type": "code",
      "metadata": {
        "id": "R6vDGmJrAe_m"
      },
      "source": [
        "X_train, X_val, y_train, y_val = train_test_split(\n",
        "    X,y,\n",
        "    test_size = 1/3,\n",
        "    random_state = 42\n",
        ")"
      ],
      "execution_count": 278,
      "outputs": []
    },
    {
      "cell_type": "markdown",
      "metadata": {
        "id": "OBoBV5xd879z"
      },
      "source": [
        "**Perceptron non standardizzato**"
      ]
    },
    {
      "cell_type": "code",
      "metadata": {
        "id": "myrodvfb9Av-"
      },
      "source": [
        "not_std_model = Pipeline([\n",
        "                  (\"perc\", Perceptron(n_jobs=-1, random_state=42))\n",
        "])"
      ],
      "execution_count": 279,
      "outputs": []
    },
    {
      "cell_type": "code",
      "metadata": {
        "colab": {
          "base_uri": "https://localhost:8080/"
        },
        "id": "qC5sx_4Y-AkS",
        "outputId": "5c292759-db7d-4fe0-a61c-1f60ffe2b8f3"
      },
      "source": [
        "not_std_model.fit(X_train, y_train)\n",
        "print(\"R-squared coefficient:\") \n",
        "not_std_model.score(X_val, y_val)"
      ],
      "execution_count": 280,
      "outputs": [
        {
          "output_type": "stream",
          "name": "stdout",
          "text": [
            "R-squared coefficient:\n"
          ]
        },
        {
          "output_type": "execute_result",
          "data": {
            "text/plain": [
              "0.6005961251862891"
            ]
          },
          "metadata": {},
          "execution_count": 280
        }
      ]
    },
    {
      "cell_type": "markdown",
      "metadata": {
        "id": "H7eqRsjP-nuI"
      },
      "source": [
        "Standardizzando le feature il tasso di accuratezza sale leggermente. Possiamo provare la **regolarizzazione con norma L1**"
      ]
    },
    {
      "cell_type": "code",
      "metadata": {
        "id": "vN-YQVwd-vIT"
      },
      "source": [
        "std_l1_model = Pipeline([\n",
        "                      (\"scaler\", RobustScaler()),\n",
        "                      (\"perc\", Perceptron(penalty=\"l1\", alpha=0.0001, n_jobs=-1, random_state=42))\n",
        "])"
      ],
      "execution_count": 281,
      "outputs": []
    },
    {
      "cell_type": "code",
      "metadata": {
        "colab": {
          "base_uri": "https://localhost:8080/"
        },
        "id": "0u2Wf0gP_Jkj",
        "outputId": "e2e5b934-c712-497f-916f-fd192a3286ef"
      },
      "source": [
        "std_l1_model.fit(X_train, y_train)\n",
        "print(\"R-squared coefficient:\")\n",
        "std_l1_model.score(X_val, y_val)"
      ],
      "execution_count": 282,
      "outputs": [
        {
          "output_type": "stream",
          "name": "stdout",
          "text": [
            "R-squared coefficient:\n"
          ]
        },
        {
          "output_type": "execute_result",
          "data": {
            "text/plain": [
              "0.5096870342771982"
            ]
          },
          "metadata": {},
          "execution_count": 282
        }
      ]
    },
    {
      "cell_type": "markdown",
      "metadata": {
        "id": "sgy5DH0V_1LY"
      },
      "source": [
        "\n"
      ]
    },
    {
      "cell_type": "code",
      "metadata": {
        "id": "c3iWiW1OFaR1",
        "colab": {
          "base_uri": "https://localhost:8080/",
          "height": 326
        },
        "outputId": "49886e06-4694-4010-9b18-6d0edf7efcef"
      },
      "source": [
        "col_coef = pd.DataFrame(std_l1_model.named_steps[\"perc\"].coef_[0], columns=[\"coefficients\"], index=X.columns)\n",
        "col_coef"
      ],
      "execution_count": 283,
      "outputs": [
        {
          "output_type": "execute_result",
          "data": {
            "text/html": [
              "<div>\n",
              "<style scoped>\n",
              "    .dataframe tbody tr th:only-of-type {\n",
              "        vertical-align: middle;\n",
              "    }\n",
              "\n",
              "    .dataframe tbody tr th {\n",
              "        vertical-align: top;\n",
              "    }\n",
              "\n",
              "    .dataframe thead th {\n",
              "        text-align: right;\n",
              "    }\n",
              "</style>\n",
              "<table border=\"1\" class=\"dataframe\">\n",
              "  <thead>\n",
              "    <tr style=\"text-align: right;\">\n",
              "      <th></th>\n",
              "      <th>coefficients</th>\n",
              "    </tr>\n",
              "  </thead>\n",
              "  <tbody>\n",
              "    <tr>\n",
              "      <th>ph</th>\n",
              "      <td>0.000000</td>\n",
              "    </tr>\n",
              "    <tr>\n",
              "      <th>Hardness</th>\n",
              "      <td>0.000000</td>\n",
              "    </tr>\n",
              "    <tr>\n",
              "      <th>Solids</th>\n",
              "      <td>0.000000</td>\n",
              "    </tr>\n",
              "    <tr>\n",
              "      <th>Chloramines</th>\n",
              "      <td>0.000000</td>\n",
              "    </tr>\n",
              "    <tr>\n",
              "      <th>Sulfate</th>\n",
              "      <td>0.000000</td>\n",
              "    </tr>\n",
              "    <tr>\n",
              "      <th>Conductivity</th>\n",
              "      <td>-0.370895</td>\n",
              "    </tr>\n",
              "    <tr>\n",
              "      <th>Organic_carbon</th>\n",
              "      <td>-1.083397</td>\n",
              "    </tr>\n",
              "    <tr>\n",
              "      <th>Trihalomethanes</th>\n",
              "      <td>0.000000</td>\n",
              "    </tr>\n",
              "    <tr>\n",
              "      <th>Turbidity</th>\n",
              "      <td>-0.476348</td>\n",
              "    </tr>\n",
              "  </tbody>\n",
              "</table>\n",
              "</div>"
            ],
            "text/plain": [
              "                 coefficients\n",
              "ph                   0.000000\n",
              "Hardness             0.000000\n",
              "Solids               0.000000\n",
              "Chloramines          0.000000\n",
              "Sulfate              0.000000\n",
              "Conductivity        -0.370895\n",
              "Organic_carbon      -1.083397\n",
              "Trihalomethanes      0.000000\n",
              "Turbidity           -0.476348"
            ]
          },
          "metadata": {},
          "execution_count": 283
        }
      ]
    },
    {
      "cell_type": "code",
      "metadata": {
        "id": "cjTa-GSlPHnG",
        "colab": {
          "base_uri": "https://localhost:8080/"
        },
        "outputId": "0d5dc4e9-e2b9-468c-a383-7e3c160f93dd"
      },
      "source": [
        "col_coef[col_coef.coefficients == 0].size"
      ],
      "execution_count": 284,
      "outputs": [
        {
          "output_type": "execute_result",
          "data": {
            "text/plain": [
              "6"
            ]
          },
          "metadata": {},
          "execution_count": 284
        }
      ]
    },
    {
      "cell_type": "code",
      "metadata": {
        "id": "0jNHEu-fPJGc"
      },
      "source": [
        "#dataset.drop(columns=col_coef[col_coef.coefficients == 0].index, inplace=True)"
      ],
      "execution_count": 285,
      "outputs": []
    },
    {
      "cell_type": "code",
      "metadata": {
        "id": "0s3KhEpSPR_F"
      },
      "source": [
        "X = dataset.drop(columns=\"Potability\")\n",
        "y = dataset[\"Potability\"]"
      ],
      "execution_count": 286,
      "outputs": []
    },
    {
      "cell_type": "code",
      "metadata": {
        "id": "FAkE8KhvPYjI",
        "colab": {
          "base_uri": "https://localhost:8080/",
          "height": 203
        },
        "outputId": "3f30bb76-bd2b-4c62-face-03f0164490ed"
      },
      "source": [
        "dataset.head()"
      ],
      "execution_count": 287,
      "outputs": [
        {
          "output_type": "execute_result",
          "data": {
            "text/html": [
              "<div>\n",
              "<style scoped>\n",
              "    .dataframe tbody tr th:only-of-type {\n",
              "        vertical-align: middle;\n",
              "    }\n",
              "\n",
              "    .dataframe tbody tr th {\n",
              "        vertical-align: top;\n",
              "    }\n",
              "\n",
              "    .dataframe thead th {\n",
              "        text-align: right;\n",
              "    }\n",
              "</style>\n",
              "<table border=\"1\" class=\"dataframe\">\n",
              "  <thead>\n",
              "    <tr style=\"text-align: right;\">\n",
              "      <th></th>\n",
              "      <th>ph</th>\n",
              "      <th>Hardness</th>\n",
              "      <th>Solids</th>\n",
              "      <th>Chloramines</th>\n",
              "      <th>Sulfate</th>\n",
              "      <th>Conductivity</th>\n",
              "      <th>Organic_carbon</th>\n",
              "      <th>Trihalomethanes</th>\n",
              "      <th>Turbidity</th>\n",
              "      <th>Potability</th>\n",
              "    </tr>\n",
              "  </thead>\n",
              "  <tbody>\n",
              "    <tr>\n",
              "      <th>3</th>\n",
              "      <td>8.316766</td>\n",
              "      <td>214.373394</td>\n",
              "      <td>22018.417441</td>\n",
              "      <td>8.059332</td>\n",
              "      <td>356.886136</td>\n",
              "      <td>363.266516</td>\n",
              "      <td>18.436524</td>\n",
              "      <td>100.341674</td>\n",
              "      <td>4.628771</td>\n",
              "      <td>0</td>\n",
              "    </tr>\n",
              "    <tr>\n",
              "      <th>4</th>\n",
              "      <td>9.092223</td>\n",
              "      <td>181.101509</td>\n",
              "      <td>17978.986339</td>\n",
              "      <td>6.546600</td>\n",
              "      <td>310.135738</td>\n",
              "      <td>398.410813</td>\n",
              "      <td>11.558279</td>\n",
              "      <td>31.997993</td>\n",
              "      <td>4.075075</td>\n",
              "      <td>0</td>\n",
              "    </tr>\n",
              "    <tr>\n",
              "      <th>5</th>\n",
              "      <td>5.584087</td>\n",
              "      <td>188.313324</td>\n",
              "      <td>28748.687739</td>\n",
              "      <td>7.544869</td>\n",
              "      <td>326.678363</td>\n",
              "      <td>280.467916</td>\n",
              "      <td>8.399735</td>\n",
              "      <td>54.917862</td>\n",
              "      <td>2.559708</td>\n",
              "      <td>0</td>\n",
              "    </tr>\n",
              "    <tr>\n",
              "      <th>6</th>\n",
              "      <td>10.223862</td>\n",
              "      <td>248.071735</td>\n",
              "      <td>28749.716544</td>\n",
              "      <td>7.513408</td>\n",
              "      <td>393.663396</td>\n",
              "      <td>283.651634</td>\n",
              "      <td>13.789695</td>\n",
              "      <td>84.603556</td>\n",
              "      <td>2.672989</td>\n",
              "      <td>0</td>\n",
              "    </tr>\n",
              "    <tr>\n",
              "      <th>7</th>\n",
              "      <td>8.635849</td>\n",
              "      <td>203.361523</td>\n",
              "      <td>13672.091764</td>\n",
              "      <td>4.563009</td>\n",
              "      <td>303.309771</td>\n",
              "      <td>474.607645</td>\n",
              "      <td>12.363817</td>\n",
              "      <td>62.798309</td>\n",
              "      <td>4.401425</td>\n",
              "      <td>0</td>\n",
              "    </tr>\n",
              "  </tbody>\n",
              "</table>\n",
              "</div>"
            ],
            "text/plain": [
              "          ph    Hardness        Solids  ...  Trihalomethanes  Turbidity  Potability\n",
              "3   8.316766  214.373394  22018.417441  ...       100.341674   4.628771           0\n",
              "4   9.092223  181.101509  17978.986339  ...        31.997993   4.075075           0\n",
              "5   5.584087  188.313324  28748.687739  ...        54.917862   2.559708           0\n",
              "6  10.223862  248.071735  28749.716544  ...        84.603556   2.672989           0\n",
              "7   8.635849  203.361523  13672.091764  ...        62.798309   4.401425           0\n",
              "\n",
              "[5 rows x 10 columns]"
            ]
          },
          "metadata": {},
          "execution_count": 287
        }
      ]
    },
    {
      "cell_type": "code",
      "metadata": {
        "id": "_Aa3ETl0P7MA"
      },
      "source": [
        "index = [\"not potable\", \"potable\"]\n",
        "classes = [\"not Potable[P]\", \"Potable[P]\"]\n",
        "#pd.DataFrame(confusion_matrix(y_val, std_l1_model.predict(X_val)), columns=classes, index = index)"
      ],
      "execution_count": 288,
      "outputs": []
    },
    {
      "cell_type": "markdown",
      "metadata": {
        "id": "El52tO86GmbE"
      },
      "source": [
        "# Bilanciamento classi e Scaling dei dati\n"
      ]
    },
    {
      "cell_type": "code",
      "metadata": {
        "id": "qnfYUWqpIYbN"
      },
      "source": [
        "from sklearn.metrics import confusion_matrix\n",
        "from sklearn.metrics import precision_score, recall_score, f1_score\n",
        "from sklearn.metrics import mean_squared_error\n",
        "from imblearn.over_sampling import SMOTE\n",
        "from imblearn.under_sampling import RandomUnderSampler"
      ],
      "execution_count": 289,
      "outputs": []
    },
    {
      "cell_type": "code",
      "metadata": {
        "id": "BUH1Le_3GwWQ"
      },
      "source": [
        "X_train, X_val, y_train, y_val = train_test_split(X, y, test_size=1/3, random_state=42)"
      ],
      "execution_count": 290,
      "outputs": []
    },
    {
      "cell_type": "code",
      "metadata": {
        "colab": {
          "base_uri": "https://localhost:8080/",
          "height": 297
        },
        "id": "Lxa1jPlsJzmA",
        "outputId": "8b742b57-a20e-4c2e-9ef4-d742302122c7"
      },
      "source": [
        "sns.countplot(x=y_train)"
      ],
      "execution_count": 291,
      "outputs": [
        {
          "output_type": "execute_result",
          "data": {
            "text/plain": [
              "<matplotlib.axes._subplots.AxesSubplot at 0x7f6029f37a10>"
            ]
          },
          "metadata": {},
          "execution_count": 291
        },
        {
          "output_type": "display_data",
          "data": {
            "image/png": "[encoded data removed]",
            "text/plain": [
              "<Figure size 432x288 with 1 Axes>"
            ]
          },
          "metadata": {
            "needs_background": "light"
          }
        }
      ]
    },
    {
      "cell_type": "markdown",
      "metadata": {
        "id": "iWxgXFdvKR0t"
      },
      "source": [
        "Faremo un under-sample della maggioranza e un over-sample della minoranza.\n",
        "Qui l'under-sample."
      ]
    },
    {
      "cell_type": "code",
      "metadata": {
        "colab": {
          "base_uri": "https://localhost:8080/"
        },
        "id": "36I8JVGJJab9",
        "outputId": "870b9061-a4bb-48fa-96af-e2f37945a5f4"
      },
      "source": [
        "rus = RandomUnderSampler(sampling_strategy=0.75)\n",
        "X_train,y_train = rus.fit_resample(X_train,y_train)"
      ],
      "execution_count": 292,
      "outputs": [
        {
          "output_type": "stream",
          "name": "stderr",
          "text": [
            "/usr/local/lib/python3.7/dist-packages/sklearn/utils/deprecation.py:87: FutureWarning: Function safe_indexing is deprecated; safe_indexing is deprecated in version 0.22 and will be removed in version 0.24.\n",
            "  warnings.warn(msg, category=FutureWarning)\n"
          ]
        }
      ]
    },
    {
      "cell_type": "code",
      "metadata": {
        "colab": {
          "base_uri": "https://localhost:8080/",
          "height": 282
        },
        "id": "0_U6nNyEJ75o",
        "outputId": "3c48e585-95cc-4c09-b4c8-935a26b091c2"
      },
      "source": [
        "sns.countplot(x=y_train)"
      ],
      "execution_count": 293,
      "outputs": [
        {
          "output_type": "execute_result",
          "data": {
            "text/plain": [
              "<matplotlib.axes._subplots.AxesSubplot at 0x7f6029cd8350>"
            ]
          },
          "metadata": {},
          "execution_count": 293
        },
        {
          "output_type": "display_data",
          "data": {
            "image/png": "[encoded data removed]",
            "text/plain": [
              "<Figure size 432x288 with 1 Axes>"
            ]
          },
          "metadata": {
            "needs_background": "light"
          }
        }
      ]
    },
    {
      "cell_type": "markdown",
      "metadata": {
        "id": "2R1a_jtnJQdQ"
      },
      "source": [
        "Over-sample della minoranza tramite SMOTE.\n",
        "\n"
      ]
    },
    {
      "cell_type": "code",
      "metadata": {
        "colab": {
          "base_uri": "https://localhost:8080/"
        },
        "id": "PDHoM0RyIRZh",
        "outputId": "12c3becc-1c5d-4041-d804-5099afa3cdb9"
      },
      "source": [
        "smote = SMOTE(sampling_strategy='minority')\n",
        "X_train,y_train = smote.fit_resample(X_train,y_train)"
      ],
      "execution_count": 294,
      "outputs": [
        {
          "output_type": "stream",
          "name": "stderr",
          "text": [
            "/usr/local/lib/python3.7/dist-packages/sklearn/utils/deprecation.py:87: FutureWarning: Function safe_indexing is deprecated; safe_indexing is deprecated in version 0.22 and will be removed in version 0.24.\n",
            "  warnings.warn(msg, category=FutureWarning)\n"
          ]
        }
      ]
    },
    {
      "cell_type": "code",
      "metadata": {
        "colab": {
          "base_uri": "https://localhost:8080/",
          "height": 282
        },
        "id": "rI8vPk6aKkg2",
        "outputId": "725fd987-60dd-47fa-d7bc-6d7aba58264c"
      },
      "source": [
        "sns.countplot(x=y_train)"
      ],
      "execution_count": 295,
      "outputs": [
        {
          "output_type": "execute_result",
          "data": {
            "text/plain": [
              "<matplotlib.axes._subplots.AxesSubplot at 0x7f602a633290>"
            ]
          },
          "metadata": {},
          "execution_count": 295
        },
        {
          "output_type": "display_data",
          "data": {
            "image/png": "[encoded data removed]",
            "text/plain": [
              "<Figure size 432x288 with 1 Axes>"
            ]
          },
          "metadata": {
            "needs_background": "light"
          }
        }
      ]
    },
    {
      "cell_type": "markdown",
      "metadata": {
        "id": "sxs7Wuu3LSNr"
      },
      "source": [
        "# **Modellazione**"
      ]
    },
    {
      "cell_type": "code",
      "metadata": {
        "id": "jQ7T-YsTT7Me"
      },
      "source": [
        "from sklearn.model_selection import StratifiedKFold\n",
        "from sklearn.model_selection import GridSearchCV\n",
        "from sklearn.svm import LinearSVC\n",
        "from sklearn.tree import DecisionTreeClassifier\n",
        "from sklearn.linear_model import LogisticRegression\n",
        "from sklearn.ensemble import RandomForestClassifier"
      ],
      "execution_count": 296,
      "outputs": []
    },
    {
      "cell_type": "markdown",
      "metadata": {
        "id": "-svy9_0uQUWg"
      },
      "source": [
        "Creiamo dei dizionari per memorizzare informazioni sui modelli"
      ]
    },
    {
      "cell_type": "code",
      "metadata": {
        "id": "2eD0OeZjLV0D"
      },
      "source": [
        "scores = {}\n",
        "f1_scores = {}\n",
        "precision = {}\n",
        "recall = {}"
      ],
      "execution_count": 297,
      "outputs": []
    },
    {
      "cell_type": "markdown",
      "metadata": {
        "id": "KFdi2TCGRQQR"
      },
      "source": [
        "**Perceptron**"
      ]
    },
    {
      "cell_type": "code",
      "metadata": {
        "id": "IySwArPDUAlC"
      },
      "source": [
        "model = Pipeline([\n",
        "    (\"scaler\", RobustScaler()),\n",
        "    (\"perc\", Perceptron(n_jobs=-1, random_state=42))\n",
        "])\n",
        "\n",
        "param = {\n",
        "    \"scaler\": [None, StandardScaler(), RobustScaler(), MinMaxScaler()],\n",
        "    \"perc__penalty\": [\"l2\", \"l1\", \"elasticnet\"],\n",
        "    \"perc__alpha\": np.logspace(-4, 0, 5),\n",
        "    \"perc__fit_intercept\": [False, True]\n",
        "}"
      ],
      "execution_count": 298,
      "outputs": []
    },
    {
      "cell_type": "code",
      "metadata": {
        "id": "ZDtsl4HPbUO8"
      },
      "source": [
        "skf = StratifiedKFold(5, shuffle=True, random_state=42)"
      ],
      "execution_count": 299,
      "outputs": []
    },
    {
      "cell_type": "code",
      "metadata": {
        "id": "L9FdXllzbJru",
        "colab": {
          "base_uri": "https://localhost:8080/"
        },
        "outputId": "0d97a7f0-6a0b-447b-e88d-4898a3813164"
      },
      "source": [
        "perc_gv = GridSearchCV(model, param, cv=skf, n_jobs=-1)\n",
        "perc_gv.fit(X_train, y_train)"
      ],
      "execution_count": 300,
      "outputs": [
        {
          "output_type": "execute_result",
          "data": {
            "text/plain": [
              "GridSearchCV(cv=StratifiedKFold(n_splits=5, random_state=42, shuffle=True),\n",
              "             error_score=nan,\n",
              "             estimator=Pipeline(memory=None,\n",
              "                                steps=[('scaler',\n",
              "                                        RobustScaler(copy=True,\n",
              "                                                     quantile_range=(25.0,\n",
              "                                                                     75.0),\n",
              "                                                     with_centering=True,\n",
              "                                                     with_scaling=True)),\n",
              "                                       ('perc',\n",
              "                                        Perceptron(alpha=0.0001,\n",
              "                                                   class_weight=None,\n",
              "                                                   early_stopping=False,\n",
              "                                                   eta0=1.0, fit_intercept=True,\n",
              "                                                   max_iter=1000,\n",
              "                                                   n_iter_no_...\n",
              "                         'perc__fit_intercept': [False, True],\n",
              "                         'perc__penalty': ['l2', 'l1', 'elasticnet'],\n",
              "                         'scaler': [None,\n",
              "                                    StandardScaler(copy=True, with_mean=True,\n",
              "                                                   with_std=True),\n",
              "                                    RobustScaler(copy=True,\n",
              "                                                 quantile_range=(25.0, 75.0),\n",
              "                                                 with_centering=True,\n",
              "                                                 with_scaling=True),\n",
              "                                    MinMaxScaler(copy=True,\n",
              "                                                 feature_range=(0, 1))]},\n",
              "             pre_dispatch='2*n_jobs', refit=True, return_train_score=False,\n",
              "             scoring=None, verbose=0)"
            ]
          },
          "metadata": {},
          "execution_count": 300
        }
      ]
    },
    {
      "cell_type": "code",
      "metadata": {
        "id": "GX4NtNc_b7Dj",
        "colab": {
          "base_uri": "https://localhost:8080/"
        },
        "outputId": "4f382e76-14d9-451c-8151-3ba22b9318aa"
      },
      "source": [
        "print(\"Punteggio migliore: {score}\".format(score=perc_gv.score(X_val, y_val)));\n",
        "print(\"F1 score: {score}\".format(score=f1_score(y_val, perc_gv.predict(X_val), average=\"binary\")));\n",
        "print(\"Precision score: {score}\".format(score=precision_score(y_val, perc_gv.predict(X_val))))\n",
        "print(\"Recall score: {score}\".format(score=recall_score(y_val, perc_gv.predict(X_val))))\n",
        "print(\"Parametri migliori: {params}\".format(params=perc_gv.best_params_))\n",
        "\n",
        "scores[\"perceptron\"] = perc_gv.score(X_val, y_val);\n",
        "f1_scores[\"perceptron\"] = f1_score(y_val, perc_gv.predict(X_val), average=\"binary\")\n",
        "precision[\"perceptron\"] = precision_score(y_val, perc_gv.predict(X_val))\n",
        "recall[\"perceptron\"] = recall_score(y_val, perc_gv.predict(X_val))"
      ],
      "execution_count": 301,
      "outputs": [
        {
          "output_type": "stream",
          "name": "stdout",
          "text": [
            "Punteggio migliore: 0.6005961251862891\n",
            "F1 score: 0.0\n",
            "Precision score: 0.0\n",
            "Recall score: 0.0\n",
            "Parametri migliori: {'perc__alpha': 0.0001, 'perc__fit_intercept': False, 'perc__penalty': 'l1', 'scaler': RobustScaler(copy=True, quantile_range=(25.0, 75.0), with_centering=True,\n",
            "             with_scaling=True)}\n"
          ]
        },
        {
          "output_type": "stream",
          "name": "stderr",
          "text": [
            "/usr/local/lib/python3.7/dist-packages/sklearn/metrics/_classification.py:1272: UndefinedMetricWarning: Precision is ill-defined and being set to 0.0 due to no predicted samples. Use `zero_division` parameter to control this behavior.\n",
            "  _warn_prf(average, modifier, msg_start, len(result))\n",
            "/usr/local/lib/python3.7/dist-packages/sklearn/metrics/_classification.py:1272: UndefinedMetricWarning: Precision is ill-defined and being set to 0.0 due to no predicted samples. Use `zero_division` parameter to control this behavior.\n",
            "  _warn_prf(average, modifier, msg_start, len(result))\n"
          ]
        }
      ]
    },
    {
      "cell_type": "code",
      "metadata": {
        "id": "DRlQzdy5jsRa",
        "colab": {
          "base_uri": "https://localhost:8080/",
          "height": 110
        },
        "outputId": "320913f4-a602-41c6-f6aa-7dd9bbd85b6e"
      },
      "source": [
        "index = [\"Not potable\", \"Potable\"]\n",
        "classes = [\"Not potable[P]\", \"Potable[P]\"]\n",
        "perc_conf = pd.DataFrame(confusion_matrix(y, perc_gv.predict(X)), columns=classes, index = index)\n",
        "perc_conf"
      ],
      "execution_count": 302,
      "outputs": [
        {
          "output_type": "execute_result",
          "data": {
            "text/html": [
              "<div>\n",
              "<style scoped>\n",
              "    .dataframe tbody tr th:only-of-type {\n",
              "        vertical-align: middle;\n",
              "    }\n",
              "\n",
              "    .dataframe tbody tr th {\n",
              "        vertical-align: top;\n",
              "    }\n",
              "\n",
              "    .dataframe thead th {\n",
              "        text-align: right;\n",
              "    }\n",
              "</style>\n",
              "<table border=\"1\" class=\"dataframe\">\n",
              "  <thead>\n",
              "    <tr style=\"text-align: right;\">\n",
              "      <th></th>\n",
              "      <th>Not potable[P]</th>\n",
              "      <th>Potable[P]</th>\n",
              "    </tr>\n",
              "  </thead>\n",
              "  <tbody>\n",
              "    <tr>\n",
              "      <th>Not potable</th>\n",
              "      <td>1200</td>\n",
              "      <td>0</td>\n",
              "    </tr>\n",
              "    <tr>\n",
              "      <th>Potable</th>\n",
              "      <td>811</td>\n",
              "      <td>0</td>\n",
              "    </tr>\n",
              "  </tbody>\n",
              "</table>\n",
              "</div>"
            ],
            "text/plain": [
              "             Not potable[P]  Potable[P]\n",
              "Not potable            1200           0\n",
              "Potable                 811           0"
            ]
          },
          "metadata": {},
          "execution_count": 302
        }
      ]
    },
    {
      "cell_type": "markdown",
      "metadata": {
        "id": "LWGLNIsKlnSK"
      },
      "source": [
        "**Regressione Logistica**"
      ]
    },
    {
      "cell_type": "code",
      "metadata": {
        "id": "B5DoUtax8DaA"
      },
      "source": [
        "log_model = Pipeline([\n",
        "    (\"scaler\", StandardScaler()),\n",
        "    (\"log_reg\", LogisticRegression(solver='saga', random_state=42))\n",
        "])\n",
        "\n",
        "log_grid = {\n",
        "    \"scaler\": [None, StandardScaler(), RobustScaler(), MinMaxScaler()],\n",
        "    \"log_reg__penalty\": [\"l2\", \"l1\"],\n",
        "    \"log_reg__C\": np.logspace(-3, 3, 10),\n",
        "    \"log_reg__fit_intercept\": [False, True]\n",
        "}"
      ],
      "execution_count": 303,
      "outputs": []
    },
    {
      "cell_type": "code",
      "metadata": {
        "id": "U7D7Chu_8SMZ",
        "colab": {
          "base_uri": "https://localhost:8080/"
        },
        "outputId": "caa8e989-0fdc-4b71-e683-512ced5b76b0"
      },
      "source": [
        "skf = StratifiedKFold(5, shuffle=True, random_state=42)\n",
        "log_gv = GridSearchCV(log_model, log_grid, cv=skf, n_jobs=-1)\n",
        "log_gv.fit(X_train, y_train)"
      ],
      "execution_count": 304,
      "outputs": [
        {
          "output_type": "execute_result",
          "data": {
            "text/plain": [
              "GridSearchCV(cv=StratifiedKFold(n_splits=5, random_state=42, shuffle=True),\n",
              "             error_score=nan,\n",
              "             estimator=Pipeline(memory=None,\n",
              "                                steps=[('scaler',\n",
              "                                        StandardScaler(copy=True,\n",
              "                                                       with_mean=True,\n",
              "                                                       with_std=True)),\n",
              "                                       ('log_reg',\n",
              "                                        LogisticRegression(C=1.0,\n",
              "                                                           class_weight=None,\n",
              "                                                           dual=False,\n",
              "                                                           fit_intercept=True,\n",
              "                                                           intercept_scaling=1,\n",
              "                                                           l1_ratio=None,\n",
              "                                                           max_iter=100,\n",
              "                                                           multi_class='auto',\n",
              "                                                           n_jobs=...\n",
              "                         'log_reg__fit_intercept': [False, True],\n",
              "                         'log_reg__penalty': ['l2', 'l1'],\n",
              "                         'scaler': [None,\n",
              "                                    StandardScaler(copy=True, with_mean=True,\n",
              "                                                   with_std=True),\n",
              "                                    RobustScaler(copy=True,\n",
              "                                                 quantile_range=(25.0, 75.0),\n",
              "                                                 with_centering=True,\n",
              "                                                 with_scaling=True),\n",
              "                                    MinMaxScaler(copy=True,\n",
              "                                                 feature_range=(0, 1))]},\n",
              "             pre_dispatch='2*n_jobs', refit=True, return_train_score=False,\n",
              "             scoring=None, verbose=0)"
            ]
          },
          "metadata": {},
          "execution_count": 304
        }
      ]
    },
    {
      "cell_type": "code",
      "metadata": {
        "id": "dBzp1mma8XOb",
        "colab": {
          "base_uri": "https://localhost:8080/"
        },
        "outputId": "71793825-9977-4efa-98c9-f974046ed9e1"
      },
      "source": [
        "print(\"Punteggio migliore: {score}\".format(score=log_gv.score(X_val, y_val)));\n",
        "print(\"F1 score: {score}\".format(score=f1_score(y_val, log_gv.predict(X_val), average=\"binary\")));\n",
        "print(\"Precision score: {score}\".format(score=precision_score(y_val, log_gv.predict(X_val))))\n",
        "print(\"Recall score: {score}\".format(score=recall_score(y_val, log_gv.predict(X_val))))\n",
        "print(\"Parametri migliori: {params}\".format(params=log_gv.best_params_))\n",
        "\n",
        "scores[\"logistic\"] = log_gv.score(X_val, y_val);\n",
        "f1_scores[\"logistic\"] = f1_score(y_val, log_gv.predict(X_val), average=\"binary\")\n",
        "precision[\"logistic\"] = precision_score(y_val, log_gv.predict(X_val))\n",
        "recall[\"logistic\"] = recall_score(y_val, log_gv.predict(X_val))"
      ],
      "execution_count": 305,
      "outputs": [
        {
          "output_type": "stream",
          "name": "stdout",
          "text": [
            "Punteggio migliore: 0.4828614008941878\n",
            "F1 score: 0.4128595600676819\n",
            "Precision score: 0.37770897832817335\n",
            "Recall score: 0.4552238805970149\n",
            "Parametri migliori: {'log_reg__C': 0.001, 'log_reg__fit_intercept': True, 'log_reg__penalty': 'l2', 'scaler': MinMaxScaler(copy=True, feature_range=(0, 1))}\n"
          ]
        }
      ]
    },
    {
      "cell_type": "code",
      "metadata": {
        "id": "vkkIkLVs3OUK",
        "colab": {
          "base_uri": "https://localhost:8080/",
          "height": 110
        },
        "outputId": "70b33522-999f-4895-95e0-81a5b521bdc9"
      },
      "source": [
        "index = [\"Not potable\", \"Potable\"]\n",
        "classes = [\"Not potable[P]\", \"Potable[P]\"]\n",
        "perc_conf = pd.DataFrame(confusion_matrix(y, log_gv.predict(X)), columns=classes, index = index)\n",
        "perc_conf"
      ],
      "execution_count": 306,
      "outputs": [
        {
          "output_type": "execute_result",
          "data": {
            "text/html": [
              "<div>\n",
              "<style scoped>\n",
              "    .dataframe tbody tr th:only-of-type {\n",
              "        vertical-align: middle;\n",
              "    }\n",
              "\n",
              "    .dataframe tbody tr th {\n",
              "        vertical-align: top;\n",
              "    }\n",
              "\n",
              "    .dataframe thead th {\n",
              "        text-align: right;\n",
              "    }\n",
              "</style>\n",
              "<table border=\"1\" class=\"dataframe\">\n",
              "  <thead>\n",
              "    <tr style=\"text-align: right;\">\n",
              "      <th></th>\n",
              "      <th>Not potable[P]</th>\n",
              "      <th>Potable[P]</th>\n",
              "    </tr>\n",
              "  </thead>\n",
              "  <tbody>\n",
              "    <tr>\n",
              "      <th>Not potable</th>\n",
              "      <td>642</td>\n",
              "      <td>558</td>\n",
              "    </tr>\n",
              "    <tr>\n",
              "      <th>Potable</th>\n",
              "      <td>415</td>\n",
              "      <td>396</td>\n",
              "    </tr>\n",
              "  </tbody>\n",
              "</table>\n",
              "</div>"
            ],
            "text/plain": [
              "             Not potable[P]  Potable[P]\n",
              "Not potable             642         558\n",
              "Potable                 415         396"
            ]
          },
          "metadata": {},
          "execution_count": 306
        }
      ]
    },
    {
      "cell_type": "markdown",
      "metadata": {
        "id": "aVg_0bBc-eTK"
      },
      "source": [
        "**SVM**"
      ]
    },
    {
      "cell_type": "code",
      "metadata": {
        "id": "d2FBnQRj-guO"
      },
      "source": [
        "svc_model = Pipeline([\n",
        "    (\"scaler\", StandardScaler()),\n",
        "    (\"svc\", LinearSVC(dual=False, random_state=42))\n",
        "])\n",
        "\n",
        "svc_grid = {\n",
        "    \"scaler\": [None, StandardScaler()],\n",
        "    \"svc__penalty\": [\"l2\", \"l1\"],\n",
        "    \"svc__loss\": [\"hinge\", \"squared_hinge\"],\n",
        "    \"svc__fit_intercept\": [False, True],\n",
        "    \"svc__class_weight\": [None, \"balanced\"],\n",
        "    \"svc__C\": np.logspace(-3, 3, 10)\n",
        "}"
      ],
      "execution_count": 307,
      "outputs": []
    },
    {
      "cell_type": "code",
      "metadata": {
        "id": "LmBeL5-M-0hG",
        "colab": {
          "base_uri": "https://localhost:8080/"
        },
        "outputId": "80976d79-09e6-4d91-d82b-0df577a95b0b"
      },
      "source": [
        "skf = StratifiedKFold(5, shuffle=True, random_state=42)\n",
        "svc_gv = GridSearchCV(svc_model, svc_grid, cv=skf, n_jobs=-1)\n",
        "svc_gv.fit(X_train, y_train)"
      ],
      "execution_count": 308,
      "outputs": [
        {
          "output_type": "execute_result",
          "data": {
            "text/plain": [
              "GridSearchCV(cv=StratifiedKFold(n_splits=5, random_state=42, shuffle=True),\n",
              "             error_score=nan,\n",
              "             estimator=Pipeline(memory=None,\n",
              "                                steps=[('scaler',\n",
              "                                        StandardScaler(copy=True,\n",
              "                                                       with_mean=True,\n",
              "                                                       with_std=True)),\n",
              "                                       ('svc',\n",
              "                                        LinearSVC(C=1.0, class_weight=None,\n",
              "                                                  dual=False,\n",
              "                                                  fit_intercept=True,\n",
              "                                                  intercept_scaling=1,\n",
              "                                                  loss='squared_hinge',\n",
              "                                                  max_iter=1000,\n",
              "                                                  multi_class='ovr',\n",
              "                                                  penalty='l2',...\n",
              "                         'svc__C': array([1.00000000e-03, 4.64158883e-03, 2.15443469e-02, 1.00000000e-01,\n",
              "       4.64158883e-01, 2.15443469e+00, 1.00000000e+01, 4.64158883e+01,\n",
              "       2.15443469e+02, 1.00000000e+03]),\n",
              "                         'svc__class_weight': [None, 'balanced'],\n",
              "                         'svc__fit_intercept': [False, True],\n",
              "                         'svc__loss': ['hinge', 'squared_hinge'],\n",
              "                         'svc__penalty': ['l2', 'l1']},\n",
              "             pre_dispatch='2*n_jobs', refit=True, return_train_score=False,\n",
              "             scoring=None, verbose=0)"
            ]
          },
          "metadata": {},
          "execution_count": 308
        }
      ]
    },
    {
      "cell_type": "code",
      "metadata": {
        "id": "de39o9to_PCt",
        "colab": {
          "base_uri": "https://localhost:8080/"
        },
        "outputId": "c1f70f3e-91e6-4ad9-afbb-63693172b8b2"
      },
      "source": [
        "print(\"Punteggio migliore: {score}\".format(score=svc_gv.score(X_val, y_val)));\n",
        "print(\"F1 score: {score}\".format(score=f1_score(y_val, svc_gv.predict(X_val), average=\"binary\")));\n",
        "print(\"Precision score: {score}\".format(score=precision_score(y_val, svc_gv.predict(X_val))))\n",
        "print(\"Recall score: {score}\".format(score=recall_score(y_val, svc_gv.predict(X_val))))\n",
        "print(\"Parametri migliori: {params}\".format(params=svc_gv.best_params_))\n",
        "\n",
        "scores[\"svc\"] = svc_gv.score(X_val, y_val);\n",
        "f1_scores[\"svc\"] = f1_score(y_val, svc_gv.predict(X_val), average=\"binary\")\n",
        "precision[\"svc\"] = precision_score(y_val, svc_gv.predict(X_val))\n",
        "recall[\"svc\"] = recall_score(y_val, svc_gv.predict(X_val))"
      ],
      "execution_count": 309,
      "outputs": [
        {
          "output_type": "stream",
          "name": "stdout",
          "text": [
            "Punteggio migliore: 0.46646795827123694\n",
            "F1 score: 0.42258064516129035\n",
            "Precision score: 0.3721590909090909\n",
            "Recall score: 0.48880597014925375\n",
            "Parametri migliori: {'scaler': None, 'svc__C': 0.004641588833612777, 'svc__class_weight': 'balanced', 'svc__fit_intercept': True, 'svc__loss': 'squared_hinge', 'svc__penalty': 'l2'}\n"
          ]
        }
      ]
    },
    {
      "cell_type": "code",
      "metadata": {
        "id": "zo1iecBl3W0m",
        "colab": {
          "base_uri": "https://localhost:8080/",
          "height": 110
        },
        "outputId": "bded7e8d-c257-4e7f-826f-0cace237345e"
      },
      "source": [
        "index = [\"Not potable\", \"Potable\"]\n",
        "classes = [\"Not potable[P]\", \"Potable[P]\"]\n",
        "perc_conf = pd.DataFrame(confusion_matrix(y_val, svc_gv.predict(X_val)), columns=classes, index = index)\n",
        "perc_conf"
      ],
      "execution_count": 310,
      "outputs": [
        {
          "output_type": "execute_result",
          "data": {
            "text/html": [
              "<div>\n",
              "<style scoped>\n",
              "    .dataframe tbody tr th:only-of-type {\n",
              "        vertical-align: middle;\n",
              "    }\n",
              "\n",
              "    .dataframe tbody tr th {\n",
              "        vertical-align: top;\n",
              "    }\n",
              "\n",
              "    .dataframe thead th {\n",
              "        text-align: right;\n",
              "    }\n",
              "</style>\n",
              "<table border=\"1\" class=\"dataframe\">\n",
              "  <thead>\n",
              "    <tr style=\"text-align: right;\">\n",
              "      <th></th>\n",
              "      <th>Not potable[P]</th>\n",
              "      <th>Potable[P]</th>\n",
              "    </tr>\n",
              "  </thead>\n",
              "  <tbody>\n",
              "    <tr>\n",
              "      <th>Not potable</th>\n",
              "      <td>182</td>\n",
              "      <td>221</td>\n",
              "    </tr>\n",
              "    <tr>\n",
              "      <th>Potable</th>\n",
              "      <td>137</td>\n",
              "      <td>131</td>\n",
              "    </tr>\n",
              "  </tbody>\n",
              "</table>\n",
              "</div>"
            ],
            "text/plain": [
              "             Not potable[P]  Potable[P]\n",
              "Not potable             182         221\n",
              "Potable                 137         131"
            ]
          },
          "metadata": {},
          "execution_count": 310
        }
      ]
    },
    {
      "cell_type": "markdown",
      "metadata": {
        "id": "i2knEhbFbLhs"
      },
      "source": [
        "**Decision tree**"
      ]
    },
    {
      "cell_type": "code",
      "metadata": {
        "id": "GWEF7ZKPbQCK"
      },
      "source": [
        "num_features = X.columns.size\n",
        "\n",
        "tree_model = Pipeline([\n",
        "    (\"scaler\", StandardScaler()),\n",
        "    (\"tree\", DecisionTreeClassifier(class_weight=\"balanced\", random_state=42))\n",
        "])\n",
        "\n",
        "tree_grid = {'scaler': [None, StandardScaler()],\n",
        "             'tree__min_samples_split': range(1, 5),\n",
        "             'tree__min_samples_leaf': range(3, 8), \n",
        "             'tree__max_depth': range(4,8),\n",
        "             'tree__max_features': range(2, num_features)}"
      ],
      "execution_count": 311,
      "outputs": []
    },
    {
      "cell_type": "code",
      "metadata": {
        "colab": {
          "base_uri": "https://localhost:8080/"
        },
        "id": "Omg90fn3Hg00",
        "outputId": "b3fdab8e-7c02-44c3-e69b-f15f4684f4f4"
      },
      "source": [
        "tree_gv = GridSearchCV(tree_model, tree_grid, cv=skf, n_jobs=-1)\n",
        "tree_gv.fit(X_train, y_train)"
      ],
      "execution_count": 312,
      "outputs": [
        {
          "output_type": "execute_result",
          "data": {
            "text/plain": [
              "GridSearchCV(cv=StratifiedKFold(n_splits=5, random_state=42, shuffle=True),\n",
              "             error_score=nan,\n",
              "             estimator=Pipeline(memory=None,\n",
              "                                steps=[('scaler',\n",
              "                                        StandardScaler(copy=True,\n",
              "                                                       with_mean=True,\n",
              "                                                       with_std=True)),\n",
              "                                       ('tree',\n",
              "                                        DecisionTreeClassifier(ccp_alpha=0.0,\n",
              "                                                               class_weight='balanced',\n",
              "                                                               criterion='gini',\n",
              "                                                               max_depth=None,\n",
              "                                                               max_features=None,\n",
              "                                                               max_leaf_nodes=None,\n",
              "                                                               min_impurity_decre...\n",
              "                                                               splitter='best'))],\n",
              "                                verbose=False),\n",
              "             iid='deprecated', n_jobs=-1,\n",
              "             param_grid={'scaler': [None,\n",
              "                                    StandardScaler(copy=True, with_mean=True,\n",
              "                                                   with_std=True)],\n",
              "                         'tree__max_depth': range(4, 8),\n",
              "                         'tree__max_features': range(2, 9),\n",
              "                         'tree__min_samples_leaf': range(3, 8),\n",
              "                         'tree__min_samples_split': range(1, 5)},\n",
              "             pre_dispatch='2*n_jobs', refit=True, return_train_score=False,\n",
              "             scoring=None, verbose=0)"
            ]
          },
          "metadata": {},
          "execution_count": 312
        }
      ]
    },
    {
      "cell_type": "code",
      "metadata": {
        "colab": {
          "base_uri": "https://localhost:8080/"
        },
        "id": "_vc_6ZfJHm3u",
        "outputId": "af4ecd7b-63e0-4683-dbcb-fd235cda8d17"
      },
      "source": [
        "print(\"Punteggio migliore: {score}\".format(score=tree_gv.score(X_val, y_val)));\n",
        "print(\"F1 score: {score}\".format(score=f1_score(y_val, tree_gv.predict(X_val), average=\"binary\")));\n",
        "print(\"Precision score: {score}\".format(score=precision_score(y_val, tree_gv.predict(X_val))))\n",
        "print(\"Recall score: {score}\".format(score=recall_score(y_val, tree_gv.predict(X_val))))\n",
        "print(\"Parametri migliori: {params}\".format(params=tree_gv.best_params_))\n",
        "\n",
        "scores[\"tree\"] = tree_gv.score(X_val, y_val);\n",
        "f1_scores[\"tree\"] = f1_score(y_val, tree_gv.predict(X_val), average=\"binary\")\n",
        "precision[\"tree\"] = precision_score(y_val, tree_gv.predict(X_val))\n",
        "recall[\"tree\"] = recall_score(y_val, tree_gv.predict(X_val))"
      ],
      "execution_count": 313,
      "outputs": [
        {
          "output_type": "stream",
          "name": "stdout",
          "text": [
            "Punteggio migliore: 0.5856929955290611\n",
            "F1 score: 0.5351170568561873\n",
            "Precision score: 0.48484848484848486\n",
            "Recall score: 0.5970149253731343\n",
            "Parametri migliori: {'scaler': None, 'tree__max_depth': 7, 'tree__max_features': 4, 'tree__min_samples_leaf': 4, 'tree__min_samples_split': 2}\n"
          ]
        }
      ]
    },
    {
      "cell_type": "code",
      "metadata": {
        "colab": {
          "base_uri": "https://localhost:8080/",
          "height": 110
        },
        "id": "N1hwkELcHp4m",
        "outputId": "bc642ddd-ce1f-407c-a08c-33d4d43ff92a"
      },
      "source": [
        "tree_conf = pd.DataFrame(confusion_matrix(y_val, tree_gv.predict(X_val)), columns=classes, index = index)\n",
        "tree_conf"
      ],
      "execution_count": 314,
      "outputs": [
        {
          "output_type": "execute_result",
          "data": {
            "text/html": [
              "<div>\n",
              "<style scoped>\n",
              "    .dataframe tbody tr th:only-of-type {\n",
              "        vertical-align: middle;\n",
              "    }\n",
              "\n",
              "    .dataframe tbody tr th {\n",
              "        vertical-align: top;\n",
              "    }\n",
              "\n",
              "    .dataframe thead th {\n",
              "        text-align: right;\n",
              "    }\n",
              "</style>\n",
              "<table border=\"1\" class=\"dataframe\">\n",
              "  <thead>\n",
              "    <tr style=\"text-align: right;\">\n",
              "      <th></th>\n",
              "      <th>Not potable[P]</th>\n",
              "      <th>Potable[P]</th>\n",
              "    </tr>\n",
              "  </thead>\n",
              "  <tbody>\n",
              "    <tr>\n",
              "      <th>Not potable</th>\n",
              "      <td>233</td>\n",
              "      <td>170</td>\n",
              "    </tr>\n",
              "    <tr>\n",
              "      <th>Potable</th>\n",
              "      <td>108</td>\n",
              "      <td>160</td>\n",
              "    </tr>\n",
              "  </tbody>\n",
              "</table>\n",
              "</div>"
            ],
            "text/plain": [
              "             Not potable[P]  Potable[P]\n",
              "Not potable             233         170\n",
              "Potable                 108         160"
            ]
          },
          "metadata": {},
          "execution_count": 314
        }
      ]
    },
    {
      "cell_type": "markdown",
      "metadata": {
        "id": "TiBAtzQpL_Tk"
      },
      "source": [
        "**XGBOOST**"
      ]
    },
    {
      "cell_type": "code",
      "metadata": {
        "id": "VC6p-LBQMGa0"
      },
      "source": [
        "from xgboost import XGBClassifier\n",
        "train_data = pd.DataFrame(X_train, columns=['ph', 'Hardness', 'Solids', 'Chloramines', 'Sulfate', 'Conductivity', 'Organic_carbon', 'Trihalomethanes', 'Turbidity'])"
      ],
      "execution_count": 315,
      "outputs": []
    },
    {
      "cell_type": "code",
      "metadata": {
        "colab": {
          "base_uri": "https://localhost:8080/"
        },
        "id": "2H7P0aRsMAgj",
        "outputId": "19c1480f-1773-48c6-fcf6-3cc8a620ca36"
      },
      "source": [
        "model = XGBClassifier(nthread=8, objective='binary:logistic')\n",
        "\n",
        "\n",
        "parameters = {\n",
        "    'eta': [0.002, 0.1],\n",
        "    'max_depth': [6,8],\n",
        "    'n_estimators': [900],\n",
        "    'alpha': [0.0001, 0.001]\n",
        "}\n",
        "\n",
        "skf = StratifiedKFold(5, shuffle=True, random_state=42)\n",
        "gs = GridSearchCV(model, parameters, cv=skf)\n",
        "\n",
        "gs.fit(train_data, y_train)"
      ],
      "execution_count": 316,
      "outputs": [
        {
          "output_type": "execute_result",
          "data": {
            "text/plain": [
              "GridSearchCV(cv=StratifiedKFold(n_splits=5, random_state=42, shuffle=True),\n",
              "             error_score=nan,\n",
              "             estimator=XGBClassifier(base_score=0.5, booster='gbtree',\n",
              "                                     colsample_bylevel=1, colsample_bynode=1,\n",
              "                                     colsample_bytree=1, gamma=0,\n",
              "                                     learning_rate=0.1, max_delta_step=0,\n",
              "                                     max_depth=3, min_child_weight=1,\n",
              "                                     missing=None, n_estimators=100, n_jobs=1,\n",
              "                                     nthread=8, objective='binary:logistic',\n",
              "                                     random_state=0, reg_alpha=0, reg_lambda=1,\n",
              "                                     scale_pos_weight=1, seed=None, silent=None,\n",
              "                                     subsample=1, verbosity=1),\n",
              "             iid='deprecated', n_jobs=None,\n",
              "             param_grid={'alpha': [0.0001, 0.001], 'eta': [0.002, 0.1],\n",
              "                         'max_depth': [6, 8], 'n_estimators': [900]},\n",
              "             pre_dispatch='2*n_jobs', refit=True, return_train_score=False,\n",
              "             scoring=None, verbose=0)"
            ]
          },
          "metadata": {},
          "execution_count": 316
        }
      ]
    },
    {
      "cell_type": "code",
      "metadata": {
        "colab": {
          "base_uri": "https://localhost:8080/",
          "height": 110
        },
        "id": "M_T8ePwZMu4u",
        "outputId": "c9d898ba-5e0b-49c2-8073-79806f477962"
      },
      "source": [
        "y_pred = gs.predict(X_val)\n",
        "cm = confusion_matrix(y_val, y_pred)\n",
        "pd.DataFrame(cm, index=index, columns=classes)"
      ],
      "execution_count": 317,
      "outputs": [
        {
          "output_type": "execute_result",
          "data": {
            "text/html": [
              "<div>\n",
              "<style scoped>\n",
              "    .dataframe tbody tr th:only-of-type {\n",
              "        vertical-align: middle;\n",
              "    }\n",
              "\n",
              "    .dataframe tbody tr th {\n",
              "        vertical-align: top;\n",
              "    }\n",
              "\n",
              "    .dataframe thead th {\n",
              "        text-align: right;\n",
              "    }\n",
              "</style>\n",
              "<table border=\"1\" class=\"dataframe\">\n",
              "  <thead>\n",
              "    <tr style=\"text-align: right;\">\n",
              "      <th></th>\n",
              "      <th>Not potable[P]</th>\n",
              "      <th>Potable[P]</th>\n",
              "    </tr>\n",
              "  </thead>\n",
              "  <tbody>\n",
              "    <tr>\n",
              "      <th>Not potable</th>\n",
              "      <td>261</td>\n",
              "      <td>142</td>\n",
              "    </tr>\n",
              "    <tr>\n",
              "      <th>Potable</th>\n",
              "      <td>113</td>\n",
              "      <td>155</td>\n",
              "    </tr>\n",
              "  </tbody>\n",
              "</table>\n",
              "</div>"
            ],
            "text/plain": [
              "             Not potable[P]  Potable[P]\n",
              "Not potable             261         142\n",
              "Potable                 113         155"
            ]
          },
          "metadata": {},
          "execution_count": 317
        }
      ]
    },
    {
      "cell_type": "code",
      "metadata": {
        "id": "b01so7ZDWg5t",
        "colab": {
          "base_uri": "https://localhost:8080/",
          "height": 290
        },
        "outputId": "3a9002f4-b671-48c2-928a-f89525f1b1c3"
      },
      "source": [
        "print(\"Punteggio migliore: {score}\".format(score=gs.score(X_val, y_val)));\n",
        "print(\"Precision score: {score}\".format(score=precision_score(y_val, y_pred)))\n",
        "print(\"Recall score: {score}\".format(score=recall_score(y_val, y_pred)))\n",
        "print(\"Parametri migliori: {params}\".format(params=gs.best_params_))\n",
        "\n",
        "scores[\"xgb\"] = gs.score(X_val, y_val)\n",
        "f1_scores[\"xgb\"] = f1_score(y_val, y_pred, average=\"binary\")\n",
        "precision[\"xgb\"] = precision_score(y_val, y_pred)\n",
        "#recall[\"forest\"] = recall_score(y_val, forest_gv.predict(X_val))"
      ],
      "execution_count": 340,
      "outputs": [
        {
          "output_type": "stream",
          "name": "stdout",
          "text": [
            "Punteggio migliore: 0.6199701937406855\n",
            "Precision score: 0.5218855218855218\n",
            "Recall score: 0.5783582089552238\n",
            "Parametri migliori: {'alpha': 0.0001, 'eta': 0.002, 'max_depth': 6, 'n_estimators': 900}\n"
          ]
        },
        {
          "output_type": "error",
          "ename": "TypeError",
          "evalue": "ignored",
          "traceback": [
            "\u001b[0;31m---------------------------------------------------------------------------\u001b[0m",
            "\u001b[0;31mTypeError\u001b[0m                                 Traceback (most recent call last)",
            "\u001b[0;32m<ipython-input-340-bf0b7d3cd8f1>\u001b[0m in \u001b[0;36m<module>\u001b[0;34m()\u001b[0m\n\u001b[1;32m      6\u001b[0m \u001b[0mscores\u001b[0m\u001b[0;34m[\u001b[0m\u001b[0;34m\"xgb\"\u001b[0m\u001b[0;34m]\u001b[0m \u001b[0;34m=\u001b[0m \u001b[0mgs\u001b[0m\u001b[0;34m.\u001b[0m\u001b[0mscore\u001b[0m\u001b[0;34m(\u001b[0m\u001b[0mX_val\u001b[0m\u001b[0;34m,\u001b[0m \u001b[0my_val\u001b[0m\u001b[0;34m)\u001b[0m\u001b[0;34m\u001b[0m\u001b[0;34m\u001b[0m\u001b[0m\n\u001b[1;32m      7\u001b[0m \u001b[0mf1_scores\u001b[0m\u001b[0;34m[\u001b[0m\u001b[0;34m\"xgb\"\u001b[0m\u001b[0;34m]\u001b[0m \u001b[0;34m=\u001b[0m \u001b[0mf1_score\u001b[0m\u001b[0;34m(\u001b[0m\u001b[0my_val\u001b[0m\u001b[0;34m,\u001b[0m \u001b[0my_pred\u001b[0m\u001b[0;34m,\u001b[0m \u001b[0maverage\u001b[0m\u001b[0;34m=\u001b[0m\u001b[0;34m\"binary\"\u001b[0m\u001b[0;34m)\u001b[0m\u001b[0;34m\u001b[0m\u001b[0;34m\u001b[0m\u001b[0m\n\u001b[0;32m----> 8\u001b[0;31m \u001b[0mprecision\u001b[0m\u001b[0;34m[\u001b[0m\u001b[0;34m\"xgb\"\u001b[0m\u001b[0;34m]\u001b[0m \u001b[0;34m=\u001b[0m \u001b[0mprecision_score\u001b[0m\u001b[0;34m(\u001b[0m\u001b[0my_val\u001b[0m\u001b[0;34m,\u001b[0m \u001b[0my_pred\u001b[0m\u001b[0;34m)\u001b[0m\u001b[0;34m\u001b[0m\u001b[0;34m\u001b[0m\u001b[0m\n\u001b[0m\u001b[1;32m      9\u001b[0m \u001b[0;31m#recall[\"forest\"] = recall_score(y_val, forest_gv.predict(X_val))\u001b[0m\u001b[0;34m\u001b[0m\u001b[0;34m\u001b[0m\u001b[0;34m\u001b[0m\u001b[0m\n",
            "\u001b[0;31mTypeError\u001b[0m: 'numpy.float64' object does not support item assignment"
          ]
        }
      ]
    },
    {
      "cell_type": "markdown",
      "metadata": {
        "id": "fHHk2MVuJmWR"
      },
      "source": [
        "**Valutazione dei modelli utilizzati**"
      ]
    },
    {
      "cell_type": "code",
      "metadata": {
        "id": "G9Zc3QbtJq_R",
        "outputId": "19ee9f20-ae21-4f10-8271-3f99b562442f",
        "colab": {
          "base_uri": "https://localhost:8080/",
          "height": 234
        }
      },
      "source": [
        "pd.DataFrame.from_dict(scores, orient=\"index\", columns=[\"R^2 score\"])"
      ],
      "execution_count": 341,
      "outputs": [
        {
          "output_type": "execute_result",
          "data": {
            "text/html": [
              "<div>\n",
              "<style scoped>\n",
              "    .dataframe tbody tr th:only-of-type {\n",
              "        vertical-align: middle;\n",
              "    }\n",
              "\n",
              "    .dataframe tbody tr th {\n",
              "        vertical-align: top;\n",
              "    }\n",
              "\n",
              "    .dataframe thead th {\n",
              "        text-align: right;\n",
              "    }\n",
              "</style>\n",
              "<table border=\"1\" class=\"dataframe\">\n",
              "  <thead>\n",
              "    <tr style=\"text-align: right;\">\n",
              "      <th></th>\n",
              "      <th>R^2 score</th>\n",
              "    </tr>\n",
              "  </thead>\n",
              "  <tbody>\n",
              "    <tr>\n",
              "      <th>perceptron</th>\n",
              "      <td>0.600596</td>\n",
              "    </tr>\n",
              "    <tr>\n",
              "      <th>logistic</th>\n",
              "      <td>0.482861</td>\n",
              "    </tr>\n",
              "    <tr>\n",
              "      <th>svc</th>\n",
              "      <td>0.466468</td>\n",
              "    </tr>\n",
              "    <tr>\n",
              "      <th>tree</th>\n",
              "      <td>0.585693</td>\n",
              "    </tr>\n",
              "    <tr>\n",
              "      <th>xgboost</th>\n",
              "      <td>0.619970</td>\n",
              "    </tr>\n",
              "    <tr>\n",
              "      <th>xgb</th>\n",
              "      <td>0.619970</td>\n",
              "    </tr>\n",
              "  </tbody>\n",
              "</table>\n",
              "</div>"
            ],
            "text/plain": [
              "            R^2 score\n",
              "perceptron   0.600596\n",
              "logistic     0.482861\n",
              "svc          0.466468\n",
              "tree         0.585693\n",
              "xgboost      0.619970\n",
              "xgb          0.619970"
            ]
          },
          "metadata": {},
          "execution_count": 341
        }
      ]
    }
  ]
}