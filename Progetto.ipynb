{
  "nbformat": 4,
  "nbformat_minor": 0,
  "metadata": {
    "colab": {
      "name": "Progetto.ipynb",
      "provenance": [],
      "collapsed_sections": [],
      "authorship_tag": "ABX9TyOGpY6AWeVwSH482wh4WhYI",
      "include_colab_link": true
    },
    "kernelspec": {
      "name": "python3",
      "display_name": "Python 3"
    },
    "language_info": {
      "name": "python"
    }
  },
  "cells": [
    {
      "cell_type": "markdown",
      "metadata": {
        "id": "view-in-github",
        "colab_type": "text"
      },
      "source": [
        "<a href=\"https://colab.research.google.com/github/aleshark87/data-intensive-project/blob/main/Progetto.ipynb\" target=\"_parent\"><img src=\"https://colab.research.google.com/assets/colab-badge.svg\" alt=\"Open In Colab\"/></a>"
      ]
    },
    {
      "cell_type": "markdown",
      "metadata": {
        "id": "9XVHHQ3lEDRB"
      },
      "source": [
        "##Descrizione del problema\n",
        "\n",
        "*In questo progetto si vuole realizzare un modello in grado di predire la potabilità dell'acqua in base a delle analisi effettuate*"
      ]
    },
    {
      "cell_type": "markdown",
      "metadata": {
        "id": "bKSXL3QGo2R1"
      },
      "source": [
        "## Importo le librerie necessarie"
      ]
    },
    {
      "cell_type": "code",
      "metadata": {
        "id": "ZIBDlbOonj6H"
      },
      "source": [
        "import numpy as np\n",
        "import pandas as pd\n",
        "import matplotlib.pyplot as plt\n",
        "import seaborn as sns\n",
        "import os.path\n",
        "from urllib.request import urlretrieve\n",
        "import random\n",
        "from sklearn.metrics import confusion_matrix\n",
        "from sklearn.metrics import precision_score, recall_score, f1_score\n",
        "from sklearn.metrics import mean_squared_error\n",
        "from imblearn.over_sampling import SMOTE\n",
        "from imblearn.under_sampling import RandomUnderSampler"
      ],
      "execution_count": 466,
      "outputs": []
    },
    {
      "cell_type": "markdown",
      "metadata": {
        "id": "c-dHsFXNo6zZ"
      },
      "source": [
        "##Caricamento dei dati\n"
      ]
    },
    {
      "cell_type": "code",
      "metadata": {
        "id": "AVdP1MHMo-42",
        "colab": {
          "base_uri": "https://localhost:8080/",
          "height": 362
        },
        "outputId": "d2b229d9-a70e-4147-c6ae-49a0170be718"
      },
      "source": [
        "dataset_url = \"https://github.com/aleshark87/data-intensive-project/raw/main/water_potability%20(2).csv\"\n",
        "dataset_filename = \"water_potability.csv\"\n",
        "\n",
        "if not os.path.exists(dataset_filename):\n",
        "  urlretrieve(dataset_url, dataset_filename)\n",
        "\n",
        "dataset = pd.read_csv(dataset_filename, sep=\",\")\n",
        "dataset.head(10)  "
      ],
      "execution_count": 467,
      "outputs": [
        {
          "output_type": "execute_result",
          "data": {
            "text/html": [
              "<div>\n",
              "<style scoped>\n",
              "    .dataframe tbody tr th:only-of-type {\n",
              "        vertical-align: middle;\n",
              "    }\n",
              "\n",
              "    .dataframe tbody tr th {\n",
              "        vertical-align: top;\n",
              "    }\n",
              "\n",
              "    .dataframe thead th {\n",
              "        text-align: right;\n",
              "    }\n",
              "</style>\n",
              "<table border=\"1\" class=\"dataframe\">\n",
              "  <thead>\n",
              "    <tr style=\"text-align: right;\">\n",
              "      <th></th>\n",
              "      <th>ph</th>\n",
              "      <th>Hardness</th>\n",
              "      <th>Solids</th>\n",
              "      <th>Chloramines</th>\n",
              "      <th>Sulfate</th>\n",
              "      <th>Conductivity</th>\n",
              "      <th>Organic_carbon</th>\n",
              "      <th>Trihalomethanes</th>\n",
              "      <th>Turbidity</th>\n",
              "      <th>Potability</th>\n",
              "    </tr>\n",
              "  </thead>\n",
              "  <tbody>\n",
              "    <tr>\n",
              "      <th>0</th>\n",
              "      <td>NaN</td>\n",
              "      <td>204.890455</td>\n",
              "      <td>20791.318981</td>\n",
              "      <td>7.300212</td>\n",
              "      <td>368.516441</td>\n",
              "      <td>564.308654</td>\n",
              "      <td>10.379783</td>\n",
              "      <td>86.990970</td>\n",
              "      <td>2.963135</td>\n",
              "      <td>0</td>\n",
              "    </tr>\n",
              "    <tr>\n",
              "      <th>1</th>\n",
              "      <td>3.716080</td>\n",
              "      <td>129.422921</td>\n",
              "      <td>18630.057858</td>\n",
              "      <td>6.635246</td>\n",
              "      <td>NaN</td>\n",
              "      <td>592.885359</td>\n",
              "      <td>15.180013</td>\n",
              "      <td>56.329076</td>\n",
              "      <td>4.500656</td>\n",
              "      <td>0</td>\n",
              "    </tr>\n",
              "    <tr>\n",
              "      <th>2</th>\n",
              "      <td>8.099124</td>\n",
              "      <td>224.236259</td>\n",
              "      <td>19909.541732</td>\n",
              "      <td>9.275884</td>\n",
              "      <td>NaN</td>\n",
              "      <td>418.606213</td>\n",
              "      <td>16.868637</td>\n",
              "      <td>66.420093</td>\n",
              "      <td>3.055934</td>\n",
              "      <td>0</td>\n",
              "    </tr>\n",
              "    <tr>\n",
              "      <th>3</th>\n",
              "      <td>8.316766</td>\n",
              "      <td>214.373394</td>\n",
              "      <td>22018.417441</td>\n",
              "      <td>8.059332</td>\n",
              "      <td>356.886136</td>\n",
              "      <td>363.266516</td>\n",
              "      <td>18.436524</td>\n",
              "      <td>100.341674</td>\n",
              "      <td>4.628771</td>\n",
              "      <td>0</td>\n",
              "    </tr>\n",
              "    <tr>\n",
              "      <th>4</th>\n",
              "      <td>9.092223</td>\n",
              "      <td>181.101509</td>\n",
              "      <td>17978.986339</td>\n",
              "      <td>6.546600</td>\n",
              "      <td>310.135738</td>\n",
              "      <td>398.410813</td>\n",
              "      <td>11.558279</td>\n",
              "      <td>31.997993</td>\n",
              "      <td>4.075075</td>\n",
              "      <td>0</td>\n",
              "    </tr>\n",
              "    <tr>\n",
              "      <th>5</th>\n",
              "      <td>5.584087</td>\n",
              "      <td>188.313324</td>\n",
              "      <td>28748.687739</td>\n",
              "      <td>7.544869</td>\n",
              "      <td>326.678363</td>\n",
              "      <td>280.467916</td>\n",
              "      <td>8.399735</td>\n",
              "      <td>54.917862</td>\n",
              "      <td>2.559708</td>\n",
              "      <td>0</td>\n",
              "    </tr>\n",
              "    <tr>\n",
              "      <th>6</th>\n",
              "      <td>10.223862</td>\n",
              "      <td>248.071735</td>\n",
              "      <td>28749.716544</td>\n",
              "      <td>7.513408</td>\n",
              "      <td>393.663396</td>\n",
              "      <td>283.651634</td>\n",
              "      <td>13.789695</td>\n",
              "      <td>84.603556</td>\n",
              "      <td>2.672989</td>\n",
              "      <td>0</td>\n",
              "    </tr>\n",
              "    <tr>\n",
              "      <th>7</th>\n",
              "      <td>8.635849</td>\n",
              "      <td>203.361523</td>\n",
              "      <td>13672.091764</td>\n",
              "      <td>4.563009</td>\n",
              "      <td>303.309771</td>\n",
              "      <td>474.607645</td>\n",
              "      <td>12.363817</td>\n",
              "      <td>62.798309</td>\n",
              "      <td>4.401425</td>\n",
              "      <td>0</td>\n",
              "    </tr>\n",
              "    <tr>\n",
              "      <th>8</th>\n",
              "      <td>NaN</td>\n",
              "      <td>118.988579</td>\n",
              "      <td>14285.583854</td>\n",
              "      <td>7.804174</td>\n",
              "      <td>268.646941</td>\n",
              "      <td>389.375566</td>\n",
              "      <td>12.706049</td>\n",
              "      <td>53.928846</td>\n",
              "      <td>3.595017</td>\n",
              "      <td>0</td>\n",
              "    </tr>\n",
              "    <tr>\n",
              "      <th>9</th>\n",
              "      <td>11.180284</td>\n",
              "      <td>227.231469</td>\n",
              "      <td>25484.508491</td>\n",
              "      <td>9.077200</td>\n",
              "      <td>404.041635</td>\n",
              "      <td>563.885481</td>\n",
              "      <td>17.927806</td>\n",
              "      <td>71.976601</td>\n",
              "      <td>4.370562</td>\n",
              "      <td>0</td>\n",
              "    </tr>\n",
              "  </tbody>\n",
              "</table>\n",
              "</div>"
            ],
            "text/plain": [
              "          ph    Hardness        Solids  ...  Trihalomethanes  Turbidity  Potability\n",
              "0        NaN  204.890455  20791.318981  ...        86.990970   2.963135           0\n",
              "1   3.716080  129.422921  18630.057858  ...        56.329076   4.500656           0\n",
              "2   8.099124  224.236259  19909.541732  ...        66.420093   3.055934           0\n",
              "3   8.316766  214.373394  22018.417441  ...       100.341674   4.628771           0\n",
              "4   9.092223  181.101509  17978.986339  ...        31.997993   4.075075           0\n",
              "5   5.584087  188.313324  28748.687739  ...        54.917862   2.559708           0\n",
              "6  10.223862  248.071735  28749.716544  ...        84.603556   2.672989           0\n",
              "7   8.635849  203.361523  13672.091764  ...        62.798309   4.401425           0\n",
              "8        NaN  118.988579  14285.583854  ...        53.928846   3.595017           0\n",
              "9  11.180284  227.231469  25484.508491  ...        71.976601   4.370562           0\n",
              "\n",
              "[10 rows x 10 columns]"
            ]
          },
          "metadata": {},
          "execution_count": 467
        }
      ]
    },
    {
      "cell_type": "markdown",
      "metadata": {
        "id": "7QwlH9OI8z9F"
      },
      "source": [
        "##Descrizione delle feature"
      ]
    },
    {
      "cell_type": "markdown",
      "metadata": {
        "id": "At5CW_9T9z83"
      },
      "source": [
        "\n",
        "###Unità di misura:\n",
        "\n",
        "\n",
        "*  **NTU**: Nephelometric Turbidity unit\n",
        "*  **ppm**: Parti per milione\n",
        "*  **μg/L**: Microgrammi per litro\n",
        "*  **mg/L**: Milligrammi per litro\n",
        "\n",
        "###Descrizione:\n",
        "\n",
        "1. **ph**: Misura del pH dell'acqua.\n",
        "2. **Hardness**: Misura della durezza dell'acqua. Viene espressa in mg/L.\n",
        "3. **Solids**: Misura dei materiali disciolti. Viene espressa in ppm.\n",
        "4. **Chloramines**: Misura delle clorammine in ppm.\n",
        "5. **Sulfate**: Misura dei solfati in mg/L.\n",
        "6. **Conductivity**: Conduttività elettrica dell'acqua in μS/cm.\n",
        "7. **Organic_carbon**: Carbonio organico in ppm.\n",
        "8. **Trihalomethanes**: Misura dei trialometani in μg/L.\n",
        "9. **Turbidity**: Misura della torbidità in NTU.\n",
        "10. **Potability**: Indica se l'acqua è potabile, 1 significa potabile e 0 significa non potabile.\n",
        "\n"
      ]
    },
    {
      "cell_type": "markdown",
      "metadata": {
        "id": "JkPVyzLVzyq9"
      },
      "source": [
        "##Analisi generale dei dati"
      ]
    },
    {
      "cell_type": "code",
      "metadata": {
        "id": "VDrKDJunz48s",
        "colab": {
          "base_uri": "https://localhost:8080/",
          "height": 299
        },
        "outputId": "5b6fb145-c93f-4644-9588-f508cfe0a153"
      },
      "source": [
        "dataset.describe()"
      ],
      "execution_count": 468,
      "outputs": [
        {
          "output_type": "execute_result",
          "data": {
            "text/html": [
              "<div>\n",
              "<style scoped>\n",
              "    .dataframe tbody tr th:only-of-type {\n",
              "        vertical-align: middle;\n",
              "    }\n",
              "\n",
              "    .dataframe tbody tr th {\n",
              "        vertical-align: top;\n",
              "    }\n",
              "\n",
              "    .dataframe thead th {\n",
              "        text-align: right;\n",
              "    }\n",
              "</style>\n",
              "<table border=\"1\" class=\"dataframe\">\n",
              "  <thead>\n",
              "    <tr style=\"text-align: right;\">\n",
              "      <th></th>\n",
              "      <th>ph</th>\n",
              "      <th>Hardness</th>\n",
              "      <th>Solids</th>\n",
              "      <th>Chloramines</th>\n",
              "      <th>Sulfate</th>\n",
              "      <th>Conductivity</th>\n",
              "      <th>Organic_carbon</th>\n",
              "      <th>Trihalomethanes</th>\n",
              "      <th>Turbidity</th>\n",
              "      <th>Potability</th>\n",
              "    </tr>\n",
              "  </thead>\n",
              "  <tbody>\n",
              "    <tr>\n",
              "      <th>count</th>\n",
              "      <td>2785.000000</td>\n",
              "      <td>3276.000000</td>\n",
              "      <td>3276.000000</td>\n",
              "      <td>3276.000000</td>\n",
              "      <td>2495.000000</td>\n",
              "      <td>3276.000000</td>\n",
              "      <td>3276.000000</td>\n",
              "      <td>3114.000000</td>\n",
              "      <td>3276.000000</td>\n",
              "      <td>3276.000000</td>\n",
              "    </tr>\n",
              "    <tr>\n",
              "      <th>mean</th>\n",
              "      <td>7.080795</td>\n",
              "      <td>196.369496</td>\n",
              "      <td>22014.092526</td>\n",
              "      <td>7.122277</td>\n",
              "      <td>333.775777</td>\n",
              "      <td>426.205111</td>\n",
              "      <td>14.284970</td>\n",
              "      <td>66.396293</td>\n",
              "      <td>3.966786</td>\n",
              "      <td>0.390110</td>\n",
              "    </tr>\n",
              "    <tr>\n",
              "      <th>std</th>\n",
              "      <td>1.594320</td>\n",
              "      <td>32.879761</td>\n",
              "      <td>8768.570828</td>\n",
              "      <td>1.583085</td>\n",
              "      <td>41.416840</td>\n",
              "      <td>80.824064</td>\n",
              "      <td>3.308162</td>\n",
              "      <td>16.175008</td>\n",
              "      <td>0.780382</td>\n",
              "      <td>0.487849</td>\n",
              "    </tr>\n",
              "    <tr>\n",
              "      <th>min</th>\n",
              "      <td>0.000000</td>\n",
              "      <td>47.432000</td>\n",
              "      <td>320.942611</td>\n",
              "      <td>0.352000</td>\n",
              "      <td>129.000000</td>\n",
              "      <td>181.483754</td>\n",
              "      <td>2.200000</td>\n",
              "      <td>0.738000</td>\n",
              "      <td>1.450000</td>\n",
              "      <td>0.000000</td>\n",
              "    </tr>\n",
              "    <tr>\n",
              "      <th>25%</th>\n",
              "      <td>6.093092</td>\n",
              "      <td>176.850538</td>\n",
              "      <td>15666.690297</td>\n",
              "      <td>6.127421</td>\n",
              "      <td>307.699498</td>\n",
              "      <td>365.734414</td>\n",
              "      <td>12.065801</td>\n",
              "      <td>55.844536</td>\n",
              "      <td>3.439711</td>\n",
              "      <td>0.000000</td>\n",
              "    </tr>\n",
              "    <tr>\n",
              "      <th>50%</th>\n",
              "      <td>7.036752</td>\n",
              "      <td>196.967627</td>\n",
              "      <td>20927.833607</td>\n",
              "      <td>7.130299</td>\n",
              "      <td>333.073546</td>\n",
              "      <td>421.884968</td>\n",
              "      <td>14.218338</td>\n",
              "      <td>66.622485</td>\n",
              "      <td>3.955028</td>\n",
              "      <td>0.000000</td>\n",
              "    </tr>\n",
              "    <tr>\n",
              "      <th>75%</th>\n",
              "      <td>8.062066</td>\n",
              "      <td>216.667456</td>\n",
              "      <td>27332.762127</td>\n",
              "      <td>8.114887</td>\n",
              "      <td>359.950170</td>\n",
              "      <td>481.792304</td>\n",
              "      <td>16.557652</td>\n",
              "      <td>77.337473</td>\n",
              "      <td>4.500320</td>\n",
              "      <td>1.000000</td>\n",
              "    </tr>\n",
              "    <tr>\n",
              "      <th>max</th>\n",
              "      <td>14.000000</td>\n",
              "      <td>323.124000</td>\n",
              "      <td>61227.196008</td>\n",
              "      <td>13.127000</td>\n",
              "      <td>481.030642</td>\n",
              "      <td>753.342620</td>\n",
              "      <td>28.300000</td>\n",
              "      <td>124.000000</td>\n",
              "      <td>6.739000</td>\n",
              "      <td>1.000000</td>\n",
              "    </tr>\n",
              "  </tbody>\n",
              "</table>\n",
              "</div>"
            ],
            "text/plain": [
              "                ph     Hardness  ...    Turbidity   Potability\n",
              "count  2785.000000  3276.000000  ...  3276.000000  3276.000000\n",
              "mean      7.080795   196.369496  ...     3.966786     0.390110\n",
              "std       1.594320    32.879761  ...     0.780382     0.487849\n",
              "min       0.000000    47.432000  ...     1.450000     0.000000\n",
              "25%       6.093092   176.850538  ...     3.439711     0.000000\n",
              "50%       7.036752   196.967627  ...     3.955028     0.000000\n",
              "75%       8.062066   216.667456  ...     4.500320     1.000000\n",
              "max      14.000000   323.124000  ...     6.739000     1.000000\n",
              "\n",
              "[8 rows x 10 columns]"
            ]
          },
          "metadata": {},
          "execution_count": 468
        }
      ]
    },
    {
      "cell_type": "markdown",
      "metadata": {
        "id": "S3Q3QAoU0RSQ"
      },
      "source": [
        "Possiamo notare che i dati in nostro possesso sono tutti numerici, e di diversa scala uno dall'altro. Sarà quindi fondamentale procedere allo scaling prima di costruire i modelli. Inoltre, si nota la presenza di valori nulli e di sbilanciamento nella classe **Potability**. "
      ]
    },
    {
      "cell_type": "markdown",
      "metadata": {
        "id": "4ycDGjb6tIi5"
      },
      "source": [
        "Vediamo quanti sono i valori nulli all'interno del dataset."
      ]
    },
    {
      "cell_type": "code",
      "metadata": {
        "id": "cZfxkK0-tMr9",
        "colab": {
          "base_uri": "https://localhost:8080/"
        },
        "outputId": "54c7ec4f-84ad-4292-c95b-96bcdd2b9c02"
      },
      "source": [
        "dataset.isnull().sum()"
      ],
      "execution_count": 469,
      "outputs": [
        {
          "output_type": "execute_result",
          "data": {
            "text/plain": [
              "ph                 491\n",
              "Hardness             0\n",
              "Solids               0\n",
              "Chloramines          0\n",
              "Sulfate            781\n",
              "Conductivity         0\n",
              "Organic_carbon       0\n",
              "Trihalomethanes    162\n",
              "Turbidity            0\n",
              "Potability           0\n",
              "dtype: int64"
            ]
          },
          "metadata": {},
          "execution_count": 469
        }
      ]
    },
    {
      "cell_type": "markdown",
      "metadata": {
        "id": "FPMJ7mtmuRli"
      },
      "source": [
        "Procediamo alla rimozione."
      ]
    },
    {
      "cell_type": "code",
      "metadata": {
        "id": "-nuoZfMdtkuB",
        "colab": {
          "base_uri": "https://localhost:8080/"
        },
        "outputId": "8273ca8e-b01c-4dcb-9875-678f8f85f464"
      },
      "source": [
        "dataset.dropna(inplace=True)\n",
        "dataset.isnull().sum()"
      ],
      "execution_count": 470,
      "outputs": [
        {
          "output_type": "execute_result",
          "data": {
            "text/plain": [
              "ph                 0\n",
              "Hardness           0\n",
              "Solids             0\n",
              "Chloramines        0\n",
              "Sulfate            0\n",
              "Conductivity       0\n",
              "Organic_carbon     0\n",
              "Trihalomethanes    0\n",
              "Turbidity          0\n",
              "Potability         0\n",
              "dtype: int64"
            ]
          },
          "metadata": {},
          "execution_count": 470
        }
      ]
    },
    {
      "cell_type": "code",
      "metadata": {
        "id": "HO6pYDfJ0otF",
        "colab": {
          "base_uri": "https://localhost:8080/",
          "height": 248
        },
        "outputId": "352c581b-47ba-44c5-dddc-28af9c156dc4"
      },
      "source": [
        "dataset.Potability.value_counts().plot.pie(autopct=\"%.1f%%\");"
      ],
      "execution_count": 471,
      "outputs": [
        {
          "output_type": "display_data",
          "data": {
            "image/png": "[encoded data removed]",
            "text/plain": [
              "<Figure size 432x288 with 1 Axes>"
            ]
          },
          "metadata": {}
        }
      ]
    },
    {
      "cell_type": "markdown",
      "metadata": {
        "id": "9tzppS6OuZbX"
      },
      "source": [
        "Da questo grafico a torta possiamo vedere meglio la differenza di distribuzione nelle classi."
      ]
    },
    {
      "cell_type": "code",
      "metadata": {
        "id": "qfrQhzDXJLgP"
      },
      "source": [
        "#sns.pairplot(dataset, hue=\"Potability\")"
      ],
      "execution_count": 472,
      "outputs": []
    },
    {
      "cell_type": "markdown",
      "metadata": {
        "id": "HQdGdm-V4-5G"
      },
      "source": [
        "Da questi grafici, che confrontano la distribuzione delle feature nel caso di acqua Potabile o meno, notiamo che non ci sono sbilanciamenti importanti."
      ]
    },
    {
      "cell_type": "code",
      "metadata": {
        "colab": {
          "base_uri": "https://localhost:8080/",
          "height": 338
        },
        "id": "jFKSMTixihMM",
        "outputId": "8913f368-3100-494c-b5f9-76c78b35940e"
      },
      "source": [
        "corr = dataset.corr()\n",
        "mask = np.triu(np.ones_like(corr, dtype=bool))\n",
        "sns.heatmap(corr, mask=mask, cmap=\"Reds\");"
      ],
      "execution_count": 473,
      "outputs": [
        {
          "output_type": "display_data",
          "data": {
            "image/png": "[encoded data removed]",
            "text/plain": [
              "<Figure size 432x288 with 2 Axes>"
            ]
          },
          "metadata": {
            "needs_background": "light"
          }
        }
      ]
    },
    {
      "cell_type": "markdown",
      "metadata": {
        "id": "Bv5GzyxD5ugY"
      },
      "source": [
        "Anche la heatmap delle correlazioni, che dovrebbe mostrarci correlazioni tra le feature, non ne mostra alcuna rilevante.\n",
        "Modelli con feature non lineari dovrebbero performare meglio."
      ]
    },
    {
      "cell_type": "markdown",
      "metadata": {
        "id": "Uo3IrsVe1oAG"
      },
      "source": [
        "##Preparazione del modello"
      ]
    },
    {
      "cell_type": "markdown",
      "metadata": {
        "id": "FwXtO0lL5_mq"
      },
      "source": [
        "###Bilanciamento classi e Studio Feature più importanti"
      ]
    },
    {
      "cell_type": "code",
      "metadata": {
        "id": "QaMFE0JW1rQa"
      },
      "source": [
        "from sklearn.model_selection import train_test_split\n",
        "from sklearn.linear_model import Perceptron\n",
        "from sklearn.pipeline import Pipeline\n",
        "from sklearn.preprocessing import StandardScaler"
      ],
      "execution_count": 474,
      "outputs": []
    },
    {
      "cell_type": "code",
      "metadata": {
        "id": "AAtxTdjyC2ng"
      },
      "source": [
        "X = dataset.drop(columns=\"Potability\")\n",
        "y = dataset[\"Potability\"]"
      ],
      "execution_count": 475,
      "outputs": []
    },
    {
      "cell_type": "code",
      "metadata": {
        "id": "Lxa1jPlsJzmA",
        "colab": {
          "base_uri": "https://localhost:8080/",
          "height": 282
        },
        "outputId": "84f06724-e2f6-4e28-9f4d-56947355aad4"
      },
      "source": [
        "pd.value_counts(y).plot.pie(autopct=\"%.1f%%\", title=\"Potability\")"
      ],
      "execution_count": 476,
      "outputs": [
        {
          "output_type": "execute_result",
          "data": {
            "text/plain": [
              "<matplotlib.axes._subplots.AxesSubplot at 0x7fb007c2f850>"
            ]
          },
          "metadata": {},
          "execution_count": 476
        },
        {
          "output_type": "display_data",
          "data": {
            "image/png": "[encoded data removed]",
            "text/plain": [
              "<Figure size 432x288 with 1 Axes>"
            ]
          },
          "metadata": {}
        }
      ]
    },
    {
      "cell_type": "code",
      "metadata": {
        "id": "Ej_CRd7r7OAj",
        "colab": {
          "base_uri": "https://localhost:8080/"
        },
        "outputId": "0925613d-0b15-4255-c6f2-f77393e0e9be"
      },
      "source": [
        "sm = SMOTE(random_state=42)\n",
        "X_balanced, y_balanced = sm.fit_resample(X, y)"
      ],
      "execution_count": 477,
      "outputs": [
        {
          "output_type": "stream",
          "name": "stderr",
          "text": [
            "/usr/local/lib/python3.7/dist-packages/sklearn/utils/deprecation.py:87: FutureWarning: Function safe_indexing is deprecated; safe_indexing is deprecated in version 0.22 and will be removed in version 0.24.\n",
            "  warnings.warn(msg, category=FutureWarning)\n"
          ]
        }
      ]
    },
    {
      "cell_type": "code",
      "metadata": {
        "id": "QG22wBqG7R_F",
        "colab": {
          "base_uri": "https://localhost:8080/",
          "height": 282
        },
        "outputId": "aafac1a4-9627-44cf-a093-b768fa6a0912"
      },
      "source": [
        "pd.value_counts(y_balanced).plot.pie(autopct=\"%.1f%%\", title=\"Potability\")"
      ],
      "execution_count": 478,
      "outputs": [
        {
          "output_type": "execute_result",
          "data": {
            "text/plain": [
              "<matplotlib.axes._subplots.AxesSubplot at 0x7fb007c013d0>"
            ]
          },
          "metadata": {},
          "execution_count": 478
        },
        {
          "output_type": "display_data",
          "data": {
            "image/png": "[encoded data removed]",
            "text/plain": [
              "<Figure size 432x288 with 1 Axes>"
            ]
          },
          "metadata": {}
        }
      ]
    },
    {
      "cell_type": "markdown",
      "metadata": {
        "id": "Rs2eXHGN8ahO"
      },
      "source": [
        "Procediamo dunque suddividendo i dati in training e validation set tramite metodo holdout:"
      ]
    },
    {
      "cell_type": "code",
      "metadata": {
        "id": "R6vDGmJrAe_m"
      },
      "source": [
        "X_train, X_val, y_train, y_val = train_test_split(\n",
        "    X_balanced,y_balanced,\n",
        "    test_size = 1/3,\n",
        "    random_state = 42\n",
        ")"
      ],
      "execution_count": 479,
      "outputs": []
    },
    {
      "cell_type": "markdown",
      "metadata": {
        "id": "OBoBV5xd879z"
      },
      "source": [
        "**Perceptron non standardizzato**"
      ]
    },
    {
      "cell_type": "code",
      "metadata": {
        "id": "myrodvfb9Av-"
      },
      "source": [
        "not_std_perc = Pipeline([\n",
        "                  (\"perc\", Perceptron(random_state=42))\n",
        "])"
      ],
      "execution_count": 480,
      "outputs": []
    },
    {
      "cell_type": "code",
      "metadata": {
        "id": "qC5sx_4Y-AkS",
        "colab": {
          "base_uri": "https://localhost:8080/"
        },
        "outputId": "6f525ffa-3402-41eb-edb8-d243b95a05c1"
      },
      "source": [
        "not_std_perc.fit(X_train, y_train)\n",
        "print(\"R-squared coefficient:\") \n",
        "not_std_perc.score(X_val, y_val)"
      ],
      "execution_count": 481,
      "outputs": [
        {
          "output_type": "stream",
          "name": "stdout",
          "text": [
            "R-squared coefficient:\n"
          ]
        },
        {
          "output_type": "execute_result",
          "data": {
            "text/plain": [
              "0.4775"
            ]
          },
          "metadata": {},
          "execution_count": 481
        }
      ]
    },
    {
      "cell_type": "markdown",
      "metadata": {
        "id": "FFN_i1X584Yb"
      },
      "source": [
        "**Perceptron standardizzato**"
      ]
    },
    {
      "cell_type": "code",
      "metadata": {
        "id": "VtWFixrP88VJ"
      },
      "source": [
        "std_perc = Pipeline([\n",
        "  (\"scaler\", StandardScaler()),\n",
        "    (\"perc\", Perceptron(random_state=42))\n",
        "])"
      ],
      "execution_count": 482,
      "outputs": []
    },
    {
      "cell_type": "code",
      "metadata": {
        "id": "chCWG2b29Jpl",
        "colab": {
          "base_uri": "https://localhost:8080/"
        },
        "outputId": "ac923383-d7b1-4ce1-d8b3-a7754d99fcf2"
      },
      "source": [
        "std_perc.fit(X_train, y_train)\n",
        "print(\"R-squared coefficient:\") \n",
        "std_perc.score(X_val, y_val)"
      ],
      "execution_count": 483,
      "outputs": [
        {
          "output_type": "stream",
          "name": "stdout",
          "text": [
            "R-squared coefficient:\n"
          ]
        },
        {
          "output_type": "execute_result",
          "data": {
            "text/plain": [
              "0.5075"
            ]
          },
          "metadata": {},
          "execution_count": 483
        }
      ]
    },
    {
      "cell_type": "markdown",
      "metadata": {
        "id": "4VDpv7DL_SbR"
      },
      "source": [
        "Standardizzando le feature il tasso di accuratezza sale, infatti avevamo già visto in precedenza che avevano ordini di grandezza molto differenti tra loro.\n",
        "Ora proviamo la **regolarizzazione L1**"
      ]
    },
    {
      "cell_type": "code",
      "metadata": {
        "id": "boBEJyUs_dmH"
      },
      "source": [
        "std_l1_model = Pipeline([\n",
        "                      (\"scaler\", StandardScaler()),\n",
        "                      (\"perc\", Perceptron(penalty=\"l1\", n_jobs=-1, random_state=42))\n",
        "])"
      ],
      "execution_count": 484,
      "outputs": []
    },
    {
      "cell_type": "code",
      "metadata": {
        "id": "GOId57sM_s-l",
        "colab": {
          "base_uri": "https://localhost:8080/"
        },
        "outputId": "3f3a31d4-7c4d-4d5a-fa62-0f11ee65c256"
      },
      "source": [
        "std_l1_model.fit(X_train, y_train)\n",
        "print(\"R-squared coefficient:\") \n",
        "std_l1_model.score(X_val, y_val)"
      ],
      "execution_count": 485,
      "outputs": [
        {
          "output_type": "stream",
          "name": "stdout",
          "text": [
            "R-squared coefficient:\n"
          ]
        },
        {
          "output_type": "execute_result",
          "data": {
            "text/plain": [
              "0.4775"
            ]
          },
          "metadata": {},
          "execution_count": 485
        }
      ]
    },
    {
      "cell_type": "markdown",
      "metadata": {
        "id": "kPIOwTmlEIZ3"
      },
      "source": [
        "La regolarizzazione abbassa il tasso di accuratezza, quindi ho deciso di non eliminare feature dal dataset."
      ]
    },
    {
      "cell_type": "markdown",
      "metadata": {
        "id": "sxs7Wuu3LSNr"
      },
      "source": [
        "# **Modellazione**"
      ]
    },
    {
      "cell_type": "code",
      "metadata": {
        "id": "jQ7T-YsTT7Me"
      },
      "source": [
        "from sklearn.model_selection import StratifiedKFold\n",
        "from sklearn.model_selection import GridSearchCV\n",
        "from sklearn.svm import SVC\n",
        "from sklearn.tree import DecisionTreeClassifier\n",
        "from sklearn.linear_model import LogisticRegression\n",
        "from sklearn.ensemble import RandomForestClassifier"
      ],
      "execution_count": 487,
      "outputs": []
    },
    {
      "cell_type": "markdown",
      "metadata": {
        "id": "-svy9_0uQUWg"
      },
      "source": [
        "Creiamo dei dizionari per memorizzare informazioni sui modelli"
      ]
    },
    {
      "cell_type": "code",
      "metadata": {
        "id": "2eD0OeZjLV0D"
      },
      "source": [
        "scores = {}\n",
        "f1_scores = {}\n",
        "precision = {}\n",
        "recall = {}\n",
        "models = []\n",
        "confusion_m = {}\n",
        "mse = {}"
      ],
      "execution_count": 488,
      "outputs": []
    },
    {
      "cell_type": "markdown",
      "metadata": {
        "id": "KFdi2TCGRQQR"
      },
      "source": [
        "**Perceptron**"
      ]
    },
    {
      "cell_type": "code",
      "metadata": {
        "id": "IySwArPDUAlC"
      },
      "source": [
        "models.append(\"Perceptron\")\n",
        "\n",
        "model = Pipeline([\n",
        "    (\"scaler\", StandardScaler()),\n",
        "    (\"perc\", Perceptron(random_state=42))\n",
        "])\n",
        "\n",
        "param = {\n",
        "    \"scaler\": [StandardScaler()],\n",
        "    \"perc__penalty\": [None, \"l2\", \"l1\"],\n",
        "    \"perc__fit_intercept\": [False, True]\n",
        "}"
      ],
      "execution_count": 489,
      "outputs": []
    },
    {
      "cell_type": "code",
      "metadata": {
        "id": "ZDtsl4HPbUO8"
      },
      "source": [
        "skf = StratifiedKFold(3, shuffle=True, random_state=42)"
      ],
      "execution_count": 490,
      "outputs": []
    },
    {
      "cell_type": "code",
      "metadata": {
        "id": "L9FdXllzbJru",
        "colab": {
          "base_uri": "https://localhost:8080/"
        },
        "outputId": "e9b2817e-07dc-4ebc-eca0-adb8274c4d44"
      },
      "source": [
        "perc_gv = GridSearchCV(model, param, cv=skf)\n",
        "perc_gv.fit(X_train, y_train)"
      ],
      "execution_count": 491,
      "outputs": [
        {
          "output_type": "execute_result",
          "data": {
            "text/plain": [
              "GridSearchCV(cv=StratifiedKFold(n_splits=3, random_state=42, shuffle=True),\n",
              "             error_score=nan,\n",
              "             estimator=Pipeline(memory=None,\n",
              "                                steps=[('scaler',\n",
              "                                        StandardScaler(copy=True,\n",
              "                                                       with_mean=True,\n",
              "                                                       with_std=True)),\n",
              "                                       ('perc',\n",
              "                                        Perceptron(alpha=0.0001,\n",
              "                                                   class_weight=None,\n",
              "                                                   early_stopping=False,\n",
              "                                                   eta0=1.0, fit_intercept=True,\n",
              "                                                   max_iter=1000,\n",
              "                                                   n_iter_no_change=5,\n",
              "                                                   n_jobs=None, penalty=None,...\n",
              "                                                   shuffle=True, tol=0.001,\n",
              "                                                   validation_fraction=0.1,\n",
              "                                                   verbose=0,\n",
              "                                                   warm_start=False))],\n",
              "                                verbose=False),\n",
              "             iid='deprecated', n_jobs=None,\n",
              "             param_grid={'perc__fit_intercept': [False, True],\n",
              "                         'perc__penalty': [None, 'l2', 'l1'],\n",
              "                         'scaler': [StandardScaler(copy=True, with_mean=True,\n",
              "                                                   with_std=True)]},\n",
              "             pre_dispatch='2*n_jobs', refit=True, return_train_score=False,\n",
              "             scoring=None, verbose=0)"
            ]
          },
          "metadata": {},
          "execution_count": 491
        }
      ]
    },
    {
      "cell_type": "code",
      "metadata": {
        "id": "GX4NtNc_b7Dj",
        "colab": {
          "base_uri": "https://localhost:8080/"
        },
        "outputId": "80c5befe-ea3d-40ca-b174-6960cc4f728a"
      },
      "source": [
        "print(\"Punteggio migliore: {score}\".format(score=perc_gv.score(X_val, y_val)));\n",
        "print(\"F1 score: {score}\".format(score=f1_score(y_val, perc_gv.predict(X_val), average=\"binary\")));\n",
        "print(\"Precision score: {score}\".format(score=precision_score(y_val, perc_gv.predict(X_val))))\n",
        "print(\"Recall score: {score}\".format(score=recall_score(y_val, perc_gv.predict(X_val))))\n",
        "print(\"Parametri migliori: {params}\".format(params=perc_gv.best_params_))\n",
        "\n",
        "modelName = models[len(models)-1]\n",
        "scores[modelName] = perc_gv.score(X_val, y_val);\n",
        "f1_scores[modelName] = f1_score(y_val, perc_gv.predict(X_val), average=\"binary\")\n",
        "precision[modelName] = precision_score(y_val, perc_gv.predict(X_val))\n",
        "recall[modelName] = recall_score(y_val, perc_gv.predict(X_val))"
      ],
      "execution_count": 492,
      "outputs": [
        {
          "output_type": "stream",
          "name": "stdout",
          "text": [
            "Punteggio migliore: 0.50125\n",
            "F1 score: 0.5221556886227544\n",
            "Precision score: 0.5227817745803357\n",
            "Recall score: 0.5215311004784688\n",
            "Parametri migliori: {'perc__fit_intercept': False, 'perc__penalty': 'l1', 'scaler': StandardScaler(copy=True, with_mean=True, with_std=True)}\n"
          ]
        }
      ]
    },
    {
      "cell_type": "code",
      "metadata": {
        "id": "DRlQzdy5jsRa",
        "colab": {
          "base_uri": "https://localhost:8080/"
        },
        "outputId": "7873b004-3193-41a6-cc36-707321ceefb0"
      },
      "source": [
        "index = [\"Not potable\", \"Potable\"]\n",
        "classes = [\"Not potable[P]\", \"Potable[P]\"]\n",
        "confusion_m[modelName] = pd.DataFrame(confusion_matrix(y_val, perc_gv.predict(X_val)), columns=classes, index = index)\n",
        "print(confusion_m[modelName])\n",
        "mse[modelName] = mean_squared_error(y_val, perc_gv.predict(X_val))"
      ],
      "execution_count": 493,
      "outputs": [
        {
          "output_type": "stream",
          "name": "stdout",
          "text": [
            "             Not potable[P]  Potable[P]\n",
            "Not potable             183         199\n",
            "Potable                 200         218\n"
          ]
        }
      ]
    },
    {
      "cell_type": "markdown",
      "metadata": {
        "id": "LWGLNIsKlnSK"
      },
      "source": [
        "**Regressione Logistica**"
      ]
    },
    {
      "cell_type": "code",
      "metadata": {
        "id": "B5DoUtax8DaA"
      },
      "source": [
        "models.append(\"Logistic Regression\")\n",
        "\n",
        "log_model = Pipeline([\n",
        "    (\"scaler\", StandardScaler()),\n",
        "    (\"log_reg\", LogisticRegression(solver='saga', random_state=42))\n",
        "])\n",
        "\n",
        "log_grid = {\n",
        "    \"scaler\": [StandardScaler()],\n",
        "    \"log_reg__penalty\": [\"l2\", \"l1\"],\n",
        "    \"log_reg__C\": np.logspace(-3, 3, 10),\n",
        "    \"log_reg__fit_intercept\": [False, True]\n",
        "}"
      ],
      "execution_count": 494,
      "outputs": []
    },
    {
      "cell_type": "code",
      "metadata": {
        "id": "U7D7Chu_8SMZ",
        "colab": {
          "base_uri": "https://localhost:8080/"
        },
        "outputId": "0ed9cb1e-2c25-4ab4-f97d-05bbe4878520"
      },
      "source": [
        "skf = StratifiedKFold(3, shuffle=True, random_state=42)\n",
        "log_gv = GridSearchCV(log_model, log_grid, cv=skf, n_jobs=-1)\n",
        "log_gv.fit(X_train, y_train)"
      ],
      "execution_count": 495,
      "outputs": [
        {
          "output_type": "execute_result",
          "data": {
            "text/plain": [
              "GridSearchCV(cv=StratifiedKFold(n_splits=3, random_state=42, shuffle=True),\n",
              "             error_score=nan,\n",
              "             estimator=Pipeline(memory=None,\n",
              "                                steps=[('scaler',\n",
              "                                        StandardScaler(copy=True,\n",
              "                                                       with_mean=True,\n",
              "                                                       with_std=True)),\n",
              "                                       ('log_reg',\n",
              "                                        LogisticRegression(C=1.0,\n",
              "                                                           class_weight=None,\n",
              "                                                           dual=False,\n",
              "                                                           fit_intercept=True,\n",
              "                                                           intercept_scaling=1,\n",
              "                                                           l1_ratio=None,\n",
              "                                                           max_iter=100,\n",
              "                                                           multi_class='auto',\n",
              "                                                           n_jobs=...\n",
              "             param_grid={'log_reg__C': array([1.00000000e-03, 4.64158883e-03, 2.15443469e-02, 1.00000000e-01,\n",
              "       4.64158883e-01, 2.15443469e+00, 1.00000000e+01, 4.64158883e+01,\n",
              "       2.15443469e+02, 1.00000000e+03]),\n",
              "                         'log_reg__fit_intercept': [False, True],\n",
              "                         'log_reg__penalty': ['l2', 'l1'],\n",
              "                         'scaler': [StandardScaler(copy=True, with_mean=True,\n",
              "                                                   with_std=True)]},\n",
              "             pre_dispatch='2*n_jobs', refit=True, return_train_score=False,\n",
              "             scoring=None, verbose=0)"
            ]
          },
          "metadata": {},
          "execution_count": 495
        }
      ]
    },
    {
      "cell_type": "code",
      "metadata": {
        "id": "dBzp1mma8XOb",
        "colab": {
          "base_uri": "https://localhost:8080/"
        },
        "outputId": "89f1cadd-0184-4b42-eef1-5817d819b742"
      },
      "source": [
        "print(\"Punteggio migliore: {score}\".format(score=log_gv.score(X_val, y_val)));\n",
        "print(\"F1 score: {score}\".format(score=f1_score(y_val, log_gv.predict(X_val), average=\"binary\")));\n",
        "print(\"Precision score: {score}\".format(score=precision_score(y_val, log_gv.predict(X_val))))\n",
        "print(\"Recall score: {score}\".format(score=recall_score(y_val, log_gv.predict(X_val))))\n",
        "print(\"Parametri migliori: {params}\".format(params=log_gv.best_params_))\n",
        "\n",
        "modelName = models[len(models)-1]\n",
        "scores[modelName] = log_gv.score(X_val, y_val);\n",
        "f1_scores[modelName] = f1_score(y_val, log_gv.predict(X_val), average=\"binary\")\n",
        "precision[modelName] = precision_score(y_val, log_gv.predict(X_val))\n",
        "recall[modelName] = recall_score(y_val, log_gv.predict(X_val))"
      ],
      "execution_count": 496,
      "outputs": [
        {
          "output_type": "stream",
          "name": "stdout",
          "text": [
            "Punteggio migliore: 0.51125\n",
            "F1 score: 0.46947082767978293\n",
            "Precision score: 0.542319749216301\n",
            "Recall score: 0.4138755980861244\n",
            "Parametri migliori: {'log_reg__C': 0.1, 'log_reg__fit_intercept': True, 'log_reg__penalty': 'l1', 'scaler': StandardScaler(copy=True, with_mean=True, with_std=True)}\n"
          ]
        }
      ]
    },
    {
      "cell_type": "code",
      "metadata": {
        "id": "vkkIkLVs3OUK",
        "colab": {
          "base_uri": "https://localhost:8080/"
        },
        "outputId": "fbd5f5ce-54a9-4618-ee4d-e0e85dec3d7c"
      },
      "source": [
        "index = [\"Not potable\", \"Potable\"]\n",
        "classes = [\"Not potable[P]\", \"Potable[P]\"]\n",
        "confusion_m[modelName] = pd.DataFrame(confusion_matrix(y_val, log_gv.predict(X_val)), columns=classes, index = index)\n",
        "print(confusion_m[modelName])\n",
        "mse[modelName] = mean_squared_error(y_val, log_gv.predict(X_val))"
      ],
      "execution_count": 497,
      "outputs": [
        {
          "output_type": "stream",
          "name": "stdout",
          "text": [
            "             Not potable[P]  Potable[P]\n",
            "Not potable             236         146\n",
            "Potable                 245         173\n"
          ]
        }
      ]
    },
    {
      "cell_type": "markdown",
      "metadata": {
        "id": "aVg_0bBc-eTK"
      },
      "source": [
        "**SVC**"
      ]
    },
    {
      "cell_type": "code",
      "metadata": {
        "id": "WWgC01XktYWv"
      },
      "source": [
        "models.append(\"Support Vector Machines\")\n",
        "\n",
        "svc_model = Pipeline([\n",
        "    (\"scaler\", StandardScaler()),\n",
        "    (\"svc\", SVC(random_state=42))\n",
        "])\n",
        "\n",
        "param_svc = {\n",
        "    'scaler': [StandardScaler()],\n",
        "    'svc__kernel': ['linear'],\n",
        "    'svc__kernel': ['rbf'],\n",
        "    \"svc__C\": np.linspace(0.5, 5, 10)\n",
        "}"
      ],
      "execution_count": 498,
      "outputs": []
    },
    {
      "cell_type": "code",
      "metadata": {
        "id": "irL9wBVotY6O",
        "colab": {
          "base_uri": "https://localhost:8080/"
        },
        "outputId": "45538e40-98b2-4858-b24a-e26a8fcd8deb"
      },
      "source": [
        "skf = StratifiedKFold(3, shuffle=True, random_state=42)\n",
        "svc_gv = GridSearchCV(svc_model, param_svc, cv=skf)\n",
        "svc_gv.fit(X_train, y_train)"
      ],
      "execution_count": 499,
      "outputs": [
        {
          "output_type": "execute_result",
          "data": {
            "text/plain": [
              "GridSearchCV(cv=StratifiedKFold(n_splits=3, random_state=42, shuffle=True),\n",
              "             error_score=nan,\n",
              "             estimator=Pipeline(memory=None,\n",
              "                                steps=[('scaler',\n",
              "                                        StandardScaler(copy=True,\n",
              "                                                       with_mean=True,\n",
              "                                                       with_std=True)),\n",
              "                                       ('svc',\n",
              "                                        SVC(C=1.0, break_ties=False,\n",
              "                                            cache_size=200, class_weight=None,\n",
              "                                            coef0=0.0,\n",
              "                                            decision_function_shape='ovr',\n",
              "                                            degree=3, gamma='scale',\n",
              "                                            kernel='rbf', max_iter=-1,\n",
              "                                            pr...lity=False, random_state=42,\n",
              "                                            shrinking=True, tol=0.001,\n",
              "                                            verbose=False))],\n",
              "                                verbose=False),\n",
              "             iid='deprecated', n_jobs=None,\n",
              "             param_grid={'scaler': [StandardScaler(copy=True, with_mean=True,\n",
              "                                                   with_std=True)],\n",
              "                         'svc__C': array([0.5, 1. , 1.5, 2. , 2.5, 3. , 3.5, 4. , 4.5, 5. ]),\n",
              "                         'svc__kernel': ['rbf']},\n",
              "             pre_dispatch='2*n_jobs', refit=True, return_train_score=False,\n",
              "             scoring=None, verbose=0)"
            ]
          },
          "metadata": {},
          "execution_count": 499
        }
      ]
    },
    {
      "cell_type": "code",
      "metadata": {
        "id": "-uNYdhqUtZRA",
        "colab": {
          "base_uri": "https://localhost:8080/"
        },
        "outputId": "2bfd525b-fa17-435e-8f46-00c3483310ee"
      },
      "source": [
        "print(\"Punteggio migliore: {score}\".format(score=svc_gv.score(X_val, y_val)));\n",
        "print(\"F1 score: {score}\".format(score=f1_score(y_val, svc_gv.predict(X_val), average=\"binary\")));\n",
        "print(\"Precision score: {score}\".format(score=precision_score(y_val, svc_gv.predict(X_val))))\n",
        "print(\"Recall score: {score}\".format(score=recall_score(y_val, svc_gv.predict(X_val))))\n",
        "print(\"Parametri migliori: {params}\".format(params=svc_gv.best_params_))\n",
        "\n",
        "modelName = models[len(models)-1]\n",
        "scores[modelName] = svc_gv.score(X_val, y_val);\n",
        "f1_scores[modelName] = f1_score(y_val, svc_gv.predict(X_val), average=\"binary\")\n",
        "precision[modelName] = precision_score(y_val, svc_gv.predict(X_val))\n",
        "recall[modelName] = recall_score(y_val, svc_gv.predict(X_val))"
      ],
      "execution_count": 500,
      "outputs": [
        {
          "output_type": "stream",
          "name": "stdout",
          "text": [
            "Punteggio migliore: 0.66625\n",
            "F1 score: 0.6771463119709795\n",
            "Precision score: 0.684596577017115\n",
            "Recall score: 0.6698564593301436\n",
            "Parametri migliori: {'scaler': StandardScaler(copy=True, with_mean=True, with_std=True), 'svc__C': 1.0, 'svc__kernel': 'rbf'}\n"
          ]
        }
      ]
    },
    {
      "cell_type": "code",
      "metadata": {
        "id": "li0S4n7etZqZ",
        "colab": {
          "base_uri": "https://localhost:8080/"
        },
        "outputId": "924e93fb-d0ae-4eaa-8e18-6fcc682ccc72"
      },
      "source": [
        "index = [\"Not potable\", \"Potable\"]\n",
        "classes = [\"Not potable[P]\", \"Potable[P]\"]\n",
        "confusion_m[modelName] = pd.DataFrame(confusion_matrix(y_val, svc_gv.predict(X_val)), columns=classes, index = index)\n",
        "print(confusion_m[modelName])\n",
        "mse[modelName] = mean_squared_error(y_val, svc_gv.predict(X_val))"
      ],
      "execution_count": 501,
      "outputs": [
        {
          "output_type": "stream",
          "name": "stdout",
          "text": [
            "             Not potable[P]  Potable[P]\n",
            "Not potable             253         129\n",
            "Potable                 138         280\n"
          ]
        }
      ]
    },
    {
      "cell_type": "markdown",
      "metadata": {
        "id": "i2knEhbFbLhs"
      },
      "source": [
        "**Decision tree**"
      ]
    },
    {
      "cell_type": "code",
      "metadata": {
        "id": "GWEF7ZKPbQCK"
      },
      "source": [
        "models.append(\"Decision Tree\")\n",
        "num_features = X.columns.size\n",
        "\n",
        "tree_model = Pipeline([\n",
        "    (\"scaler\", StandardScaler()),\n",
        "    (\"tree\", DecisionTreeClassifier(class_weight=\"balanced\", random_state=42))\n",
        "])\n",
        "\n",
        "tree_grid = {'scaler': [StandardScaler()],\n",
        "             'tree__criterion': ['gini', 'entropy'],\n",
        "             'tree__max_features': range(5, num_features)}"
      ],
      "execution_count": 502,
      "outputs": []
    },
    {
      "cell_type": "code",
      "metadata": {
        "id": "Omg90fn3Hg00",
        "colab": {
          "base_uri": "https://localhost:8080/"
        },
        "outputId": "c182bc7c-28d6-408f-fa4b-8a21d3726648"
      },
      "source": [
        "skf = StratifiedKFold(3, shuffle=True, random_state=42)\n",
        "tree_gv = GridSearchCV(tree_model, tree_grid, cv=skf, n_jobs=-1)\n",
        "tree_gv.fit(X_train, y_train)"
      ],
      "execution_count": 503,
      "outputs": [
        {
          "output_type": "execute_result",
          "data": {
            "text/plain": [
              "GridSearchCV(cv=StratifiedKFold(n_splits=3, random_state=42, shuffle=True),\n",
              "             error_score=nan,\n",
              "             estimator=Pipeline(memory=None,\n",
              "                                steps=[('scaler',\n",
              "                                        StandardScaler(copy=True,\n",
              "                                                       with_mean=True,\n",
              "                                                       with_std=True)),\n",
              "                                       ('tree',\n",
              "                                        DecisionTreeClassifier(ccp_alpha=0.0,\n",
              "                                                               class_weight='balanced',\n",
              "                                                               criterion='gini',\n",
              "                                                               max_depth=None,\n",
              "                                                               max_features=None,\n",
              "                                                               max_leaf_nodes=None,\n",
              "                                                               min_impurity_decre...\n",
              "                                                               min_weight_fraction_leaf=0.0,\n",
              "                                                               presort='deprecated',\n",
              "                                                               random_state=42,\n",
              "                                                               splitter='best'))],\n",
              "                                verbose=False),\n",
              "             iid='deprecated', n_jobs=-1,\n",
              "             param_grid={'scaler': [StandardScaler(copy=True, with_mean=True,\n",
              "                                                   with_std=True)],\n",
              "                         'tree__criterion': ['gini', 'entropy'],\n",
              "                         'tree__max_features': range(5, 9)},\n",
              "             pre_dispatch='2*n_jobs', refit=True, return_train_score=False,\n",
              "             scoring=None, verbose=0)"
            ]
          },
          "metadata": {},
          "execution_count": 503
        }
      ]
    },
    {
      "cell_type": "code",
      "metadata": {
        "id": "_vc_6ZfJHm3u",
        "colab": {
          "base_uri": "https://localhost:8080/"
        },
        "outputId": "754fb5c5-acfa-4441-c68a-19fa5e24a48f"
      },
      "source": [
        "print(\"Punteggio migliore: {score}\".format(score=tree_gv.score(X_val, y_val)));\n",
        "print(\"F1 score: {score}\".format(score=f1_score(y_val, tree_gv.predict(X_val), average=\"binary\")));\n",
        "print(\"Precision score: {score}\".format(score=precision_score(y_val, tree_gv.predict(X_val))))\n",
        "print(\"Recall score: {score}\".format(score=recall_score(y_val, tree_gv.predict(X_val))))\n",
        "print(\"Parametri migliori: {params}\".format(params=tree_gv.best_params_))\n",
        "\n",
        "modelName = models[len(models)-1]\n",
        "scores[modelName] = tree_gv.score(X_val, y_val);\n",
        "f1_scores[modelName] = f1_score(y_val, tree_gv.predict(X_val), average=\"binary\")\n",
        "precision[modelName] = precision_score(y_val, tree_gv.predict(X_val))\n",
        "recall[modelName] = recall_score(y_val, tree_gv.predict(X_val))"
      ],
      "execution_count": 504,
      "outputs": [
        {
          "output_type": "stream",
          "name": "stdout",
          "text": [
            "Punteggio migliore: 0.61625\n",
            "F1 score: 0.6176836861768369\n",
            "Precision score: 0.6441558441558441\n",
            "Recall score: 0.5933014354066986\n",
            "Parametri migliori: {'scaler': StandardScaler(copy=True, with_mean=True, with_std=True), 'tree__criterion': 'entropy', 'tree__max_features': 5}\n"
          ]
        }
      ]
    },
    {
      "cell_type": "code",
      "metadata": {
        "id": "N1hwkELcHp4m",
        "colab": {
          "base_uri": "https://localhost:8080/"
        },
        "outputId": "bdadce1b-7171-4d8b-c2d6-caa8822d8d4e"
      },
      "source": [
        "confusion_m[modelName] = pd.DataFrame(confusion_matrix(y_val, tree_gv.predict(X_val)), columns=classes, index = index)\n",
        "print(confusion_m[modelName])\n",
        "mse[modelName] = mean_squared_error(y_val, tree_gv.predict(X_val))"
      ],
      "execution_count": 505,
      "outputs": [
        {
          "output_type": "stream",
          "name": "stdout",
          "text": [
            "             Not potable[P]  Potable[P]\n",
            "Not potable             245         137\n",
            "Potable                 170         248\n"
          ]
        }
      ]
    },
    {
      "cell_type": "markdown",
      "metadata": {
        "id": "TiBAtzQpL_Tk"
      },
      "source": [
        "**XGBOOST**"
      ]
    },
    {
      "cell_type": "code",
      "metadata": {
        "id": "VC6p-LBQMGa0"
      },
      "source": [
        "from xgboost import XGBClassifier\n",
        "train_data = pd.DataFrame(X_train, columns=['ph', 'Hardness', 'Solids', 'Chloramines', 'Sulfate', 'Conductivity', 'Organic_carbon', 'Trihalomethanes', 'Turbidity'])"
      ],
      "execution_count": 506,
      "outputs": []
    },
    {
      "cell_type": "code",
      "metadata": {
        "id": "2H7P0aRsMAgj"
      },
      "source": [
        "models.append(\"XG Boost\")\n",
        "\n",
        "xgb_model = Pipeline([\n",
        "    (\"scaler\", StandardScaler()),\n",
        "    (\"xgb\", XGBClassifier(nthread=8, objective='binary:logistic', random_state=42))\n",
        "])\n",
        "\n",
        "parameters = {\n",
        "    'xgb__max_depth': [13, 14],\n",
        "    'xgb__grow_policy': [\"lossguide\", \"depthwise\"]\n",
        "}\n",
        "\n",
        "skf = StratifiedKFold(3, shuffle=True, random_state=42)\n",
        "gs = GridSearchCV(xgb_model, parameters, cv=skf)\n",
        "\n",
        "gs.fit(train_data, y_train)\n",
        "y_pred = gs.predict(X_val)"
      ],
      "execution_count": 507,
      "outputs": []
    },
    {
      "cell_type": "code",
      "metadata": {
        "id": "b01so7ZDWg5t",
        "colab": {
          "base_uri": "https://localhost:8080/"
        },
        "outputId": "19a47e10-453c-4863-c701-28ed58232e55"
      },
      "source": [
        "print(\"Punteggio migliore: {score}\".format(score=gs.score(X_val, y_val)));\n",
        "print(\"Precision score: {score}\".format(score=precision_score(y_val, y_pred)))\n",
        "print(\"Recall score: {score}\".format(score=recall_score(y_val, y_pred)))\n",
        "print(\"Parametri migliori: {params}\".format(params=gs.best_params_))\n",
        "\n",
        "modelName = models[len(models)-1]\n",
        "scores[modelName] = gs.score(X_val, y_val)\n",
        "f1_scores[modelName] = f1_score(y_val, y_pred, average=\"binary\")\n",
        "precision[modelName] = precision_score(y_val, y_pred)\n",
        "recall[modelName] = recall_score(y_val, y_pred)"
      ],
      "execution_count": 508,
      "outputs": [
        {
          "output_type": "stream",
          "name": "stdout",
          "text": [
            "Punteggio migliore: 0.6875\n",
            "Precision score: 0.71875\n",
            "Recall score: 0.6602870813397129\n",
            "Parametri migliori: {'xgb__grow_policy': 'lossguide', 'xgb__max_depth': 13}\n"
          ]
        }
      ]
    },
    {
      "cell_type": "code",
      "metadata": {
        "id": "BPjdIsEcN-Md",
        "colab": {
          "base_uri": "https://localhost:8080/"
        },
        "outputId": "5214a54b-fb6c-45d6-cfcc-86c73e59007e"
      },
      "source": [
        "confusion_m[modelName] = pd.DataFrame(confusion_matrix(y_val, y_pred), index=index, columns=classes)\n",
        "print(confusion_m[modelName])\n",
        "mse[modelName] = mean_squared_error(y_val, y_pred)"
      ],
      "execution_count": 509,
      "outputs": [
        {
          "output_type": "stream",
          "name": "stdout",
          "text": [
            "             Not potable[P]  Potable[P]\n",
            "Not potable             274         108\n",
            "Potable                 142         276\n"
          ]
        }
      ]
    },
    {
      "cell_type": "markdown",
      "metadata": {
        "id": "fHHk2MVuJmWR"
      },
      "source": [
        "**Valutazione dei modelli utilizzati**"
      ]
    },
    {
      "cell_type": "code",
      "metadata": {
        "id": "G9Zc3QbtJq_R",
        "colab": {
          "base_uri": "https://localhost:8080/",
          "height": 205
        },
        "outputId": "2c36ba26-7d3c-48a5-99a8-0b139befb8c3"
      },
      "source": [
        "pd.DataFrame.from_dict(scores, orient=\"index\", columns=[\"R^2 score\"])"
      ],
      "execution_count": 510,
      "outputs": [
        {
          "output_type": "execute_result",
          "data": {
            "text/html": [
              "<div>\n",
              "<style scoped>\n",
              "    .dataframe tbody tr th:only-of-type {\n",
              "        vertical-align: middle;\n",
              "    }\n",
              "\n",
              "    .dataframe tbody tr th {\n",
              "        vertical-align: top;\n",
              "    }\n",
              "\n",
              "    .dataframe thead th {\n",
              "        text-align: right;\n",
              "    }\n",
              "</style>\n",
              "<table border=\"1\" class=\"dataframe\">\n",
              "  <thead>\n",
              "    <tr style=\"text-align: right;\">\n",
              "      <th></th>\n",
              "      <th>R^2 score</th>\n",
              "    </tr>\n",
              "  </thead>\n",
              "  <tbody>\n",
              "    <tr>\n",
              "      <th>Perceptron</th>\n",
              "      <td>0.50125</td>\n",
              "    </tr>\n",
              "    <tr>\n",
              "      <th>Logistic Regression</th>\n",
              "      <td>0.51125</td>\n",
              "    </tr>\n",
              "    <tr>\n",
              "      <th>Support Vector Machines</th>\n",
              "      <td>0.66625</td>\n",
              "    </tr>\n",
              "    <tr>\n",
              "      <th>Decision Tree</th>\n",
              "      <td>0.61625</td>\n",
              "    </tr>\n",
              "    <tr>\n",
              "      <th>XG Boost</th>\n",
              "      <td>0.68750</td>\n",
              "    </tr>\n",
              "  </tbody>\n",
              "</table>\n",
              "</div>"
            ],
            "text/plain": [
              "                         R^2 score\n",
              "Perceptron                 0.50125\n",
              "Logistic Regression        0.51125\n",
              "Support Vector Machines    0.66625\n",
              "Decision Tree              0.61625\n",
              "XG Boost                   0.68750"
            ]
          },
          "metadata": {},
          "execution_count": 510
        }
      ]
    },
    {
      "cell_type": "code",
      "metadata": {
        "id": "5-ultcZGmCMX",
        "colab": {
          "base_uri": "https://localhost:8080/",
          "height": 205
        },
        "outputId": "973bd4cb-342c-48c8-c7dd-50d58a3a7692"
      },
      "source": [
        "pd.DataFrame.from_dict(f1_scores, orient=\"index\", columns=[\"F1 score\"])"
      ],
      "execution_count": 511,
      "outputs": [
        {
          "output_type": "execute_result",
          "data": {
            "text/html": [
              "<div>\n",
              "<style scoped>\n",
              "    .dataframe tbody tr th:only-of-type {\n",
              "        vertical-align: middle;\n",
              "    }\n",
              "\n",
              "    .dataframe tbody tr th {\n",
              "        vertical-align: top;\n",
              "    }\n",
              "\n",
              "    .dataframe thead th {\n",
              "        text-align: right;\n",
              "    }\n",
              "</style>\n",
              "<table border=\"1\" class=\"dataframe\">\n",
              "  <thead>\n",
              "    <tr style=\"text-align: right;\">\n",
              "      <th></th>\n",
              "      <th>F1 score</th>\n",
              "    </tr>\n",
              "  </thead>\n",
              "  <tbody>\n",
              "    <tr>\n",
              "      <th>Perceptron</th>\n",
              "      <td>0.522156</td>\n",
              "    </tr>\n",
              "    <tr>\n",
              "      <th>Logistic Regression</th>\n",
              "      <td>0.469471</td>\n",
              "    </tr>\n",
              "    <tr>\n",
              "      <th>Support Vector Machines</th>\n",
              "      <td>0.677146</td>\n",
              "    </tr>\n",
              "    <tr>\n",
              "      <th>Decision Tree</th>\n",
              "      <td>0.617684</td>\n",
              "    </tr>\n",
              "    <tr>\n",
              "      <th>XG Boost</th>\n",
              "      <td>0.688279</td>\n",
              "    </tr>\n",
              "  </tbody>\n",
              "</table>\n",
              "</div>"
            ],
            "text/plain": [
              "                         F1 score\n",
              "Perceptron               0.522156\n",
              "Logistic Regression      0.469471\n",
              "Support Vector Machines  0.677146\n",
              "Decision Tree            0.617684\n",
              "XG Boost                 0.688279"
            ]
          },
          "metadata": {},
          "execution_count": 511
        }
      ]
    },
    {
      "cell_type": "code",
      "metadata": {
        "id": "NZxcHiOWmMaY",
        "colab": {
          "base_uri": "https://localhost:8080/",
          "height": 205
        },
        "outputId": "91f28f3d-b4db-4397-e15e-c4c42fd2dd68"
      },
      "source": [
        "pd.DataFrame.from_dict(recall, orient=\"index\", columns=[\"Recall score\"])"
      ],
      "execution_count": 512,
      "outputs": [
        {
          "output_type": "execute_result",
          "data": {
            "text/html": [
              "<div>\n",
              "<style scoped>\n",
              "    .dataframe tbody tr th:only-of-type {\n",
              "        vertical-align: middle;\n",
              "    }\n",
              "\n",
              "    .dataframe tbody tr th {\n",
              "        vertical-align: top;\n",
              "    }\n",
              "\n",
              "    .dataframe thead th {\n",
              "        text-align: right;\n",
              "    }\n",
              "</style>\n",
              "<table border=\"1\" class=\"dataframe\">\n",
              "  <thead>\n",
              "    <tr style=\"text-align: right;\">\n",
              "      <th></th>\n",
              "      <th>Recall score</th>\n",
              "    </tr>\n",
              "  </thead>\n",
              "  <tbody>\n",
              "    <tr>\n",
              "      <th>Perceptron</th>\n",
              "      <td>0.521531</td>\n",
              "    </tr>\n",
              "    <tr>\n",
              "      <th>Logistic Regression</th>\n",
              "      <td>0.413876</td>\n",
              "    </tr>\n",
              "    <tr>\n",
              "      <th>Support Vector Machines</th>\n",
              "      <td>0.669856</td>\n",
              "    </tr>\n",
              "    <tr>\n",
              "      <th>Decision Tree</th>\n",
              "      <td>0.593301</td>\n",
              "    </tr>\n",
              "    <tr>\n",
              "      <th>XG Boost</th>\n",
              "      <td>0.660287</td>\n",
              "    </tr>\n",
              "  </tbody>\n",
              "</table>\n",
              "</div>"
            ],
            "text/plain": [
              "                         Recall score\n",
              "Perceptron                   0.521531\n",
              "Logistic Regression          0.413876\n",
              "Support Vector Machines      0.669856\n",
              "Decision Tree                0.593301\n",
              "XG Boost                     0.660287"
            ]
          },
          "metadata": {},
          "execution_count": 512
        }
      ]
    },
    {
      "cell_type": "code",
      "metadata": {
        "id": "agdze8KGmSWq",
        "colab": {
          "base_uri": "https://localhost:8080/",
          "height": 205
        },
        "outputId": "11a65086-92da-4b8d-827a-d6f43ca8d536"
      },
      "source": [
        "pd.DataFrame.from_dict(precision, orient=\"index\", columns=[\"Precision score\"])"
      ],
      "execution_count": 513,
      "outputs": [
        {
          "output_type": "execute_result",
          "data": {
            "text/html": [
              "<div>\n",
              "<style scoped>\n",
              "    .dataframe tbody tr th:only-of-type {\n",
              "        vertical-align: middle;\n",
              "    }\n",
              "\n",
              "    .dataframe tbody tr th {\n",
              "        vertical-align: top;\n",
              "    }\n",
              "\n",
              "    .dataframe thead th {\n",
              "        text-align: right;\n",
              "    }\n",
              "</style>\n",
              "<table border=\"1\" class=\"dataframe\">\n",
              "  <thead>\n",
              "    <tr style=\"text-align: right;\">\n",
              "      <th></th>\n",
              "      <th>Precision score</th>\n",
              "    </tr>\n",
              "  </thead>\n",
              "  <tbody>\n",
              "    <tr>\n",
              "      <th>Perceptron</th>\n",
              "      <td>0.522782</td>\n",
              "    </tr>\n",
              "    <tr>\n",
              "      <th>Logistic Regression</th>\n",
              "      <td>0.542320</td>\n",
              "    </tr>\n",
              "    <tr>\n",
              "      <th>Support Vector Machines</th>\n",
              "      <td>0.684597</td>\n",
              "    </tr>\n",
              "    <tr>\n",
              "      <th>Decision Tree</th>\n",
              "      <td>0.644156</td>\n",
              "    </tr>\n",
              "    <tr>\n",
              "      <th>XG Boost</th>\n",
              "      <td>0.718750</td>\n",
              "    </tr>\n",
              "  </tbody>\n",
              "</table>\n",
              "</div>"
            ],
            "text/plain": [
              "                         Precision score\n",
              "Perceptron                      0.522782\n",
              "Logistic Regression             0.542320\n",
              "Support Vector Machines         0.684597\n",
              "Decision Tree                   0.644156\n",
              "XG Boost                        0.718750"
            ]
          },
          "metadata": {},
          "execution_count": 513
        }
      ]
    },
    {
      "cell_type": "code",
      "metadata": {
        "id": "pmTP5x46nhWD",
        "colab": {
          "base_uri": "https://localhost:8080/"
        },
        "outputId": "0c71a090-cac6-416a-c1ac-8cf0a4344ce3"
      },
      "source": [
        "for i in range(len(models)):\n",
        "  print(models[i])\n",
        "  print(confusion_m[models[i]])\n",
        "  print('\\n')"
      ],
      "execution_count": 514,
      "outputs": [
        {
          "output_type": "stream",
          "name": "stdout",
          "text": [
            "Perceptron\n",
            "             Not potable[P]  Potable[P]\n",
            "Not potable             183         199\n",
            "Potable                 200         218\n",
            "\n",
            "\n",
            "Logistic Regression\n",
            "             Not potable[P]  Potable[P]\n",
            "Not potable             236         146\n",
            "Potable                 245         173\n",
            "\n",
            "\n",
            "Support Vector Machines\n",
            "             Not potable[P]  Potable[P]\n",
            "Not potable             253         129\n",
            "Potable                 138         280\n",
            "\n",
            "\n",
            "Decision Tree\n",
            "             Not potable[P]  Potable[P]\n",
            "Not potable             245         137\n",
            "Potable                 170         248\n",
            "\n",
            "\n",
            "XG Boost\n",
            "             Not potable[P]  Potable[P]\n",
            "Not potable             274         108\n",
            "Potable                 142         276\n",
            "\n",
            "\n"
          ]
        }
      ]
    },
    {
      "cell_type": "markdown",
      "metadata": {
        "id": "j8xgEpIwB4MX"
      },
      "source": [
        "**Confronto modelli con intervallo di confidenza**"
      ]
    },
    {
      "cell_type": "markdown",
      "metadata": {
        "id": "ATDt86NaM6Kr"
      },
      "source": [
        "Quanto sono affidabili i modelli? Calcoliamo il valore di accuratezza in un intervallo di confidenza al 95%"
      ]
    },
    {
      "cell_type": "code",
      "metadata": {
        "id": "HAGjsSxrcSFn"
      },
      "source": [
        "def accuracy(confusion_m):\n",
        "  return np.diag(confusion_m).sum() / confusion_m.sum().sum()"
      ],
      "execution_count": 515,
      "outputs": []
    },
    {
      "cell_type": "code",
      "metadata": {
        "id": "oOACA9oScVwD"
      },
      "source": [
        "def confidence_interval(accuracy, N, Z):\n",
        "  den = (2*(N+Z**2))\n",
        "  variance = (Z*np.sqrt(Z**2+4*N*accuracy-4*N*accuracy**2)) / den\n",
        "  a = (2*N*accuracy+Z**2) / den\n",
        "  inf = a - variance\n",
        "  sup = a + variance\n",
        "  return np.round((inf, sup), 4)"
      ],
      "execution_count": 516,
      "outputs": []
    },
    {
      "cell_type": "code",
      "metadata": {
        "id": "SlOlWEG-6BA3"
      },
      "source": [
        "def confidence_interval_between_models99(mse1, mse2):\n",
        "  d = np.abs(mse1 - mse2)\n",
        "  variance = (mse1 * (1 - mse1)) / len(X_val) + (mse2 * (1 - mse2)) / len(X_val)\n",
        "  d_min = d - 2.58 * np.sqrt(variance)\n",
        "  d_max = d + 2.58 * np.sqrt(variance)\n",
        "  return np.round((d_min, d_max), 4)"
      ],
      "execution_count": 517,
      "outputs": []
    },
    {
      "cell_type": "code",
      "metadata": {
        "id": "ZONbSRqKcY6L",
        "colab": {
          "base_uri": "https://localhost:8080/",
          "height": 205
        },
        "outputId": "33812910-baba-46b2-95ae-2b49e952deec"
      },
      "source": [
        "#Intervallo di confidenza al 95%\n",
        "Z = 1.96\n",
        "\n",
        "pd.DataFrame([confidence_interval(accuracy(confusion_m[models[i]]), len(X_val), Z)  for i in range(5)],\n",
        "              index=models,\n",
        "              columns=[\"inf\", \"sup\"])"
      ],
      "execution_count": 518,
      "outputs": [
        {
          "output_type": "execute_result",
          "data": {
            "text/html": [
              "<div>\n",
              "<style scoped>\n",
              "    .dataframe tbody tr th:only-of-type {\n",
              "        vertical-align: middle;\n",
              "    }\n",
              "\n",
              "    .dataframe tbody tr th {\n",
              "        vertical-align: top;\n",
              "    }\n",
              "\n",
              "    .dataframe thead th {\n",
              "        text-align: right;\n",
              "    }\n",
              "</style>\n",
              "<table border=\"1\" class=\"dataframe\">\n",
              "  <thead>\n",
              "    <tr style=\"text-align: right;\">\n",
              "      <th></th>\n",
              "      <th>inf</th>\n",
              "      <th>sup</th>\n",
              "    </tr>\n",
              "  </thead>\n",
              "  <tbody>\n",
              "    <tr>\n",
              "      <th>Perceptron</th>\n",
              "      <td>0.4667</td>\n",
              "      <td>0.5358</td>\n",
              "    </tr>\n",
              "    <tr>\n",
              "      <th>Logistic Regression</th>\n",
              "      <td>0.4766</td>\n",
              "      <td>0.5458</td>\n",
              "    </tr>\n",
              "    <tr>\n",
              "      <th>Support Vector Machines</th>\n",
              "      <td>0.6328</td>\n",
              "      <td>0.6981</td>\n",
              "    </tr>\n",
              "    <tr>\n",
              "      <th>Decision Tree</th>\n",
              "      <td>0.5821</td>\n",
              "      <td>0.6493</td>\n",
              "    </tr>\n",
              "    <tr>\n",
              "      <th>XG Boost</th>\n",
              "      <td>0.6545</td>\n",
              "      <td>0.7187</td>\n",
              "    </tr>\n",
              "  </tbody>\n",
              "</table>\n",
              "</div>"
            ],
            "text/plain": [
              "                            inf     sup\n",
              "Perceptron               0.4667  0.5358\n",
              "Logistic Regression      0.4766  0.5458\n",
              "Support Vector Machines  0.6328  0.6981\n",
              "Decision Tree            0.5821  0.6493\n",
              "XG Boost                 0.6545  0.7187"
            ]
          },
          "metadata": {},
          "execution_count": 518
        }
      ]
    },
    {
      "cell_type": "code",
      "metadata": {
        "id": "m6_Oobhxr2kT",
        "colab": {
          "base_uri": "https://localhost:8080/"
        },
        "outputId": "a2889e89-1379-4843-b298-7c068e2f1c9e"
      },
      "source": [
        "for i in range(len(models)):\n",
        "  for k in range(i+1, len(models)):\n",
        "    print(models[i] + \" vs \" + models[k])\n",
        "    print(confidence_interval_between_models99(mse[models[i]], mse[models[k]]))"
      ],
      "execution_count": 519,
      "outputs": [
        {
          "output_type": "stream",
          "name": "stdout",
          "text": [
            "Perceptron vs Logistic Regression\n",
            "[-0.0545  0.0745]\n",
            "Perceptron vs Support Vector Machines\n",
            "[0.1023 0.2277]\n",
            "Perceptron vs Decision Tree\n",
            "[0.0514 0.1786]\n",
            "Perceptron vs XG Boost\n",
            "[0.1241 0.2484]\n",
            "Logistic Regression vs Support Vector Machines\n",
            "[0.0923 0.2177]\n",
            "Logistic Regression vs Decision Tree\n",
            "[0.0414 0.1686]\n",
            "Logistic Regression vs XG Boost\n",
            "[0.1141 0.2384]\n",
            "Support Vector Machines vs Decision Tree\n",
            "[-0.0118  0.1118]\n",
            "Support Vector Machines vs XG Boost\n",
            "[-0.0391  0.0816]\n",
            "Decision Tree vs XG Boost\n",
            "[0.01   0.1325]\n"
          ]
        }
      ]
    },
    {
      "cell_type": "markdown",
      "metadata": {
        "id": "kWWAS0OxMu2C"
      },
      "source": [
        "I modelli che performano meglio non presentano differenze significative."
      ]
    },
    {
      "cell_type": "markdown",
      "metadata": {
        "id": "AS4xZvDtdo1t"
      },
      "source": [
        "**Confronto con un modello casuale**"
      ]
    },
    {
      "cell_type": "code",
      "metadata": {
        "id": "94Pbuvp4dvgx"
      },
      "source": [
        "from sklearn.dummy import DummyClassifier"
      ],
      "execution_count": 520,
      "outputs": []
    },
    {
      "cell_type": "code",
      "metadata": {
        "id": "Bv8SiwoCdsIQ",
        "colab": {
          "base_uri": "https://localhost:8080/"
        },
        "outputId": "9fe05a05-c6fb-49dd-8398-b07abe761cfa"
      },
      "source": [
        "random = DummyClassifier(strategy=\"uniform\", random_state=42)\n",
        "random.fit(X_train, y_train)"
      ],
      "execution_count": 521,
      "outputs": [
        {
          "output_type": "execute_result",
          "data": {
            "text/plain": [
              "DummyClassifier(constant=None, random_state=42, strategy='uniform')"
            ]
          },
          "metadata": {},
          "execution_count": 521
        }
      ]
    },
    {
      "cell_type": "code",
      "metadata": {
        "id": "4IhVOGyFLtL0"
      },
      "source": [
        "y_pred = random.predict(X_val)\n",
        "mse[\"Random\"] = mean_squared_error(y_val, y_pred)"
      ],
      "execution_count": 522,
      "outputs": []
    },
    {
      "cell_type": "code",
      "metadata": {
        "id": "wqe02KV-L_q0",
        "colab": {
          "base_uri": "https://localhost:8080/"
        },
        "outputId": "e8df390d-1a52-49b9-cdda-0650349a7ec9"
      },
      "source": [
        "for i in range(len(models)):\n",
        "  print(models[i] + \" vs Random\")\n",
        "  print(confidence_interval_between_models99(mse[models[i]], mse[\"Random\"]))"
      ],
      "execution_count": 523,
      "outputs": [
        {
          "output_type": "stream",
          "name": "stdout",
          "text": [
            "Perceptron vs Random\n",
            "[-0.0407  0.0882]\n",
            "Logistic Regression vs Random\n",
            "[-0.0307  0.0982]\n",
            "Support Vector Machines vs Random\n",
            "[0.1261 0.2514]\n",
            "Decision Tree vs Random\n",
            "[0.0752 0.2023]\n",
            "XG Boost vs Random\n",
            "[0.1478 0.2722]\n"
          ]
        }
      ]
    },
    {
      "cell_type": "markdown",
      "metadata": {
        "id": "NimKot8SMcmJ"
      },
      "source": [
        "I modelli basati su Perceptron e Logistic Regression non sono statisticamente migliori rispetto a quello Random.\n",
        "Tuttavia, i modelli che hanno mostrato score più alti già nelle precedenti analisi performano in modo significativo rispetto al modello casuale."
      ]
    }
  ]
}