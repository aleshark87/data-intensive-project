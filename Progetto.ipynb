{
  "nbformat": 4,
  "nbformat_minor": 0,
  "metadata": {
    "colab": {
      "name": "Progetto.ipynb",
      "provenance": [],
      "collapsed_sections": [],
      "authorship_tag": "ABX9TyP0umVrqfw5wUPGzJ6ZwAgu",
      "include_colab_link": true
    },
    "kernelspec": {
      "name": "python3",
      "display_name": "Python 3"
    },
    "language_info": {
      "name": "python"
    }
  },
  "cells": [
    {
      "cell_type": "markdown",
      "metadata": {
        "id": "view-in-github",
        "colab_type": "text"
      },
      "source": [
        "<a href=\"https://colab.research.google.com/github/aleshark87/data-intensive-project/blob/main/Progetto.ipynb\" target=\"_parent\"><img src=\"https://colab.research.google.com/assets/colab-badge.svg\" alt=\"Open In Colab\"/></a>"
      ]
    },
    {
      "cell_type": "markdown",
      "metadata": {
        "id": "9XVHHQ3lEDRB"
      },
      "source": [
        "##Descrizione del problema\n",
        "\n",
        "*In questo progetto si vuole realizzare un modello in grado di predire la potabilità dell'acqua in base a delle analisi effettuate*"
      ]
    },
    {
      "cell_type": "markdown",
      "metadata": {
        "id": "bKSXL3QGo2R1"
      },
      "source": [
        "## Importo le librerie necessarie"
      ]
    },
    {
      "cell_type": "code",
      "metadata": {
        "id": "ZIBDlbOonj6H"
      },
      "source": [
        "import numpy as np\n",
        "import pandas as pd\n",
        "import matplotlib.pyplot as plt\n",
        "import seaborn as sns\n",
        "import os.path\n",
        "from urllib.request import urlretrieve\n",
        "import random"
      ],
      "execution_count": 273,
      "outputs": []
    },
    {
      "cell_type": "markdown",
      "metadata": {
        "id": "c-dHsFXNo6zZ"
      },
      "source": [
        "##Caricamento dei dati\n"
      ]
    },
    {
      "cell_type": "code",
      "metadata": {
        "id": "AVdP1MHMo-42",
        "colab": {
          "base_uri": "https://localhost:8080/",
          "height": 362
        },
        "outputId": "a4d99ae9-0959-4803-f506-a7b5d1cce6f2"
      },
      "source": [
        "dataset_url = \"https://github.com/aleshark87/data-intensive-project/raw/main/water_potability%20(2).csv\"\n",
        "dataset_filename = \"water_potability.csv\"\n",
        "\n",
        "if not os.path.exists(dataset_filename):\n",
        "  urlretrieve(dataset_url, dataset_filename)\n",
        "\n",
        "dataset = pd.read_csv(dataset_filename, sep=\",\")\n",
        "dataset.head(10)  "
      ],
      "execution_count": 214,
      "outputs": [
        {
          "output_type": "execute_result",
          "data": {
            "text/html": [
              "<div>\n",
              "<style scoped>\n",
              "    .dataframe tbody tr th:only-of-type {\n",
              "        vertical-align: middle;\n",
              "    }\n",
              "\n",
              "    .dataframe tbody tr th {\n",
              "        vertical-align: top;\n",
              "    }\n",
              "\n",
              "    .dataframe thead th {\n",
              "        text-align: right;\n",
              "    }\n",
              "</style>\n",
              "<table border=\"1\" class=\"dataframe\">\n",
              "  <thead>\n",
              "    <tr style=\"text-align: right;\">\n",
              "      <th></th>\n",
              "      <th>ph</th>\n",
              "      <th>Hardness</th>\n",
              "      <th>Solids</th>\n",
              "      <th>Chloramines</th>\n",
              "      <th>Sulfate</th>\n",
              "      <th>Conductivity</th>\n",
              "      <th>Organic_carbon</th>\n",
              "      <th>Trihalomethanes</th>\n",
              "      <th>Turbidity</th>\n",
              "      <th>Potability</th>\n",
              "    </tr>\n",
              "  </thead>\n",
              "  <tbody>\n",
              "    <tr>\n",
              "      <th>0</th>\n",
              "      <td>NaN</td>\n",
              "      <td>204.890455</td>\n",
              "      <td>20791.318981</td>\n",
              "      <td>7.300212</td>\n",
              "      <td>368.516441</td>\n",
              "      <td>564.308654</td>\n",
              "      <td>10.379783</td>\n",
              "      <td>86.990970</td>\n",
              "      <td>2.963135</td>\n",
              "      <td>0</td>\n",
              "    </tr>\n",
              "    <tr>\n",
              "      <th>1</th>\n",
              "      <td>3.716080</td>\n",
              "      <td>129.422921</td>\n",
              "      <td>18630.057858</td>\n",
              "      <td>6.635246</td>\n",
              "      <td>NaN</td>\n",
              "      <td>592.885359</td>\n",
              "      <td>15.180013</td>\n",
              "      <td>56.329076</td>\n",
              "      <td>4.500656</td>\n",
              "      <td>0</td>\n",
              "    </tr>\n",
              "    <tr>\n",
              "      <th>2</th>\n",
              "      <td>8.099124</td>\n",
              "      <td>224.236259</td>\n",
              "      <td>19909.541732</td>\n",
              "      <td>9.275884</td>\n",
              "      <td>NaN</td>\n",
              "      <td>418.606213</td>\n",
              "      <td>16.868637</td>\n",
              "      <td>66.420093</td>\n",
              "      <td>3.055934</td>\n",
              "      <td>0</td>\n",
              "    </tr>\n",
              "    <tr>\n",
              "      <th>3</th>\n",
              "      <td>8.316766</td>\n",
              "      <td>214.373394</td>\n",
              "      <td>22018.417441</td>\n",
              "      <td>8.059332</td>\n",
              "      <td>356.886136</td>\n",
              "      <td>363.266516</td>\n",
              "      <td>18.436524</td>\n",
              "      <td>100.341674</td>\n",
              "      <td>4.628771</td>\n",
              "      <td>0</td>\n",
              "    </tr>\n",
              "    <tr>\n",
              "      <th>4</th>\n",
              "      <td>9.092223</td>\n",
              "      <td>181.101509</td>\n",
              "      <td>17978.986339</td>\n",
              "      <td>6.546600</td>\n",
              "      <td>310.135738</td>\n",
              "      <td>398.410813</td>\n",
              "      <td>11.558279</td>\n",
              "      <td>31.997993</td>\n",
              "      <td>4.075075</td>\n",
              "      <td>0</td>\n",
              "    </tr>\n",
              "    <tr>\n",
              "      <th>5</th>\n",
              "      <td>5.584087</td>\n",
              "      <td>188.313324</td>\n",
              "      <td>28748.687739</td>\n",
              "      <td>7.544869</td>\n",
              "      <td>326.678363</td>\n",
              "      <td>280.467916</td>\n",
              "      <td>8.399735</td>\n",
              "      <td>54.917862</td>\n",
              "      <td>2.559708</td>\n",
              "      <td>0</td>\n",
              "    </tr>\n",
              "    <tr>\n",
              "      <th>6</th>\n",
              "      <td>10.223862</td>\n",
              "      <td>248.071735</td>\n",
              "      <td>28749.716544</td>\n",
              "      <td>7.513408</td>\n",
              "      <td>393.663396</td>\n",
              "      <td>283.651634</td>\n",
              "      <td>13.789695</td>\n",
              "      <td>84.603556</td>\n",
              "      <td>2.672989</td>\n",
              "      <td>0</td>\n",
              "    </tr>\n",
              "    <tr>\n",
              "      <th>7</th>\n",
              "      <td>8.635849</td>\n",
              "      <td>203.361523</td>\n",
              "      <td>13672.091764</td>\n",
              "      <td>4.563009</td>\n",
              "      <td>303.309771</td>\n",
              "      <td>474.607645</td>\n",
              "      <td>12.363817</td>\n",
              "      <td>62.798309</td>\n",
              "      <td>4.401425</td>\n",
              "      <td>0</td>\n",
              "    </tr>\n",
              "    <tr>\n",
              "      <th>8</th>\n",
              "      <td>NaN</td>\n",
              "      <td>118.988579</td>\n",
              "      <td>14285.583854</td>\n",
              "      <td>7.804174</td>\n",
              "      <td>268.646941</td>\n",
              "      <td>389.375566</td>\n",
              "      <td>12.706049</td>\n",
              "      <td>53.928846</td>\n",
              "      <td>3.595017</td>\n",
              "      <td>0</td>\n",
              "    </tr>\n",
              "    <tr>\n",
              "      <th>9</th>\n",
              "      <td>11.180284</td>\n",
              "      <td>227.231469</td>\n",
              "      <td>25484.508491</td>\n",
              "      <td>9.077200</td>\n",
              "      <td>404.041635</td>\n",
              "      <td>563.885481</td>\n",
              "      <td>17.927806</td>\n",
              "      <td>71.976601</td>\n",
              "      <td>4.370562</td>\n",
              "      <td>0</td>\n",
              "    </tr>\n",
              "  </tbody>\n",
              "</table>\n",
              "</div>"
            ],
            "text/plain": [
              "          ph    Hardness        Solids  ...  Trihalomethanes  Turbidity  Potability\n",
              "0        NaN  204.890455  20791.318981  ...        86.990970   2.963135           0\n",
              "1   3.716080  129.422921  18630.057858  ...        56.329076   4.500656           0\n",
              "2   8.099124  224.236259  19909.541732  ...        66.420093   3.055934           0\n",
              "3   8.316766  214.373394  22018.417441  ...       100.341674   4.628771           0\n",
              "4   9.092223  181.101509  17978.986339  ...        31.997993   4.075075           0\n",
              "5   5.584087  188.313324  28748.687739  ...        54.917862   2.559708           0\n",
              "6  10.223862  248.071735  28749.716544  ...        84.603556   2.672989           0\n",
              "7   8.635849  203.361523  13672.091764  ...        62.798309   4.401425           0\n",
              "8        NaN  118.988579  14285.583854  ...        53.928846   3.595017           0\n",
              "9  11.180284  227.231469  25484.508491  ...        71.976601   4.370562           0\n",
              "\n",
              "[10 rows x 10 columns]"
            ]
          },
          "metadata": {},
          "execution_count": 214
        }
      ]
    },
    {
      "cell_type": "markdown",
      "metadata": {
        "id": "7QwlH9OI8z9F"
      },
      "source": [
        "##Descrizione delle feature"
      ]
    },
    {
      "cell_type": "markdown",
      "metadata": {
        "id": "At5CW_9T9z83"
      },
      "source": [
        "\n",
        "###Unità di misura:\n",
        "\n",
        "\n",
        "*  **NTU**: Nephelometric Turbidity unit\n",
        "*  **ppm**: Parti per milione\n",
        "*  **μg/L**: Microgrammi per litro\n",
        "*  **mg/L**: Milligrammi per litro\n",
        "\n",
        "###Descrizione:\n",
        "\n",
        "1. **ph**: Misura del pH dell'acqua.\n",
        "2. **Hardness**: Misura della durezza dell'acqua. Viene espressa in mg/L.\n",
        "3. **Solids**: Misura dei materiali disciolti. Viene espressa in ppm.\n",
        "4. **Chloramines**: Misura delle clorammine in ppm.\n",
        "5. **Sulfate**: Misura dei solfati in mg/L.\n",
        "6. **Conductivity**: Conduttività elettrica dell'acqua in μS/cm.\n",
        "7. **Organic_carbon**: Carbonio organico in ppm.\n",
        "8. **Trihalomethanes**: Misura dei trialometani in μg/L.\n",
        "9. **Turbidity**: Misura della torbidità in NTU.\n",
        "10. **Potability**: Indica se l'acqua è potabile, 1 significa potabile e 0 significa non potabile.\n",
        "\n"
      ]
    },
    {
      "cell_type": "markdown",
      "metadata": {
        "id": "JkPVyzLVzyq9"
      },
      "source": [
        "##Analisi generale dei dati"
      ]
    },
    {
      "cell_type": "code",
      "metadata": {
        "id": "VDrKDJunz48s",
        "outputId": "aff11612-1d84-487b-f2d4-5dabaf73a5f8",
        "colab": {
          "base_uri": "https://localhost:8080/",
          "height": 299
        }
      },
      "source": [
        "dataset.describe()"
      ],
      "execution_count": 215,
      "outputs": [
        {
          "output_type": "execute_result",
          "data": {
            "text/html": [
              "<div>\n",
              "<style scoped>\n",
              "    .dataframe tbody tr th:only-of-type {\n",
              "        vertical-align: middle;\n",
              "    }\n",
              "\n",
              "    .dataframe tbody tr th {\n",
              "        vertical-align: top;\n",
              "    }\n",
              "\n",
              "    .dataframe thead th {\n",
              "        text-align: right;\n",
              "    }\n",
              "</style>\n",
              "<table border=\"1\" class=\"dataframe\">\n",
              "  <thead>\n",
              "    <tr style=\"text-align: right;\">\n",
              "      <th></th>\n",
              "      <th>ph</th>\n",
              "      <th>Hardness</th>\n",
              "      <th>Solids</th>\n",
              "      <th>Chloramines</th>\n",
              "      <th>Sulfate</th>\n",
              "      <th>Conductivity</th>\n",
              "      <th>Organic_carbon</th>\n",
              "      <th>Trihalomethanes</th>\n",
              "      <th>Turbidity</th>\n",
              "      <th>Potability</th>\n",
              "    </tr>\n",
              "  </thead>\n",
              "  <tbody>\n",
              "    <tr>\n",
              "      <th>count</th>\n",
              "      <td>2785.000000</td>\n",
              "      <td>3276.000000</td>\n",
              "      <td>3276.000000</td>\n",
              "      <td>3276.000000</td>\n",
              "      <td>2495.000000</td>\n",
              "      <td>3276.000000</td>\n",
              "      <td>3276.000000</td>\n",
              "      <td>3114.000000</td>\n",
              "      <td>3276.000000</td>\n",
              "      <td>3276.000000</td>\n",
              "    </tr>\n",
              "    <tr>\n",
              "      <th>mean</th>\n",
              "      <td>7.080795</td>\n",
              "      <td>196.369496</td>\n",
              "      <td>22014.092526</td>\n",
              "      <td>7.122277</td>\n",
              "      <td>333.775777</td>\n",
              "      <td>426.205111</td>\n",
              "      <td>14.284970</td>\n",
              "      <td>66.396293</td>\n",
              "      <td>3.966786</td>\n",
              "      <td>0.390110</td>\n",
              "    </tr>\n",
              "    <tr>\n",
              "      <th>std</th>\n",
              "      <td>1.594320</td>\n",
              "      <td>32.879761</td>\n",
              "      <td>8768.570828</td>\n",
              "      <td>1.583085</td>\n",
              "      <td>41.416840</td>\n",
              "      <td>80.824064</td>\n",
              "      <td>3.308162</td>\n",
              "      <td>16.175008</td>\n",
              "      <td>0.780382</td>\n",
              "      <td>0.487849</td>\n",
              "    </tr>\n",
              "    <tr>\n",
              "      <th>min</th>\n",
              "      <td>0.000000</td>\n",
              "      <td>47.432000</td>\n",
              "      <td>320.942611</td>\n",
              "      <td>0.352000</td>\n",
              "      <td>129.000000</td>\n",
              "      <td>181.483754</td>\n",
              "      <td>2.200000</td>\n",
              "      <td>0.738000</td>\n",
              "      <td>1.450000</td>\n",
              "      <td>0.000000</td>\n",
              "    </tr>\n",
              "    <tr>\n",
              "      <th>25%</th>\n",
              "      <td>6.093092</td>\n",
              "      <td>176.850538</td>\n",
              "      <td>15666.690297</td>\n",
              "      <td>6.127421</td>\n",
              "      <td>307.699498</td>\n",
              "      <td>365.734414</td>\n",
              "      <td>12.065801</td>\n",
              "      <td>55.844536</td>\n",
              "      <td>3.439711</td>\n",
              "      <td>0.000000</td>\n",
              "    </tr>\n",
              "    <tr>\n",
              "      <th>50%</th>\n",
              "      <td>7.036752</td>\n",
              "      <td>196.967627</td>\n",
              "      <td>20927.833607</td>\n",
              "      <td>7.130299</td>\n",
              "      <td>333.073546</td>\n",
              "      <td>421.884968</td>\n",
              "      <td>14.218338</td>\n",
              "      <td>66.622485</td>\n",
              "      <td>3.955028</td>\n",
              "      <td>0.000000</td>\n",
              "    </tr>\n",
              "    <tr>\n",
              "      <th>75%</th>\n",
              "      <td>8.062066</td>\n",
              "      <td>216.667456</td>\n",
              "      <td>27332.762127</td>\n",
              "      <td>8.114887</td>\n",
              "      <td>359.950170</td>\n",
              "      <td>481.792304</td>\n",
              "      <td>16.557652</td>\n",
              "      <td>77.337473</td>\n",
              "      <td>4.500320</td>\n",
              "      <td>1.000000</td>\n",
              "    </tr>\n",
              "    <tr>\n",
              "      <th>max</th>\n",
              "      <td>14.000000</td>\n",
              "      <td>323.124000</td>\n",
              "      <td>61227.196008</td>\n",
              "      <td>13.127000</td>\n",
              "      <td>481.030642</td>\n",
              "      <td>753.342620</td>\n",
              "      <td>28.300000</td>\n",
              "      <td>124.000000</td>\n",
              "      <td>6.739000</td>\n",
              "      <td>1.000000</td>\n",
              "    </tr>\n",
              "  </tbody>\n",
              "</table>\n",
              "</div>"
            ],
            "text/plain": [
              "                ph     Hardness  ...    Turbidity   Potability\n",
              "count  2785.000000  3276.000000  ...  3276.000000  3276.000000\n",
              "mean      7.080795   196.369496  ...     3.966786     0.390110\n",
              "std       1.594320    32.879761  ...     0.780382     0.487849\n",
              "min       0.000000    47.432000  ...     1.450000     0.000000\n",
              "25%       6.093092   176.850538  ...     3.439711     0.000000\n",
              "50%       7.036752   196.967627  ...     3.955028     0.000000\n",
              "75%       8.062066   216.667456  ...     4.500320     1.000000\n",
              "max      14.000000   323.124000  ...     6.739000     1.000000\n",
              "\n",
              "[8 rows x 10 columns]"
            ]
          },
          "metadata": {},
          "execution_count": 215
        }
      ]
    },
    {
      "cell_type": "markdown",
      "metadata": {
        "id": "S3Q3QAoU0RSQ"
      },
      "source": [
        "Possiamo notare che i dati in nostro possesso sono tutti numerici, e di diversa scala uno dall'altro. Sarà quindi fondamentale procedere allo scaling prima di costruire i modelli. Inoltre, si nota la presenza di valori nulli e di sbilanciamento nella classe **Potability**. \n",
        "I valori nulli verranno rimossi e lo sbilanciamento verrà compensato."
      ]
    },
    {
      "cell_type": "code",
      "metadata": {
        "id": "HO6pYDfJ0otF",
        "outputId": "befb502c-f670-418d-e3e4-b5da451959c9",
        "colab": {
          "base_uri": "https://localhost:8080/",
          "height": 248
        }
      },
      "source": [
        "dataset.Potability.value_counts().plot.pie(autopct=\"%.1f%%\");"
      ],
      "execution_count": 268,
      "outputs": [
        {
          "output_type": "display_data",
          "data": {
            "image/png": "[encoded data removed]",
            "text/plain": [
              "<Figure size 432x288 with 1 Axes>"
            ]
          },
          "metadata": {}
        }
      ]
    },
    {
      "cell_type": "code",
      "metadata": {
        "id": "gVlfRd0G4x_F"
      },
      "source": [
        "def boxplot(col):\n",
        "    r = random.random()\n",
        "    b = random.random()\n",
        "    g = random.random()\n",
        "    clr = (r,b,g)\n",
        "    sns.boxplot(x = 'Potability' , y = col, data = dataset, color=clr, showmeans= False)\n",
        "    plt.title('Distribution for '+ col +' by potability', pad = 20)\n",
        "    plt.grid(False)\n",
        "    plt.show()"
      ],
      "execution_count": 281,
      "outputs": []
    },
    {
      "cell_type": "code",
      "metadata": {
        "id": "EZqoI5KF4yxT",
        "outputId": "1c013d73-36dd-40ca-f49b-25625651cc8a",
        "colab": {
          "base_uri": "https://localhost:8080/",
          "height": 1000
        }
      },
      "source": [
        "for col in cols:\n",
        "    boxplot(col)"
      ],
      "execution_count": 282,
      "outputs": [
        {
          "output_type": "display_data",
          "data": {
            "image/png": "[encoded data removed]",
            "text/plain": [
              "<Figure size 432x288 with 1 Axes>"
            ]
          },
          "metadata": {
            "needs_background": "light"
          }
        },
        {
          "output_type": "display_data",
          "data": {
            "image/png": "[encoded data removed]",
            "text/plain": [
              "<Figure size 432x288 with 1 Axes>"
            ]
          },
          "metadata": {
            "needs_background": "light"
          }
        },
        {
          "output_type": "display_data",
          "data": {
            "image/png": "[encoded data removed]",
            "text/plain": [
              "<Figure size 432x288 with 1 Axes>"
            ]
          },
          "metadata": {
            "needs_background": "light"
          }
        },
        {
          "output_type": "display_data",
          "data": {
            "image/png": "[encoded data removed]",
            "text/plain": [
              "<Figure size 432x288 with 1 Axes>"
            ]
          },
          "metadata": {
            "needs_background": "light"
          }
        },
        {
          "output_type": "display_data",
          "data": {
            "image/png": "[encoded data removed]",
            "text/plain": [
              "<Figure size 432x288 with 1 Axes>"
            ]
          },
          "metadata": {
            "needs_background": "light"
          }
        },
        {
          "output_type": "display_data",
          "data": {
            "image/png": "[encoded data removed]",
            "text/plain": [
              "<Figure size 432x288 with 1 Axes>"
            ]
          },
          "metadata": {
            "needs_background": "light"
          }
        },
        {
          "output_type": "display_data",
          "data": {
            "image/png": "[encoded data removed]",
            "text/plain": [
              "<Figure size 432x288 with 1 Axes>"
            ]
          },
          "metadata": {
            "needs_background": "light"
          }
        },
        {
          "output_type": "display_data",
          "data": {
            "image/png": "[encoded data removed]",
            "text/plain": [
              "<Figure size 432x288 with 1 Axes>"
            ]
          },
          "metadata": {
            "needs_background": "light"
          }
        },
        {
          "output_type": "display_data",
          "data": {
            "image/png": "[encoded data removed]",
            "text/plain": [
              "<Figure size 432x288 with 1 Axes>"
            ]
          },
          "metadata": {
            "needs_background": "light"
          }
        }
      ]
    },
    {
      "cell_type": "markdown",
      "metadata": {
        "id": "HQdGdm-V4-5G"
      },
      "source": [
        "Da questi grafici, che confrontano la distribuzione delle feature nel caso di acqua Potabile o meno, notiamo che non ci sono sbilanciamenti importanti.\n",
        "I valori outlier sono presenti in maniera limitata e quindi non verranno rimossi."
      ]
    },
    {
      "cell_type": "code",
      "metadata": {
        "colab": {
          "base_uri": "https://localhost:8080/",
          "height": 338
        },
        "id": "jFKSMTixihMM",
        "outputId": "cfd3cb53-ce52-4979-bde5-20bf42f27d87"
      },
      "source": [
        "corr = dataset.corr()\n",
        "mask = np.triu(np.ones_like(corr, dtype=bool))\n",
        "sns.heatmap(corr, mask=mask, cmap=\"Reds\");"
      ],
      "execution_count": 216,
      "outputs": [
        {
          "output_type": "display_data",
          "data": {
            "image/png": "[encoded data removed]",
            "text/plain": [
              "<Figure size 432x288 with 2 Axes>"
            ]
          },
          "metadata": {
            "needs_background": "light"
          }
        }
      ]
    },
    {
      "cell_type": "markdown",
      "metadata": {
        "id": "Bv5GzyxD5ugY"
      },
      "source": [
        "Anche la heatmap, che dovrebbe mostrarci correlazioni tra le feature, non ne mostra alcuna rilevante.\n",
        "Modelli con feature non lineari dovrebbero performare meglio."
      ]
    },
    {
      "cell_type": "markdown",
      "metadata": {
        "id": "fzbqFJda6Mhe"
      },
      "source": [
        "T-test Student???"
      ]
    },
    {
      "cell_type": "markdown",
      "metadata": {
        "id": "TAUmTnzAYZxm"
      },
      "source": [
        "##Preparazione dei dati"
      ]
    },
    {
      "cell_type": "markdown",
      "metadata": {
        "id": "tofRqe-DmMTF"
      },
      "source": [
        "Il dataset ha alcuni valori nulli, li rimuoveremo."
      ]
    },
    {
      "cell_type": "code",
      "metadata": {
        "colab": {
          "base_uri": "https://localhost:8080/"
        },
        "id": "SVPkSb6OZnk-",
        "outputId": "b122a8e5-c0ed-4461-b9d0-1c4d545aac7e"
      },
      "source": [
        "dataset.isnull().sum()"
      ],
      "execution_count": 217,
      "outputs": [
        {
          "output_type": "execute_result",
          "data": {
            "text/plain": [
              "ph                 491\n",
              "Hardness             0\n",
              "Solids               0\n",
              "Chloramines          0\n",
              "Sulfate            781\n",
              "Conductivity         0\n",
              "Organic_carbon       0\n",
              "Trihalomethanes    162\n",
              "Turbidity            0\n",
              "Potability           0\n",
              "dtype: int64"
            ]
          },
          "metadata": {},
          "execution_count": 217
        }
      ]
    },
    {
      "cell_type": "code",
      "metadata": {
        "colab": {
          "base_uri": "https://localhost:8080/"
        },
        "id": "9rDjoYgzmntR",
        "outputId": "77aeade5-12e3-420d-fa26-0e1d7e40647c"
      },
      "source": [
        "dataset.dropna(inplace=True)\n",
        "dataset.isnull().sum()"
      ],
      "execution_count": 218,
      "outputs": [
        {
          "output_type": "execute_result",
          "data": {
            "text/plain": [
              "ph                 0\n",
              "Hardness           0\n",
              "Solids             0\n",
              "Chloramines        0\n",
              "Sulfate            0\n",
              "Conductivity       0\n",
              "Organic_carbon     0\n",
              "Trihalomethanes    0\n",
              "Turbidity          0\n",
              "Potability         0\n",
              "dtype: int64"
            ]
          },
          "metadata": {},
          "execution_count": 218
        }
      ]
    },
    {
      "cell_type": "markdown",
      "metadata": {
        "id": "Uo3IrsVe1oAG"
      },
      "source": [
        "##Preparazione del modello"
      ]
    },
    {
      "cell_type": "code",
      "metadata": {
        "id": "QaMFE0JW1rQa"
      },
      "source": [
        "from sklearn.model_selection import train_test_split\n",
        "from sklearn.linear_model import Perceptron\n",
        "from sklearn.pipeline import Pipeline\n",
        "from sklearn.preprocessing import StandardScaler"
      ],
      "execution_count": 219,
      "outputs": []
    },
    {
      "cell_type": "markdown",
      "metadata": {
        "id": "RqevZCtfEWFr"
      },
      "source": [
        "Split in training e validation"
      ]
    },
    {
      "cell_type": "code",
      "metadata": {
        "id": "AAtxTdjyC2ng"
      },
      "source": [
        "X = dataset.drop(columns=\"Potability\")\n",
        "y = dataset[\"Potability\"]"
      ],
      "execution_count": 220,
      "outputs": []
    },
    {
      "cell_type": "code",
      "metadata": {
        "id": "R6vDGmJrAe_m"
      },
      "source": [
        "X_train, X_val, y_train, y_val = train_test_split(\n",
        "    X,y,\n",
        "    test_size = 1/3,\n",
        "    random_state = 42\n",
        ")"
      ],
      "execution_count": 221,
      "outputs": []
    },
    {
      "cell_type": "markdown",
      "metadata": {
        "id": "OBoBV5xd879z"
      },
      "source": [
        "**Perceptron non standardizzato**"
      ]
    },
    {
      "cell_type": "code",
      "metadata": {
        "id": "myrodvfb9Av-"
      },
      "source": [
        "not_std_model = Pipeline([\n",
        "                  (\"perc\", Perceptron(random_state=42))\n",
        "])"
      ],
      "execution_count": 222,
      "outputs": []
    },
    {
      "cell_type": "code",
      "metadata": {
        "colab": {
          "base_uri": "https://localhost:8080/"
        },
        "id": "qC5sx_4Y-AkS",
        "outputId": "1d1c2206-a10c-4b6e-f79f-f7dc25009ce9"
      },
      "source": [
        "not_std_model.fit(X_train, y_train)\n",
        "print(\"R-squared coefficient:\") \n",
        "not_std_model.score(X_val, y_val)"
      ],
      "execution_count": 223,
      "outputs": [
        {
          "output_type": "stream",
          "name": "stdout",
          "text": [
            "R-squared coefficient:\n"
          ]
        },
        {
          "output_type": "execute_result",
          "data": {
            "text/plain": [
              "0.6005961251862891"
            ]
          },
          "metadata": {},
          "execution_count": 223
        }
      ]
    },
    {
      "cell_type": "markdown",
      "metadata": {
        "id": "El52tO86GmbE"
      },
      "source": [
        "# Bilanciamento classi\n"
      ]
    },
    {
      "cell_type": "code",
      "metadata": {
        "id": "qnfYUWqpIYbN"
      },
      "source": [
        "from sklearn.metrics import confusion_matrix\n",
        "from sklearn.metrics import precision_score, recall_score, f1_score\n",
        "from sklearn.metrics import mean_squared_error\n",
        "from imblearn.over_sampling import SMOTE\n",
        "from imblearn.under_sampling import RandomUnderSampler"
      ],
      "execution_count": 224,
      "outputs": []
    },
    {
      "cell_type": "code",
      "metadata": {
        "id": "BUH1Le_3GwWQ"
      },
      "source": [
        "X_train, X_val, y_train, y_val = train_test_split(X, y, test_size=1/3, random_state=42)"
      ],
      "execution_count": 225,
      "outputs": []
    },
    {
      "cell_type": "code",
      "metadata": {
        "colab": {
          "base_uri": "https://localhost:8080/",
          "height": 297
        },
        "id": "Lxa1jPlsJzmA",
        "outputId": "24574fc4-7086-4be2-9a28-7a5892b123bc"
      },
      "source": [
        "sns.countplot(x=y_train)"
      ],
      "execution_count": 226,
      "outputs": [
        {
          "output_type": "execute_result",
          "data": {
            "text/plain": [
              "<matplotlib.axes._subplots.AxesSubplot at 0x7f1c62da0c50>"
            ]
          },
          "metadata": {},
          "execution_count": 226
        },
        {
          "output_type": "display_data",
          "data": {
            "image/png": "[encoded data removed]",
            "text/plain": [
              "<Figure size 432x288 with 1 Axes>"
            ]
          },
          "metadata": {
            "needs_background": "light"
          }
        }
      ]
    },
    {
      "cell_type": "markdown",
      "metadata": {
        "id": "iWxgXFdvKR0t"
      },
      "source": [
        "Faremo un under-sample della maggioranza e un over-sample della minoranza.\n",
        "Qui l'under-sample."
      ]
    },
    {
      "cell_type": "code",
      "metadata": {
        "colab": {
          "base_uri": "https://localhost:8080/"
        },
        "id": "36I8JVGJJab9",
        "outputId": "7d8933d0-4047-425d-ba03-45c58c29dff9"
      },
      "source": [
        "rus = RandomUnderSampler(sampling_strategy=0.75)\n",
        "X_train,y_train = rus.fit_resample(X_train,y_train)"
      ],
      "execution_count": 227,
      "outputs": [
        {
          "output_type": "stream",
          "name": "stderr",
          "text": [
            "/usr/local/lib/python3.7/dist-packages/sklearn/utils/deprecation.py:87: FutureWarning: Function safe_indexing is deprecated; safe_indexing is deprecated in version 0.22 and will be removed in version 0.24.\n",
            "  warnings.warn(msg, category=FutureWarning)\n"
          ]
        }
      ]
    },
    {
      "cell_type": "code",
      "metadata": {
        "colab": {
          "base_uri": "https://localhost:8080/",
          "height": 283
        },
        "id": "0_U6nNyEJ75o",
        "outputId": "d2c0ff78-3d34-42bb-aae0-bdbd985dfbf4"
      },
      "source": [
        "sns.countplot(x=y_train)"
      ],
      "execution_count": 228,
      "outputs": [
        {
          "output_type": "execute_result",
          "data": {
            "text/plain": [
              "<matplotlib.axes._subplots.AxesSubplot at 0x7f1c63154250>"
            ]
          },
          "metadata": {},
          "execution_count": 228
        },
        {
          "output_type": "display_data",
          "data": {
            "image/png": "[encoded data removed]",
            "text/plain": [
              "<Figure size 432x288 with 1 Axes>"
            ]
          },
          "metadata": {
            "needs_background": "light"
          }
        }
      ]
    },
    {
      "cell_type": "markdown",
      "metadata": {
        "id": "2R1a_jtnJQdQ"
      },
      "source": [
        "Over-sample della minoranza tramite SMOTE.\n",
        "\n"
      ]
    },
    {
      "cell_type": "code",
      "metadata": {
        "colab": {
          "base_uri": "https://localhost:8080/"
        },
        "id": "PDHoM0RyIRZh",
        "outputId": "3df56b2e-6644-4311-e246-1b1a2620f537"
      },
      "source": [
        "smote = SMOTE(sampling_strategy='minority')\n",
        "X_train,y_train = smote.fit_resample(X_train,y_train)"
      ],
      "execution_count": 229,
      "outputs": [
        {
          "output_type": "stream",
          "name": "stderr",
          "text": [
            "/usr/local/lib/python3.7/dist-packages/sklearn/utils/deprecation.py:87: FutureWarning: Function safe_indexing is deprecated; safe_indexing is deprecated in version 0.22 and will be removed in version 0.24.\n",
            "  warnings.warn(msg, category=FutureWarning)\n"
          ]
        }
      ]
    },
    {
      "cell_type": "code",
      "metadata": {
        "colab": {
          "base_uri": "https://localhost:8080/",
          "height": 283
        },
        "id": "rI8vPk6aKkg2",
        "outputId": "07103f1e-b7e2-479c-b8d1-d74b571ce317"
      },
      "source": [
        "sns.countplot(x=y_train)"
      ],
      "execution_count": 230,
      "outputs": [
        {
          "output_type": "execute_result",
          "data": {
            "text/plain": [
              "<matplotlib.axes._subplots.AxesSubplot at 0x7f1c62dd6d90>"
            ]
          },
          "metadata": {},
          "execution_count": 230
        },
        {
          "output_type": "display_data",
          "data": {
            "image/png": "[encoded data removed]",
            "text/plain": [
              "<Figure size 432x288 with 1 Axes>"
            ]
          },
          "metadata": {
            "needs_background": "light"
          }
        }
      ]
    },
    {
      "cell_type": "markdown",
      "metadata": {
        "id": "sxs7Wuu3LSNr"
      },
      "source": [
        "# **Modellazione**"
      ]
    },
    {
      "cell_type": "code",
      "metadata": {
        "id": "jQ7T-YsTT7Me"
      },
      "source": [
        "from sklearn.model_selection import StratifiedKFold\n",
        "from sklearn.model_selection import GridSearchCV\n",
        "from sklearn.svm import SVC\n",
        "from sklearn.tree import DecisionTreeClassifier\n",
        "from sklearn.linear_model import LogisticRegression\n",
        "from sklearn.ensemble import RandomForestClassifier"
      ],
      "execution_count": 231,
      "outputs": []
    },
    {
      "cell_type": "markdown",
      "metadata": {
        "id": "-svy9_0uQUWg"
      },
      "source": [
        "Creiamo dei dizionari per memorizzare informazioni sui modelli"
      ]
    },
    {
      "cell_type": "code",
      "metadata": {
        "id": "2eD0OeZjLV0D"
      },
      "source": [
        "scores = {}\n",
        "f1_scores = {}\n",
        "precision = {}\n",
        "recall = {}\n",
        "models = []\n",
        "confusion_m = {}\n",
        "mse = {}"
      ],
      "execution_count": 232,
      "outputs": []
    },
    {
      "cell_type": "markdown",
      "metadata": {
        "id": "KFdi2TCGRQQR"
      },
      "source": [
        "**Perceptron**"
      ]
    },
    {
      "cell_type": "code",
      "metadata": {
        "id": "IySwArPDUAlC"
      },
      "source": [
        "models.append(\"Perceptron\")\n",
        "\n",
        "model = Pipeline([\n",
        "    (\"scaler\", StandardScaler()),\n",
        "    (\"perc\", Perceptron(random_state=42))\n",
        "])\n",
        "\n",
        "param = {\n",
        "    \"scaler\": [StandardScaler()],\n",
        "    \"perc__penalty\": [\"l2\", \"l1\"],\n",
        "    \"perc__alpha\": np.logspace(-4, 0, 5),\n",
        "    \"perc__fit_intercept\": [False, True]\n",
        "}"
      ],
      "execution_count": 233,
      "outputs": []
    },
    {
      "cell_type": "code",
      "metadata": {
        "id": "ZDtsl4HPbUO8"
      },
      "source": [
        "skf = StratifiedKFold(3, shuffle=True, random_state=42)"
      ],
      "execution_count": 234,
      "outputs": []
    },
    {
      "cell_type": "code",
      "metadata": {
        "id": "L9FdXllzbJru",
        "colab": {
          "base_uri": "https://localhost:8080/"
        },
        "outputId": "2eaf2543-5f1e-423d-da9e-d3a64ac01e7c"
      },
      "source": [
        "perc_gv = GridSearchCV(model, param, cv=skf, n_jobs=-1)\n",
        "perc_gv.fit(X_train, y_train)"
      ],
      "execution_count": 235,
      "outputs": [
        {
          "output_type": "execute_result",
          "data": {
            "text/plain": [
              "GridSearchCV(cv=StratifiedKFold(n_splits=3, random_state=42, shuffle=True),\n",
              "             error_score=nan,\n",
              "             estimator=Pipeline(memory=None,\n",
              "                                steps=[('scaler',\n",
              "                                        StandardScaler(copy=True,\n",
              "                                                       with_mean=True,\n",
              "                                                       with_std=True)),\n",
              "                                       ('perc',\n",
              "                                        Perceptron(alpha=0.0001,\n",
              "                                                   class_weight=None,\n",
              "                                                   early_stopping=False,\n",
              "                                                   eta0=1.0, fit_intercept=True,\n",
              "                                                   max_iter=1000,\n",
              "                                                   n_iter_no_change=5,\n",
              "                                                   n_jobs=None, penalty=None,...\n",
              "                                                   verbose=0,\n",
              "                                                   warm_start=False))],\n",
              "                                verbose=False),\n",
              "             iid='deprecated', n_jobs=-1,\n",
              "             param_grid={'perc__alpha': array([1.e-04, 1.e-03, 1.e-02, 1.e-01, 1.e+00]),\n",
              "                         'perc__fit_intercept': [False, True],\n",
              "                         'perc__penalty': ['l2', 'l1'],\n",
              "                         'scaler': [StandardScaler(copy=True, with_mean=True,\n",
              "                                                   with_std=True)]},\n",
              "             pre_dispatch='2*n_jobs', refit=True, return_train_score=False,\n",
              "             scoring=None, verbose=0)"
            ]
          },
          "metadata": {},
          "execution_count": 235
        }
      ]
    },
    {
      "cell_type": "code",
      "metadata": {
        "id": "GX4NtNc_b7Dj",
        "colab": {
          "base_uri": "https://localhost:8080/"
        },
        "outputId": "dda0bd21-45ad-4f75-ae30-494f95e98a13"
      },
      "source": [
        "print(\"Punteggio migliore: {score}\".format(score=perc_gv.score(X_val, y_val)));\n",
        "print(\"F1 score: {score}\".format(score=f1_score(y_val, perc_gv.predict(X_val), average=\"binary\")));\n",
        "print(\"Precision score: {score}\".format(score=precision_score(y_val, perc_gv.predict(X_val))))\n",
        "print(\"Recall score: {score}\".format(score=recall_score(y_val, perc_gv.predict(X_val))))\n",
        "print(\"Parametri migliori: {params}\".format(params=perc_gv.best_params_))\n",
        "\n",
        "modelName = models[len(models)-1]\n",
        "scores[modelName] = perc_gv.score(X_val, y_val);\n",
        "f1_scores[modelName] = f1_score(y_val, perc_gv.predict(X_val), average=\"binary\")\n",
        "precision[modelName] = precision_score(y_val, perc_gv.predict(X_val))\n",
        "recall[modelName] = recall_score(y_val, perc_gv.predict(X_val))"
      ],
      "execution_count": 236,
      "outputs": [
        {
          "output_type": "stream",
          "name": "stdout",
          "text": [
            "Punteggio migliore: 0.39940387481371087\n",
            "F1 score: 0.5708200212992546\n",
            "Precision score: 0.39940387481371087\n",
            "Recall score: 1.0\n",
            "Parametri migliori: {'perc__alpha': 1.0, 'perc__fit_intercept': True, 'perc__penalty': 'l2', 'scaler': StandardScaler(copy=True, with_mean=True, with_std=True)}\n"
          ]
        }
      ]
    },
    {
      "cell_type": "code",
      "metadata": {
        "id": "DRlQzdy5jsRa",
        "colab": {
          "base_uri": "https://localhost:8080/"
        },
        "outputId": "74c6a75c-3c3f-40a4-c650-6e996f790864"
      },
      "source": [
        "index = [\"Not potable\", \"Potable\"]\n",
        "classes = [\"Not potable[P]\", \"Potable[P]\"]\n",
        "confusion_m[modelName] = pd.DataFrame(confusion_matrix(y_val, perc_gv.predict(X_val)), columns=classes, index = index)\n",
        "print(confusion_m[modelName])\n",
        "mse[modelName] = mean_squared_error(y_val, perc_gv.predict(X_val))"
      ],
      "execution_count": 237,
      "outputs": [
        {
          "output_type": "stream",
          "name": "stdout",
          "text": [
            "             Not potable[P]  Potable[P]\n",
            "Not potable               0         403\n",
            "Potable                   0         268\n"
          ]
        }
      ]
    },
    {
      "cell_type": "markdown",
      "metadata": {
        "id": "LWGLNIsKlnSK"
      },
      "source": [
        "**Regressione Logistica**"
      ]
    },
    {
      "cell_type": "code",
      "metadata": {
        "id": "B5DoUtax8DaA"
      },
      "source": [
        "models.append(\"Logistic Regression\")\n",
        "\n",
        "log_model = Pipeline([\n",
        "    (\"scaler\", StandardScaler()),\n",
        "    (\"log_reg\", LogisticRegression(solver='saga', random_state=42))\n",
        "])\n",
        "\n",
        "log_grid = {\n",
        "    \"scaler\": [StandardScaler()],\n",
        "    \"log_reg__penalty\": [\"l2\", \"l1\"],\n",
        "    \"log_reg__C\": np.logspace(-3, 3, 10),\n",
        "    \"log_reg__fit_intercept\": [False, True]\n",
        "}"
      ],
      "execution_count": 238,
      "outputs": []
    },
    {
      "cell_type": "code",
      "metadata": {
        "id": "U7D7Chu_8SMZ",
        "colab": {
          "base_uri": "https://localhost:8080/"
        },
        "outputId": "e52774c2-6a82-4963-df0d-ded87a574587"
      },
      "source": [
        "skf = StratifiedKFold(3, shuffle=True, random_state=42)\n",
        "log_gv = GridSearchCV(log_model, log_grid, cv=skf, n_jobs=-1)\n",
        "log_gv.fit(X_train, y_train)"
      ],
      "execution_count": 239,
      "outputs": [
        {
          "output_type": "execute_result",
          "data": {
            "text/plain": [
              "GridSearchCV(cv=StratifiedKFold(n_splits=3, random_state=42, shuffle=True),\n",
              "             error_score=nan,\n",
              "             estimator=Pipeline(memory=None,\n",
              "                                steps=[('scaler',\n",
              "                                        StandardScaler(copy=True,\n",
              "                                                       with_mean=True,\n",
              "                                                       with_std=True)),\n",
              "                                       ('log_reg',\n",
              "                                        LogisticRegression(C=1.0,\n",
              "                                                           class_weight=None,\n",
              "                                                           dual=False,\n",
              "                                                           fit_intercept=True,\n",
              "                                                           intercept_scaling=1,\n",
              "                                                           l1_ratio=None,\n",
              "                                                           max_iter=100,\n",
              "                                                           multi_class='auto',\n",
              "                                                           n_jobs=...\n",
              "             param_grid={'log_reg__C': array([1.00000000e-03, 4.64158883e-03, 2.15443469e-02, 1.00000000e-01,\n",
              "       4.64158883e-01, 2.15443469e+00, 1.00000000e+01, 4.64158883e+01,\n",
              "       2.15443469e+02, 1.00000000e+03]),\n",
              "                         'log_reg__fit_intercept': [False, True],\n",
              "                         'log_reg__penalty': ['l2', 'l1'],\n",
              "                         'scaler': [StandardScaler(copy=True, with_mean=True,\n",
              "                                                   with_std=True)]},\n",
              "             pre_dispatch='2*n_jobs', refit=True, return_train_score=False,\n",
              "             scoring=None, verbose=0)"
            ]
          },
          "metadata": {},
          "execution_count": 239
        }
      ]
    },
    {
      "cell_type": "code",
      "metadata": {
        "id": "dBzp1mma8XOb",
        "colab": {
          "base_uri": "https://localhost:8080/"
        },
        "outputId": "1f92c752-fc1c-4bc3-b9fc-d4eacff62710"
      },
      "source": [
        "print(\"Punteggio migliore: {score}\".format(score=log_gv.score(X_val, y_val)));\n",
        "print(\"F1 score: {score}\".format(score=f1_score(y_val, log_gv.predict(X_val), average=\"binary\")));\n",
        "print(\"Precision score: {score}\".format(score=precision_score(y_val, log_gv.predict(X_val))))\n",
        "print(\"Recall score: {score}\".format(score=recall_score(y_val, log_gv.predict(X_val))))\n",
        "print(\"Parametri migliori: {params}\".format(params=log_gv.best_params_))\n",
        "\n",
        "modelName = models[len(models)-1]\n",
        "scores[modelName] = log_gv.score(X_val, y_val);\n",
        "f1_scores[modelName] = f1_score(y_val, log_gv.predict(X_val), average=\"binary\")\n",
        "precision[modelName] = precision_score(y_val, log_gv.predict(X_val))\n",
        "recall[modelName] = recall_score(y_val, log_gv.predict(X_val))"
      ],
      "execution_count": 240,
      "outputs": [
        {
          "output_type": "stream",
          "name": "stdout",
          "text": [
            "Punteggio migliore: 0.4798807749627422\n",
            "F1 score: 0.4212271973466003\n",
            "Precision score: 0.37910447761194027\n",
            "Recall score: 0.47388059701492535\n",
            "Parametri migliori: {'log_reg__C': 0.004641588833612777, 'log_reg__fit_intercept': False, 'log_reg__penalty': 'l2', 'scaler': StandardScaler(copy=True, with_mean=True, with_std=True)}\n"
          ]
        }
      ]
    },
    {
      "cell_type": "code",
      "metadata": {
        "id": "vkkIkLVs3OUK",
        "colab": {
          "base_uri": "https://localhost:8080/"
        },
        "outputId": "16c1b7d0-2e18-4d1b-96ca-2f5cfcc89ece"
      },
      "source": [
        "index = [\"Not potable\", \"Potable\"]\n",
        "classes = [\"Not potable[P]\", \"Potable[P]\"]\n",
        "confusion_m[modelName] = pd.DataFrame(confusion_matrix(y_val, log_gv.predict(X_val)), columns=classes, index = index)\n",
        "print(confusion_m[modelName])\n",
        "mse[modelName] = mean_squared_error(y_val, log_gv.predict(X_val))"
      ],
      "execution_count": 241,
      "outputs": [
        {
          "output_type": "stream",
          "name": "stdout",
          "text": [
            "             Not potable[P]  Potable[P]\n",
            "Not potable             195         208\n",
            "Potable                 141         127\n"
          ]
        }
      ]
    },
    {
      "cell_type": "markdown",
      "metadata": {
        "id": "aVg_0bBc-eTK"
      },
      "source": [
        "**SVC**"
      ]
    },
    {
      "cell_type": "code",
      "metadata": {
        "id": "WWgC01XktYWv"
      },
      "source": [
        "models.append(\"Support Vector Machines\")\n",
        "\n",
        "svc_model = Pipeline([\n",
        "    (\"scaler\", StandardScaler()),\n",
        "    (\"svc\", SVC(random_state=42))\n",
        "])\n",
        "\n",
        "param_svc = {\n",
        "    'scaler': [StandardScaler()],\n",
        "    'svc__kernel': ['linear'],\n",
        "    'svc__kernel': ['rbf'],\n",
        "    \"svc__C\": np.linspace(0.5, 5, 10)\n",
        "}"
      ],
      "execution_count": 242,
      "outputs": []
    },
    {
      "cell_type": "code",
      "metadata": {
        "id": "irL9wBVotY6O",
        "colab": {
          "base_uri": "https://localhost:8080/"
        },
        "outputId": "f9babd90-cdeb-46c0-f185-5962f150a200"
      },
      "source": [
        "skf = StratifiedKFold(3, shuffle=True, random_state=42)\n",
        "svc_gv = GridSearchCV(svc_model, param_svc, cv=skf)\n",
        "svc_gv.fit(X_train, y_train)"
      ],
      "execution_count": 243,
      "outputs": [
        {
          "output_type": "execute_result",
          "data": {
            "text/plain": [
              "GridSearchCV(cv=StratifiedKFold(n_splits=3, random_state=42, shuffle=True),\n",
              "             error_score=nan,\n",
              "             estimator=Pipeline(memory=None,\n",
              "                                steps=[('scaler',\n",
              "                                        StandardScaler(copy=True,\n",
              "                                                       with_mean=True,\n",
              "                                                       with_std=True)),\n",
              "                                       ('svc',\n",
              "                                        SVC(C=1.0, break_ties=False,\n",
              "                                            cache_size=200, class_weight=None,\n",
              "                                            coef0=0.0,\n",
              "                                            decision_function_shape='ovr',\n",
              "                                            degree=3, gamma='scale',\n",
              "                                            kernel='rbf', max_iter=-1,\n",
              "                                            pr...lity=False, random_state=42,\n",
              "                                            shrinking=True, tol=0.001,\n",
              "                                            verbose=False))],\n",
              "                                verbose=False),\n",
              "             iid='deprecated', n_jobs=None,\n",
              "             param_grid={'scaler': [StandardScaler(copy=True, with_mean=True,\n",
              "                                                   with_std=True)],\n",
              "                         'svc__C': array([0.5, 1. , 1.5, 2. , 2.5, 3. , 3.5, 4. , 4.5, 5. ]),\n",
              "                         'svc__kernel': ['rbf']},\n",
              "             pre_dispatch='2*n_jobs', refit=True, return_train_score=False,\n",
              "             scoring=None, verbose=0)"
            ]
          },
          "metadata": {},
          "execution_count": 243
        }
      ]
    },
    {
      "cell_type": "code",
      "metadata": {
        "id": "-uNYdhqUtZRA",
        "colab": {
          "base_uri": "https://localhost:8080/"
        },
        "outputId": "cc08b369-476d-445f-c681-893ce0591ce8"
      },
      "source": [
        "print(\"Punteggio migliore: {score}\".format(score=svc_gv.score(X_val, y_val)));\n",
        "print(\"F1 score: {score}\".format(score=f1_score(y_val, svc_gv.predict(X_val), average=\"binary\")));\n",
        "print(\"Precision score: {score}\".format(score=precision_score(y_val, svc_gv.predict(X_val))))\n",
        "print(\"Recall score: {score}\".format(score=recall_score(y_val, svc_gv.predict(X_val))))\n",
        "print(\"Parametri migliori: {params}\".format(params=svc_gv.best_params_))\n",
        "\n",
        "modelName = models[len(models)-1]\n",
        "scores[modelName] = svc_gv.score(X_val, y_val);\n",
        "f1_scores[modelName] = f1_score(y_val, svc_gv.predict(X_val), average=\"binary\")\n",
        "precision[modelName] = precision_score(y_val, svc_gv.predict(X_val))\n",
        "recall[modelName] = recall_score(y_val, svc_gv.predict(X_val))"
      ],
      "execution_count": 244,
      "outputs": [
        {
          "output_type": "stream",
          "name": "stdout",
          "text": [
            "Punteggio migliore: 0.6453055141579732\n",
            "F1 score: 0.5868055555555555\n",
            "Precision score: 0.5487012987012987\n",
            "Recall score: 0.6305970149253731\n",
            "Parametri migliori: {'scaler': StandardScaler(copy=True, with_mean=True, with_std=True), 'svc__C': 2.0, 'svc__kernel': 'rbf'}\n"
          ]
        }
      ]
    },
    {
      "cell_type": "code",
      "metadata": {
        "id": "li0S4n7etZqZ",
        "colab": {
          "base_uri": "https://localhost:8080/"
        },
        "outputId": "4a2edeca-333a-453f-eae1-9556cb94f2b1"
      },
      "source": [
        "index = [\"Not potable\", \"Potable\"]\n",
        "classes = [\"Not potable[P]\", \"Potable[P]\"]\n",
        "confusion_m[modelName] = pd.DataFrame(confusion_matrix(y_val, svc_gv.predict(X_val)), columns=classes, index = index)\n",
        "print(confusion_m[modelName])\n",
        "mse[modelName] = mean_squared_error(y_val, svc_gv.predict(X_val))"
      ],
      "execution_count": 245,
      "outputs": [
        {
          "output_type": "stream",
          "name": "stdout",
          "text": [
            "             Not potable[P]  Potable[P]\n",
            "Not potable             264         139\n",
            "Potable                  99         169\n"
          ]
        }
      ]
    },
    {
      "cell_type": "markdown",
      "metadata": {
        "id": "i2knEhbFbLhs"
      },
      "source": [
        "**Decision tree**"
      ]
    },
    {
      "cell_type": "code",
      "metadata": {
        "id": "GWEF7ZKPbQCK"
      },
      "source": [
        "models.append(\"Decision Tree\")\n",
        "num_features = X.columns.size\n",
        "\n",
        "tree_model = Pipeline([\n",
        "    (\"scaler\", StandardScaler()),\n",
        "    (\"tree\", DecisionTreeClassifier(class_weight=\"balanced\", random_state=42))\n",
        "])\n",
        "\n",
        "tree_grid = {'scaler': [StandardScaler()],\n",
        "             'tree__criterion': ['gini', 'entropy'],\n",
        "             'tree__max_features': range(5, num_features)}"
      ],
      "execution_count": 246,
      "outputs": []
    },
    {
      "cell_type": "code",
      "metadata": {
        "id": "Omg90fn3Hg00",
        "colab": {
          "base_uri": "https://localhost:8080/"
        },
        "outputId": "b0474af1-233d-4985-8d31-d1a5f6629047"
      },
      "source": [
        "skf = StratifiedKFold(3, shuffle=True, random_state=42)\n",
        "tree_gv = GridSearchCV(tree_model, tree_grid, cv=skf, n_jobs=-1)\n",
        "tree_gv.fit(X_train, y_train)"
      ],
      "execution_count": 247,
      "outputs": [
        {
          "output_type": "execute_result",
          "data": {
            "text/plain": [
              "GridSearchCV(cv=StratifiedKFold(n_splits=3, random_state=42, shuffle=True),\n",
              "             error_score=nan,\n",
              "             estimator=Pipeline(memory=None,\n",
              "                                steps=[('scaler',\n",
              "                                        StandardScaler(copy=True,\n",
              "                                                       with_mean=True,\n",
              "                                                       with_std=True)),\n",
              "                                       ('tree',\n",
              "                                        DecisionTreeClassifier(ccp_alpha=0.0,\n",
              "                                                               class_weight='balanced',\n",
              "                                                               criterion='gini',\n",
              "                                                               max_depth=None,\n",
              "                                                               max_features=None,\n",
              "                                                               max_leaf_nodes=None,\n",
              "                                                               min_impurity_decre...\n",
              "                                                               min_weight_fraction_leaf=0.0,\n",
              "                                                               presort='deprecated',\n",
              "                                                               random_state=42,\n",
              "                                                               splitter='best'))],\n",
              "                                verbose=False),\n",
              "             iid='deprecated', n_jobs=-1,\n",
              "             param_grid={'scaler': [StandardScaler(copy=True, with_mean=True,\n",
              "                                                   with_std=True)],\n",
              "                         'tree__criterion': ['gini', 'entropy'],\n",
              "                         'tree__max_features': range(5, 9)},\n",
              "             pre_dispatch='2*n_jobs', refit=True, return_train_score=False,\n",
              "             scoring=None, verbose=0)"
            ]
          },
          "metadata": {},
          "execution_count": 247
        }
      ]
    },
    {
      "cell_type": "code",
      "metadata": {
        "id": "_vc_6ZfJHm3u",
        "colab": {
          "base_uri": "https://localhost:8080/"
        },
        "outputId": "b0028d8e-80ab-4fc2-b001-493db57bdec9"
      },
      "source": [
        "print(\"Punteggio migliore: {score}\".format(score=tree_gv.score(X_val, y_val)));\n",
        "print(\"F1 score: {score}\".format(score=f1_score(y_val, tree_gv.predict(X_val), average=\"binary\")));\n",
        "print(\"Precision score: {score}\".format(score=precision_score(y_val, tree_gv.predict(X_val))))\n",
        "print(\"Recall score: {score}\".format(score=recall_score(y_val, tree_gv.predict(X_val))))\n",
        "print(\"Parametri migliori: {params}\".format(params=tree_gv.best_params_))\n",
        "\n",
        "modelName = models[len(models)-1]\n",
        "scores[modelName] = tree_gv.score(X_val, y_val);\n",
        "f1_scores[modelName] = f1_score(y_val, tree_gv.predict(X_val), average=\"binary\")\n",
        "precision[modelName] = precision_score(y_val, tree_gv.predict(X_val))\n",
        "recall[modelName] = recall_score(y_val, tree_gv.predict(X_val))"
      ],
      "execution_count": 248,
      "outputs": [
        {
          "output_type": "stream",
          "name": "stdout",
          "text": [
            "Punteggio migliore: 0.5707898658718331\n",
            "F1 score: 0.5102040816326531\n",
            "Precision score: 0.46875\n",
            "Recall score: 0.5597014925373134\n",
            "Parametri migliori: {'scaler': StandardScaler(copy=True, with_mean=True, with_std=True), 'tree__criterion': 'entropy', 'tree__max_features': 7}\n"
          ]
        }
      ]
    },
    {
      "cell_type": "code",
      "metadata": {
        "id": "N1hwkELcHp4m",
        "colab": {
          "base_uri": "https://localhost:8080/"
        },
        "outputId": "4eadd839-3e08-460f-a962-b7344d730d5e"
      },
      "source": [
        "confusion_m[modelName] = pd.DataFrame(confusion_matrix(y_val, tree_gv.predict(X_val)), columns=classes, index = index)\n",
        "print(confusion_m[modelName])\n",
        "mse[modelName] = mean_squared_error(y_val, tree_gv.predict(X_val))"
      ],
      "execution_count": 249,
      "outputs": [
        {
          "output_type": "stream",
          "name": "stdout",
          "text": [
            "             Not potable[P]  Potable[P]\n",
            "Not potable             233         170\n",
            "Potable                 118         150\n"
          ]
        }
      ]
    },
    {
      "cell_type": "markdown",
      "metadata": {
        "id": "TiBAtzQpL_Tk"
      },
      "source": [
        "**XGBOOST**"
      ]
    },
    {
      "cell_type": "code",
      "metadata": {
        "id": "VC6p-LBQMGa0"
      },
      "source": [
        "from xgboost import XGBClassifier\n",
        "train_data = pd.DataFrame(X_train, columns=['ph', 'Hardness', 'Solids', 'Chloramines', 'Sulfate', 'Conductivity', 'Organic_carbon', 'Trihalomethanes', 'Turbidity'])"
      ],
      "execution_count": 250,
      "outputs": []
    },
    {
      "cell_type": "code",
      "metadata": {
        "id": "2H7P0aRsMAgj"
      },
      "source": [
        "models.append(\"XG Boost\")\n",
        "\n",
        "xgb_model = Pipeline([\n",
        "    (\"scaler\", StandardScaler()),\n",
        "    (\"xgb\", XGBClassifier(nthread=8, objective='binary:logistic', random_state=42))\n",
        "])\n",
        "\n",
        "parameters = {\n",
        "    'xgb__max_depth': [13, 14],\n",
        "    'xgb__grow_policy': [\"lossguide\", \"depthwise\"]\n",
        "}\n",
        "\n",
        "skf = StratifiedKFold(3, shuffle=True, random_state=42)\n",
        "gs = GridSearchCV(xgb_model, parameters, cv=skf)\n",
        "\n",
        "gs.fit(train_data, y_train)\n",
        "y_pred = gs.predict(X_val)"
      ],
      "execution_count": 251,
      "outputs": []
    },
    {
      "cell_type": "code",
      "metadata": {
        "id": "b01so7ZDWg5t",
        "colab": {
          "base_uri": "https://localhost:8080/"
        },
        "outputId": "c7f661c4-d0d9-4033-b4ef-6d088aff16c9"
      },
      "source": [
        "print(\"Punteggio migliore: {score}\".format(score=gs.score(X_val, y_val)));\n",
        "print(\"Precision score: {score}\".format(score=precision_score(y_val, y_pred)))\n",
        "print(\"Recall score: {score}\".format(score=recall_score(y_val, y_pred)))\n",
        "print(\"Parametri migliori: {params}\".format(params=gs.best_params_))\n",
        "\n",
        "modelName = models[len(models)-1]\n",
        "scores[modelName] = gs.score(X_val, y_val)\n",
        "f1_scores[modelName] = f1_score(y_val, y_pred, average=\"binary\")\n",
        "precision[modelName] = precision_score(y_val, y_pred)\n",
        "recall[modelName] = recall_score(y_val, y_pred)"
      ],
      "execution_count": 252,
      "outputs": [
        {
          "output_type": "stream",
          "name": "stdout",
          "text": [
            "Punteggio migliore: 0.6408345752608048\n",
            "Precision score: 0.5483870967741935\n",
            "Recall score: 0.5708955223880597\n",
            "Parametri migliori: {'xgb__grow_policy': 'lossguide', 'xgb__max_depth': 13}\n"
          ]
        }
      ]
    },
    {
      "cell_type": "code",
      "metadata": {
        "id": "BPjdIsEcN-Md",
        "colab": {
          "base_uri": "https://localhost:8080/"
        },
        "outputId": "834cca2b-133c-49b1-a546-f2484c7ffb8c"
      },
      "source": [
        "confusion_m[modelName] = pd.DataFrame(confusion_matrix(y_val, y_pred), index=index, columns=classes)\n",
        "print(confusion_m[modelName])\n",
        "mse[modelName] = mean_squared_error(y_val, y_pred)"
      ],
      "execution_count": 253,
      "outputs": [
        {
          "output_type": "stream",
          "name": "stdout",
          "text": [
            "             Not potable[P]  Potable[P]\n",
            "Not potable             277         126\n",
            "Potable                 115         153\n"
          ]
        }
      ]
    },
    {
      "cell_type": "markdown",
      "metadata": {
        "id": "fHHk2MVuJmWR"
      },
      "source": [
        "**Valutazione dei modelli utilizzati**"
      ]
    },
    {
      "cell_type": "code",
      "metadata": {
        "id": "G9Zc3QbtJq_R",
        "colab": {
          "base_uri": "https://localhost:8080/",
          "height": 205
        },
        "outputId": "4d4c686a-af58-44c6-b97c-b6346d2380d9"
      },
      "source": [
        "pd.DataFrame.from_dict(scores, orient=\"index\", columns=[\"R^2 score\"])"
      ],
      "execution_count": 254,
      "outputs": [
        {
          "output_type": "execute_result",
          "data": {
            "text/html": [
              "<div>\n",
              "<style scoped>\n",
              "    .dataframe tbody tr th:only-of-type {\n",
              "        vertical-align: middle;\n",
              "    }\n",
              "\n",
              "    .dataframe tbody tr th {\n",
              "        vertical-align: top;\n",
              "    }\n",
              "\n",
              "    .dataframe thead th {\n",
              "        text-align: right;\n",
              "    }\n",
              "</style>\n",
              "<table border=\"1\" class=\"dataframe\">\n",
              "  <thead>\n",
              "    <tr style=\"text-align: right;\">\n",
              "      <th></th>\n",
              "      <th>R^2 score</th>\n",
              "    </tr>\n",
              "  </thead>\n",
              "  <tbody>\n",
              "    <tr>\n",
              "      <th>Perceptron</th>\n",
              "      <td>0.399404</td>\n",
              "    </tr>\n",
              "    <tr>\n",
              "      <th>Logistic Regression</th>\n",
              "      <td>0.479881</td>\n",
              "    </tr>\n",
              "    <tr>\n",
              "      <th>Support Vector Machines</th>\n",
              "      <td>0.645306</td>\n",
              "    </tr>\n",
              "    <tr>\n",
              "      <th>Decision Tree</th>\n",
              "      <td>0.570790</td>\n",
              "    </tr>\n",
              "    <tr>\n",
              "      <th>XG Boost</th>\n",
              "      <td>0.640835</td>\n",
              "    </tr>\n",
              "  </tbody>\n",
              "</table>\n",
              "</div>"
            ],
            "text/plain": [
              "                         R^2 score\n",
              "Perceptron                0.399404\n",
              "Logistic Regression       0.479881\n",
              "Support Vector Machines   0.645306\n",
              "Decision Tree             0.570790\n",
              "XG Boost                  0.640835"
            ]
          },
          "metadata": {},
          "execution_count": 254
        }
      ]
    },
    {
      "cell_type": "code",
      "metadata": {
        "id": "5-ultcZGmCMX",
        "colab": {
          "base_uri": "https://localhost:8080/",
          "height": 205
        },
        "outputId": "9d9fe624-4ee8-49f4-f49d-e977ba09379f"
      },
      "source": [
        "pd.DataFrame.from_dict(f1_scores, orient=\"index\", columns=[\"F1 score\"])"
      ],
      "execution_count": 255,
      "outputs": [
        {
          "output_type": "execute_result",
          "data": {
            "text/html": [
              "<div>\n",
              "<style scoped>\n",
              "    .dataframe tbody tr th:only-of-type {\n",
              "        vertical-align: middle;\n",
              "    }\n",
              "\n",
              "    .dataframe tbody tr th {\n",
              "        vertical-align: top;\n",
              "    }\n",
              "\n",
              "    .dataframe thead th {\n",
              "        text-align: right;\n",
              "    }\n",
              "</style>\n",
              "<table border=\"1\" class=\"dataframe\">\n",
              "  <thead>\n",
              "    <tr style=\"text-align: right;\">\n",
              "      <th></th>\n",
              "      <th>F1 score</th>\n",
              "    </tr>\n",
              "  </thead>\n",
              "  <tbody>\n",
              "    <tr>\n",
              "      <th>Perceptron</th>\n",
              "      <td>0.570820</td>\n",
              "    </tr>\n",
              "    <tr>\n",
              "      <th>Logistic Regression</th>\n",
              "      <td>0.421227</td>\n",
              "    </tr>\n",
              "    <tr>\n",
              "      <th>Support Vector Machines</th>\n",
              "      <td>0.586806</td>\n",
              "    </tr>\n",
              "    <tr>\n",
              "      <th>Decision Tree</th>\n",
              "      <td>0.510204</td>\n",
              "    </tr>\n",
              "    <tr>\n",
              "      <th>XG Boost</th>\n",
              "      <td>0.559415</td>\n",
              "    </tr>\n",
              "  </tbody>\n",
              "</table>\n",
              "</div>"
            ],
            "text/plain": [
              "                         F1 score\n",
              "Perceptron               0.570820\n",
              "Logistic Regression      0.421227\n",
              "Support Vector Machines  0.586806\n",
              "Decision Tree            0.510204\n",
              "XG Boost                 0.559415"
            ]
          },
          "metadata": {},
          "execution_count": 255
        }
      ]
    },
    {
      "cell_type": "code",
      "metadata": {
        "id": "NZxcHiOWmMaY",
        "colab": {
          "base_uri": "https://localhost:8080/",
          "height": 205
        },
        "outputId": "ea387d0b-70bc-4d54-9bfd-5661554db17b"
      },
      "source": [
        "pd.DataFrame.from_dict(recall, orient=\"index\", columns=[\"Recall score\"])"
      ],
      "execution_count": 256,
      "outputs": [
        {
          "output_type": "execute_result",
          "data": {
            "text/html": [
              "<div>\n",
              "<style scoped>\n",
              "    .dataframe tbody tr th:only-of-type {\n",
              "        vertical-align: middle;\n",
              "    }\n",
              "\n",
              "    .dataframe tbody tr th {\n",
              "        vertical-align: top;\n",
              "    }\n",
              "\n",
              "    .dataframe thead th {\n",
              "        text-align: right;\n",
              "    }\n",
              "</style>\n",
              "<table border=\"1\" class=\"dataframe\">\n",
              "  <thead>\n",
              "    <tr style=\"text-align: right;\">\n",
              "      <th></th>\n",
              "      <th>Recall score</th>\n",
              "    </tr>\n",
              "  </thead>\n",
              "  <tbody>\n",
              "    <tr>\n",
              "      <th>Perceptron</th>\n",
              "      <td>1.000000</td>\n",
              "    </tr>\n",
              "    <tr>\n",
              "      <th>Logistic Regression</th>\n",
              "      <td>0.473881</td>\n",
              "    </tr>\n",
              "    <tr>\n",
              "      <th>Support Vector Machines</th>\n",
              "      <td>0.630597</td>\n",
              "    </tr>\n",
              "    <tr>\n",
              "      <th>Decision Tree</th>\n",
              "      <td>0.559701</td>\n",
              "    </tr>\n",
              "    <tr>\n",
              "      <th>XG Boost</th>\n",
              "      <td>0.570896</td>\n",
              "    </tr>\n",
              "  </tbody>\n",
              "</table>\n",
              "</div>"
            ],
            "text/plain": [
              "                         Recall score\n",
              "Perceptron                   1.000000\n",
              "Logistic Regression          0.473881\n",
              "Support Vector Machines      0.630597\n",
              "Decision Tree                0.559701\n",
              "XG Boost                     0.570896"
            ]
          },
          "metadata": {},
          "execution_count": 256
        }
      ]
    },
    {
      "cell_type": "code",
      "metadata": {
        "id": "agdze8KGmSWq",
        "colab": {
          "base_uri": "https://localhost:8080/",
          "height": 205
        },
        "outputId": "439026d7-5723-4530-f660-83775c6dc54c"
      },
      "source": [
        "pd.DataFrame.from_dict(precision, orient=\"index\", columns=[\"Precision score\"])"
      ],
      "execution_count": 257,
      "outputs": [
        {
          "output_type": "execute_result",
          "data": {
            "text/html": [
              "<div>\n",
              "<style scoped>\n",
              "    .dataframe tbody tr th:only-of-type {\n",
              "        vertical-align: middle;\n",
              "    }\n",
              "\n",
              "    .dataframe tbody tr th {\n",
              "        vertical-align: top;\n",
              "    }\n",
              "\n",
              "    .dataframe thead th {\n",
              "        text-align: right;\n",
              "    }\n",
              "</style>\n",
              "<table border=\"1\" class=\"dataframe\">\n",
              "  <thead>\n",
              "    <tr style=\"text-align: right;\">\n",
              "      <th></th>\n",
              "      <th>Precision score</th>\n",
              "    </tr>\n",
              "  </thead>\n",
              "  <tbody>\n",
              "    <tr>\n",
              "      <th>Perceptron</th>\n",
              "      <td>0.399404</td>\n",
              "    </tr>\n",
              "    <tr>\n",
              "      <th>Logistic Regression</th>\n",
              "      <td>0.379104</td>\n",
              "    </tr>\n",
              "    <tr>\n",
              "      <th>Support Vector Machines</th>\n",
              "      <td>0.548701</td>\n",
              "    </tr>\n",
              "    <tr>\n",
              "      <th>Decision Tree</th>\n",
              "      <td>0.468750</td>\n",
              "    </tr>\n",
              "    <tr>\n",
              "      <th>XG Boost</th>\n",
              "      <td>0.548387</td>\n",
              "    </tr>\n",
              "  </tbody>\n",
              "</table>\n",
              "</div>"
            ],
            "text/plain": [
              "                         Precision score\n",
              "Perceptron                      0.399404\n",
              "Logistic Regression             0.379104\n",
              "Support Vector Machines         0.548701\n",
              "Decision Tree                   0.468750\n",
              "XG Boost                        0.548387"
            ]
          },
          "metadata": {},
          "execution_count": 257
        }
      ]
    },
    {
      "cell_type": "code",
      "metadata": {
        "id": "pmTP5x46nhWD",
        "colab": {
          "base_uri": "https://localhost:8080/"
        },
        "outputId": "baa9dc61-5562-4d10-8a51-cab80f8bc765"
      },
      "source": [
        "for i in range(len(models)):\n",
        "  print(models[i])\n",
        "  print(confusion_m[models[i]])\n",
        "  print('\\n')"
      ],
      "execution_count": 258,
      "outputs": [
        {
          "output_type": "stream",
          "name": "stdout",
          "text": [
            "Perceptron\n",
            "             Not potable[P]  Potable[P]\n",
            "Not potable               0         403\n",
            "Potable                   0         268\n",
            "\n",
            "\n",
            "Logistic Regression\n",
            "             Not potable[P]  Potable[P]\n",
            "Not potable             195         208\n",
            "Potable                 141         127\n",
            "\n",
            "\n",
            "Support Vector Machines\n",
            "             Not potable[P]  Potable[P]\n",
            "Not potable             264         139\n",
            "Potable                  99         169\n",
            "\n",
            "\n",
            "Decision Tree\n",
            "             Not potable[P]  Potable[P]\n",
            "Not potable             233         170\n",
            "Potable                 118         150\n",
            "\n",
            "\n",
            "XG Boost\n",
            "             Not potable[P]  Potable[P]\n",
            "Not potable             277         126\n",
            "Potable                 115         153\n",
            "\n",
            "\n"
          ]
        }
      ]
    },
    {
      "cell_type": "markdown",
      "metadata": {
        "id": "j8xgEpIwB4MX"
      },
      "source": [
        "**Confronto modelli con intervallo di confidenza**"
      ]
    },
    {
      "cell_type": "markdown",
      "metadata": {
        "id": "ATDt86NaM6Kr"
      },
      "source": [
        "Quanto sono affidabili i modelli? Calcoliamo il valore di accuratezza in un intervallo di confidenza al 95%"
      ]
    },
    {
      "cell_type": "code",
      "metadata": {
        "id": "HAGjsSxrcSFn"
      },
      "source": [
        "def accuracy(confusion_m):\n",
        "  return np.diag(confusion_m).sum() / confusion_m.sum().sum()"
      ],
      "execution_count": 259,
      "outputs": []
    },
    {
      "cell_type": "code",
      "metadata": {
        "id": "oOACA9oScVwD"
      },
      "source": [
        "def confidence_interval(accuracy, N, Z):\n",
        "  den = (2*(N+Z**2))\n",
        "  variance = (Z*np.sqrt(Z**2+4*N*accuracy-4*N*accuracy**2)) / den\n",
        "  a = (2*N*accuracy+Z**2) / den\n",
        "  inf = a - variance\n",
        "  sup = a + variance\n",
        "  return np.round((inf, sup), 4)"
      ],
      "execution_count": 260,
      "outputs": []
    },
    {
      "cell_type": "code",
      "metadata": {
        "id": "SlOlWEG-6BA3"
      },
      "source": [
        "def confidence_interval_between_models99(mse1, mse2):\n",
        "  d = np.abs(mse1 - mse2)\n",
        "  variance = (mse1 * (1 - mse1)) / len(X_val) + (mse2 * (1 - mse2)) / len(X_val)\n",
        "  d_min = d - 2.58 * np.sqrt(variance)\n",
        "  d_max = d + 2.58 * np.sqrt(variance)\n",
        "  return np.round((d_min, d_max), 4)"
      ],
      "execution_count": 261,
      "outputs": []
    },
    {
      "cell_type": "code",
      "metadata": {
        "id": "ZONbSRqKcY6L",
        "colab": {
          "base_uri": "https://localhost:8080/",
          "height": 205
        },
        "outputId": "5ca26ec6-4f97-4f5c-9b54-f358f38870fd"
      },
      "source": [
        "#Intervallo di confidenza al 95%\n",
        "Z = 1.96\n",
        "\n",
        "pd.DataFrame([confidence_interval(accuracy(confusion_m[models[i]]), len(X_val), Z)  for i in range(5)],\n",
        "              index=models,\n",
        "              columns=[\"inf\", \"sup\"])"
      ],
      "execution_count": 262,
      "outputs": [
        {
          "output_type": "execute_result",
          "data": {
            "text/html": [
              "<div>\n",
              "<style scoped>\n",
              "    .dataframe tbody tr th:only-of-type {\n",
              "        vertical-align: middle;\n",
              "    }\n",
              "\n",
              "    .dataframe tbody tr th {\n",
              "        vertical-align: top;\n",
              "    }\n",
              "\n",
              "    .dataframe thead th {\n",
              "        text-align: right;\n",
              "    }\n",
              "</style>\n",
              "<table border=\"1\" class=\"dataframe\">\n",
              "  <thead>\n",
              "    <tr style=\"text-align: right;\">\n",
              "      <th></th>\n",
              "      <th>inf</th>\n",
              "      <th>sup</th>\n",
              "    </tr>\n",
              "  </thead>\n",
              "  <tbody>\n",
              "    <tr>\n",
              "      <th>Perceptron</th>\n",
              "      <td>0.3630</td>\n",
              "      <td>0.4369</td>\n",
              "    </tr>\n",
              "    <tr>\n",
              "      <th>Logistic Regression</th>\n",
              "      <td>0.4423</td>\n",
              "      <td>0.5177</td>\n",
              "    </tr>\n",
              "    <tr>\n",
              "      <th>Support Vector Machines</th>\n",
              "      <td>0.6084</td>\n",
              "      <td>0.6806</td>\n",
              "    </tr>\n",
              "    <tr>\n",
              "      <th>Decision Tree</th>\n",
              "      <td>0.5330</td>\n",
              "      <td>0.6077</td>\n",
              "    </tr>\n",
              "    <tr>\n",
              "      <th>XG Boost</th>\n",
              "      <td>0.6038</td>\n",
              "      <td>0.6762</td>\n",
              "    </tr>\n",
              "  </tbody>\n",
              "</table>\n",
              "</div>"
            ],
            "text/plain": [
              "                            inf     sup\n",
              "Perceptron               0.3630  0.4369\n",
              "Logistic Regression      0.4423  0.5177\n",
              "Support Vector Machines  0.6084  0.6806\n",
              "Decision Tree            0.5330  0.6077\n",
              "XG Boost                 0.6038  0.6762"
            ]
          },
          "metadata": {},
          "execution_count": 262
        }
      ]
    },
    {
      "cell_type": "code",
      "metadata": {
        "id": "m6_Oobhxr2kT",
        "colab": {
          "base_uri": "https://localhost:8080/"
        },
        "outputId": "38800579-790b-44b8-d38f-1a7ffcb8e6d9"
      },
      "source": [
        "for i in range(len(models)):\n",
        "  for k in range(i+1, len(models)):\n",
        "    print(models[i] + \" vs \" + models[k])\n",
        "    print(confidence_interval_between_models99(mse[models[i]], mse[models[k]]))"
      ],
      "execution_count": 263,
      "outputs": [
        {
          "output_type": "stream",
          "name": "stdout",
          "text": [
            "Perceptron vs Logistic Regression\n",
            "[0.0108 0.1502]\n",
            "Perceptron vs Support Vector Machines\n",
            "[0.1777 0.3141]\n",
            "Perceptron vs Decision Tree\n",
            "[0.102  0.2407]\n",
            "Perceptron vs XG Boost\n",
            "[0.1731 0.3097]\n",
            "Logistic Regression vs Support Vector Machines\n",
            "[0.0965 0.2343]\n",
            "Logistic Regression vs Decision Tree\n",
            "[0.0209 0.161 ]\n",
            "Logistic Regression vs XG Boost\n",
            "[0.092  0.2299]\n",
            "Support Vector Machines vs Decision Tree\n",
            "[0.006  0.1431]\n",
            "Support Vector Machines vs XG Boost\n",
            "[-0.063  0.072]\n",
            "Decision Tree vs XG Boost\n",
            "[0.0014 0.1387]\n"
          ]
        }
      ]
    },
    {
      "cell_type": "markdown",
      "metadata": {
        "id": "kWWAS0OxMu2C"
      },
      "source": [
        "I modelli che performano meglio non presentano differenze significative."
      ]
    },
    {
      "cell_type": "markdown",
      "metadata": {
        "id": "AS4xZvDtdo1t"
      },
      "source": [
        "**Confronto con un modello casuale**"
      ]
    },
    {
      "cell_type": "code",
      "metadata": {
        "id": "94Pbuvp4dvgx"
      },
      "source": [
        "from sklearn.dummy import DummyClassifier"
      ],
      "execution_count": 264,
      "outputs": []
    },
    {
      "cell_type": "code",
      "metadata": {
        "id": "Bv8SiwoCdsIQ",
        "colab": {
          "base_uri": "https://localhost:8080/"
        },
        "outputId": "6b21c8b6-1f25-42cf-c03e-9697c94ab5db"
      },
      "source": [
        "random = DummyClassifier(strategy=\"uniform\", random_state=42)\n",
        "random.fit(X_train, y_train)"
      ],
      "execution_count": 265,
      "outputs": [
        {
          "output_type": "execute_result",
          "data": {
            "text/plain": [
              "DummyClassifier(constant=None, random_state=42, strategy='uniform')"
            ]
          },
          "metadata": {},
          "execution_count": 265
        }
      ]
    },
    {
      "cell_type": "code",
      "metadata": {
        "id": "4IhVOGyFLtL0"
      },
      "source": [
        "y_pred = random.predict(X_val)\n",
        "mse[\"Random\"] = mean_squared_error(y_val, y_pred)"
      ],
      "execution_count": 266,
      "outputs": []
    },
    {
      "cell_type": "code",
      "metadata": {
        "id": "wqe02KV-L_q0",
        "colab": {
          "base_uri": "https://localhost:8080/"
        },
        "outputId": "e47feea2-8667-4516-acc3-ab76e0cc8fc0"
      },
      "source": [
        "for i in range(len(models)):\n",
        "  print(models[i] + \" vs Random\")\n",
        "  print(confidence_interval_between_models99(mse[models[i]], mse[\"Random\"]))"
      ],
      "execution_count": 267,
      "outputs": [
        {
          "output_type": "stream",
          "name": "stdout",
          "text": [
            "Perceptron vs Random\n",
            "[0.0331 0.1725]\n",
            "Logistic Regression vs Random\n",
            "[-0.048   0.0928]\n",
            "Support Vector Machines vs Random\n",
            "[0.0741 0.212 ]\n",
            "Decision Tree vs Random\n",
            "[-0.0015  0.1386]\n",
            "XG Boost vs Random\n",
            "[0.0696 0.2076]\n"
          ]
        }
      ]
    },
    {
      "cell_type": "markdown",
      "metadata": {
        "id": "NimKot8SMcmJ"
      },
      "source": [
        "I modelli basati su Perceptron e Logistic Regression non sono statisticamente migliori rispetto a quello Random.\n",
        "Tuttavia, i modelli che hanno mostrato score più alti già nelle precedenti analisi performano in modo significativo rispetto al modello casuale."
      ]
    }
  ]
}