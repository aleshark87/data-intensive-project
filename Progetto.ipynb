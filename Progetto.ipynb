{
  "nbformat": 4,
  "nbformat_minor": 0,
  "metadata": {
    "colab": {
      "name": "Progetto.ipynb",
      "provenance": [],
      "collapsed_sections": [],
      "authorship_tag": "ABX9TyMJMAcKW2qYi9tSHaCpbShx",
      "include_colab_link": true
    },
    "kernelspec": {
      "name": "python3",
      "display_name": "Python 3"
    },
    "language_info": {
      "name": "python"
    }
  },
  "cells": [
    {
      "cell_type": "markdown",
      "metadata": {
        "id": "view-in-github",
        "colab_type": "text"
      },
      "source": [
        "<a href=\"https://colab.research.google.com/github/aleshark87/data-intensive-project/blob/main/Progetto.ipynb\" target=\"_parent\"><img src=\"https://colab.research.google.com/assets/colab-badge.svg\" alt=\"Open In Colab\"/></a>"
      ]
    },
    {
      "cell_type": "markdown",
      "metadata": {
        "id": "9XVHHQ3lEDRB"
      },
      "source": [
        "##Descrizione del problema\n",
        "\n",
        "*In questo progetto si vuole realizzare un modello in grado di predire la potabilità dell'acqua in base a delle analisi effettuate*"
      ]
    },
    {
      "cell_type": "markdown",
      "metadata": {
        "id": "bKSXL3QGo2R1"
      },
      "source": [
        "## Importo le librerie necessarie"
      ]
    },
    {
      "cell_type": "code",
      "metadata": {
        "id": "ZIBDlbOonj6H"
      },
      "source": [
        "import numpy as np\n",
        "import pandas as pd\n",
        "import matplotlib.pyplot as plt\n",
        "import seaborn as sns\n",
        "import os.path\n",
        "from urllib.request import urlretrieve\n",
        "import random"
      ],
      "execution_count": 60,
      "outputs": []
    },
    {
      "cell_type": "markdown",
      "metadata": {
        "id": "c-dHsFXNo6zZ"
      },
      "source": [
        "##Caricamento dei dati\n"
      ]
    },
    {
      "cell_type": "code",
      "metadata": {
        "id": "AVdP1MHMo-42",
        "colab": {
          "base_uri": "https://localhost:8080/",
          "height": 362
        },
        "outputId": "afb84622-af73-4675-bdf1-95bbf8dcd79a"
      },
      "source": [
        "dataset_url = \"https://github.com/aleshark87/data-intensive-project/raw/main/water_potability%20(2).csv\"\n",
        "dataset_filename = \"water_potability.csv\"\n",
        "\n",
        "if not os.path.exists(dataset_filename):\n",
        "  urlretrieve(dataset_url, dataset_filename)\n",
        "\n",
        "dataset = pd.read_csv(dataset_filename, sep=\",\")\n",
        "dataset.head(10)  "
      ],
      "execution_count": 61,
      "outputs": [
        {
          "output_type": "execute_result",
          "data": {
            "text/html": [
              "<div>\n",
              "<style scoped>\n",
              "    .dataframe tbody tr th:only-of-type {\n",
              "        vertical-align: middle;\n",
              "    }\n",
              "\n",
              "    .dataframe tbody tr th {\n",
              "        vertical-align: top;\n",
              "    }\n",
              "\n",
              "    .dataframe thead th {\n",
              "        text-align: right;\n",
              "    }\n",
              "</style>\n",
              "<table border=\"1\" class=\"dataframe\">\n",
              "  <thead>\n",
              "    <tr style=\"text-align: right;\">\n",
              "      <th></th>\n",
              "      <th>ph</th>\n",
              "      <th>Hardness</th>\n",
              "      <th>Solids</th>\n",
              "      <th>Chloramines</th>\n",
              "      <th>Sulfate</th>\n",
              "      <th>Conductivity</th>\n",
              "      <th>Organic_carbon</th>\n",
              "      <th>Trihalomethanes</th>\n",
              "      <th>Turbidity</th>\n",
              "      <th>Potability</th>\n",
              "    </tr>\n",
              "  </thead>\n",
              "  <tbody>\n",
              "    <tr>\n",
              "      <th>0</th>\n",
              "      <td>NaN</td>\n",
              "      <td>204.890455</td>\n",
              "      <td>20791.318981</td>\n",
              "      <td>7.300212</td>\n",
              "      <td>368.516441</td>\n",
              "      <td>564.308654</td>\n",
              "      <td>10.379783</td>\n",
              "      <td>86.990970</td>\n",
              "      <td>2.963135</td>\n",
              "      <td>0</td>\n",
              "    </tr>\n",
              "    <tr>\n",
              "      <th>1</th>\n",
              "      <td>3.716080</td>\n",
              "      <td>129.422921</td>\n",
              "      <td>18630.057858</td>\n",
              "      <td>6.635246</td>\n",
              "      <td>NaN</td>\n",
              "      <td>592.885359</td>\n",
              "      <td>15.180013</td>\n",
              "      <td>56.329076</td>\n",
              "      <td>4.500656</td>\n",
              "      <td>0</td>\n",
              "    </tr>\n",
              "    <tr>\n",
              "      <th>2</th>\n",
              "      <td>8.099124</td>\n",
              "      <td>224.236259</td>\n",
              "      <td>19909.541732</td>\n",
              "      <td>9.275884</td>\n",
              "      <td>NaN</td>\n",
              "      <td>418.606213</td>\n",
              "      <td>16.868637</td>\n",
              "      <td>66.420093</td>\n",
              "      <td>3.055934</td>\n",
              "      <td>0</td>\n",
              "    </tr>\n",
              "    <tr>\n",
              "      <th>3</th>\n",
              "      <td>8.316766</td>\n",
              "      <td>214.373394</td>\n",
              "      <td>22018.417441</td>\n",
              "      <td>8.059332</td>\n",
              "      <td>356.886136</td>\n",
              "      <td>363.266516</td>\n",
              "      <td>18.436524</td>\n",
              "      <td>100.341674</td>\n",
              "      <td>4.628771</td>\n",
              "      <td>0</td>\n",
              "    </tr>\n",
              "    <tr>\n",
              "      <th>4</th>\n",
              "      <td>9.092223</td>\n",
              "      <td>181.101509</td>\n",
              "      <td>17978.986339</td>\n",
              "      <td>6.546600</td>\n",
              "      <td>310.135738</td>\n",
              "      <td>398.410813</td>\n",
              "      <td>11.558279</td>\n",
              "      <td>31.997993</td>\n",
              "      <td>4.075075</td>\n",
              "      <td>0</td>\n",
              "    </tr>\n",
              "    <tr>\n",
              "      <th>5</th>\n",
              "      <td>5.584087</td>\n",
              "      <td>188.313324</td>\n",
              "      <td>28748.687739</td>\n",
              "      <td>7.544869</td>\n",
              "      <td>326.678363</td>\n",
              "      <td>280.467916</td>\n",
              "      <td>8.399735</td>\n",
              "      <td>54.917862</td>\n",
              "      <td>2.559708</td>\n",
              "      <td>0</td>\n",
              "    </tr>\n",
              "    <tr>\n",
              "      <th>6</th>\n",
              "      <td>10.223862</td>\n",
              "      <td>248.071735</td>\n",
              "      <td>28749.716544</td>\n",
              "      <td>7.513408</td>\n",
              "      <td>393.663396</td>\n",
              "      <td>283.651634</td>\n",
              "      <td>13.789695</td>\n",
              "      <td>84.603556</td>\n",
              "      <td>2.672989</td>\n",
              "      <td>0</td>\n",
              "    </tr>\n",
              "    <tr>\n",
              "      <th>7</th>\n",
              "      <td>8.635849</td>\n",
              "      <td>203.361523</td>\n",
              "      <td>13672.091764</td>\n",
              "      <td>4.563009</td>\n",
              "      <td>303.309771</td>\n",
              "      <td>474.607645</td>\n",
              "      <td>12.363817</td>\n",
              "      <td>62.798309</td>\n",
              "      <td>4.401425</td>\n",
              "      <td>0</td>\n",
              "    </tr>\n",
              "    <tr>\n",
              "      <th>8</th>\n",
              "      <td>NaN</td>\n",
              "      <td>118.988579</td>\n",
              "      <td>14285.583854</td>\n",
              "      <td>7.804174</td>\n",
              "      <td>268.646941</td>\n",
              "      <td>389.375566</td>\n",
              "      <td>12.706049</td>\n",
              "      <td>53.928846</td>\n",
              "      <td>3.595017</td>\n",
              "      <td>0</td>\n",
              "    </tr>\n",
              "    <tr>\n",
              "      <th>9</th>\n",
              "      <td>11.180284</td>\n",
              "      <td>227.231469</td>\n",
              "      <td>25484.508491</td>\n",
              "      <td>9.077200</td>\n",
              "      <td>404.041635</td>\n",
              "      <td>563.885481</td>\n",
              "      <td>17.927806</td>\n",
              "      <td>71.976601</td>\n",
              "      <td>4.370562</td>\n",
              "      <td>0</td>\n",
              "    </tr>\n",
              "  </tbody>\n",
              "</table>\n",
              "</div>"
            ],
            "text/plain": [
              "          ph    Hardness        Solids  ...  Trihalomethanes  Turbidity  Potability\n",
              "0        NaN  204.890455  20791.318981  ...        86.990970   2.963135           0\n",
              "1   3.716080  129.422921  18630.057858  ...        56.329076   4.500656           0\n",
              "2   8.099124  224.236259  19909.541732  ...        66.420093   3.055934           0\n",
              "3   8.316766  214.373394  22018.417441  ...       100.341674   4.628771           0\n",
              "4   9.092223  181.101509  17978.986339  ...        31.997993   4.075075           0\n",
              "5   5.584087  188.313324  28748.687739  ...        54.917862   2.559708           0\n",
              "6  10.223862  248.071735  28749.716544  ...        84.603556   2.672989           0\n",
              "7   8.635849  203.361523  13672.091764  ...        62.798309   4.401425           0\n",
              "8        NaN  118.988579  14285.583854  ...        53.928846   3.595017           0\n",
              "9  11.180284  227.231469  25484.508491  ...        71.976601   4.370562           0\n",
              "\n",
              "[10 rows x 10 columns]"
            ]
          },
          "metadata": {},
          "execution_count": 61
        }
      ]
    },
    {
      "cell_type": "markdown",
      "metadata": {
        "id": "7QwlH9OI8z9F"
      },
      "source": [
        "##Descrizione delle feature"
      ]
    },
    {
      "cell_type": "markdown",
      "metadata": {
        "id": "At5CW_9T9z83"
      },
      "source": [
        "\n",
        "###Unità di misura:\n",
        "\n",
        "\n",
        "*  **NTU**: Nephelometric Turbidity unit\n",
        "*  **ppm**: Parti per milione\n",
        "*  **μg/L**: Microgrammi per litro\n",
        "*  **mg/L**: Milligrammi per litro\n",
        "\n",
        "###Descrizione:\n",
        "\n",
        "1. **ph**: Misura del pH dell'acqua.\n",
        "2. **Hardness**: Misura della durezza dell'acqua. Viene espressa in mg/L.\n",
        "3. **Solids**: Misura dei materiali disciolti. Viene espressa in ppm.\n",
        "4. **Chloramines**: Misura delle clorammine in ppm.\n",
        "5. **Sulfate**: Misura dei solfati in mg/L.\n",
        "6. **Conductivity**: Conduttività elettrica dell'acqua in μS/cm.\n",
        "7. **Organic_carbon**: Carbonio organico in ppm.\n",
        "8. **Trihalomethanes**: Misura dei trialometani in μg/L.\n",
        "9. **Turbidity**: Misura della torbidità in NTU.\n",
        "10. **Potability**: Indica se l'acqua è potabile, 1 significa potabile e 0 significa non potabile.\n",
        "\n"
      ]
    },
    {
      "cell_type": "markdown",
      "metadata": {
        "id": "JkPVyzLVzyq9"
      },
      "source": [
        "##Analisi generale dei dati"
      ]
    },
    {
      "cell_type": "code",
      "metadata": {
        "id": "VDrKDJunz48s",
        "colab": {
          "base_uri": "https://localhost:8080/",
          "height": 299
        },
        "outputId": "d34c9897-bdcc-47da-8ede-f1bfea661ab4"
      },
      "source": [
        "dataset.describe()"
      ],
      "execution_count": 62,
      "outputs": [
        {
          "output_type": "execute_result",
          "data": {
            "text/html": [
              "<div>\n",
              "<style scoped>\n",
              "    .dataframe tbody tr th:only-of-type {\n",
              "        vertical-align: middle;\n",
              "    }\n",
              "\n",
              "    .dataframe tbody tr th {\n",
              "        vertical-align: top;\n",
              "    }\n",
              "\n",
              "    .dataframe thead th {\n",
              "        text-align: right;\n",
              "    }\n",
              "</style>\n",
              "<table border=\"1\" class=\"dataframe\">\n",
              "  <thead>\n",
              "    <tr style=\"text-align: right;\">\n",
              "      <th></th>\n",
              "      <th>ph</th>\n",
              "      <th>Hardness</th>\n",
              "      <th>Solids</th>\n",
              "      <th>Chloramines</th>\n",
              "      <th>Sulfate</th>\n",
              "      <th>Conductivity</th>\n",
              "      <th>Organic_carbon</th>\n",
              "      <th>Trihalomethanes</th>\n",
              "      <th>Turbidity</th>\n",
              "      <th>Potability</th>\n",
              "    </tr>\n",
              "  </thead>\n",
              "  <tbody>\n",
              "    <tr>\n",
              "      <th>count</th>\n",
              "      <td>2785.000000</td>\n",
              "      <td>3276.000000</td>\n",
              "      <td>3276.000000</td>\n",
              "      <td>3276.000000</td>\n",
              "      <td>2495.000000</td>\n",
              "      <td>3276.000000</td>\n",
              "      <td>3276.000000</td>\n",
              "      <td>3114.000000</td>\n",
              "      <td>3276.000000</td>\n",
              "      <td>3276.000000</td>\n",
              "    </tr>\n",
              "    <tr>\n",
              "      <th>mean</th>\n",
              "      <td>7.080795</td>\n",
              "      <td>196.369496</td>\n",
              "      <td>22014.092526</td>\n",
              "      <td>7.122277</td>\n",
              "      <td>333.775777</td>\n",
              "      <td>426.205111</td>\n",
              "      <td>14.284970</td>\n",
              "      <td>66.396293</td>\n",
              "      <td>3.966786</td>\n",
              "      <td>0.390110</td>\n",
              "    </tr>\n",
              "    <tr>\n",
              "      <th>std</th>\n",
              "      <td>1.594320</td>\n",
              "      <td>32.879761</td>\n",
              "      <td>8768.570828</td>\n",
              "      <td>1.583085</td>\n",
              "      <td>41.416840</td>\n",
              "      <td>80.824064</td>\n",
              "      <td>3.308162</td>\n",
              "      <td>16.175008</td>\n",
              "      <td>0.780382</td>\n",
              "      <td>0.487849</td>\n",
              "    </tr>\n",
              "    <tr>\n",
              "      <th>min</th>\n",
              "      <td>0.000000</td>\n",
              "      <td>47.432000</td>\n",
              "      <td>320.942611</td>\n",
              "      <td>0.352000</td>\n",
              "      <td>129.000000</td>\n",
              "      <td>181.483754</td>\n",
              "      <td>2.200000</td>\n",
              "      <td>0.738000</td>\n",
              "      <td>1.450000</td>\n",
              "      <td>0.000000</td>\n",
              "    </tr>\n",
              "    <tr>\n",
              "      <th>25%</th>\n",
              "      <td>6.093092</td>\n",
              "      <td>176.850538</td>\n",
              "      <td>15666.690297</td>\n",
              "      <td>6.127421</td>\n",
              "      <td>307.699498</td>\n",
              "      <td>365.734414</td>\n",
              "      <td>12.065801</td>\n",
              "      <td>55.844536</td>\n",
              "      <td>3.439711</td>\n",
              "      <td>0.000000</td>\n",
              "    </tr>\n",
              "    <tr>\n",
              "      <th>50%</th>\n",
              "      <td>7.036752</td>\n",
              "      <td>196.967627</td>\n",
              "      <td>20927.833607</td>\n",
              "      <td>7.130299</td>\n",
              "      <td>333.073546</td>\n",
              "      <td>421.884968</td>\n",
              "      <td>14.218338</td>\n",
              "      <td>66.622485</td>\n",
              "      <td>3.955028</td>\n",
              "      <td>0.000000</td>\n",
              "    </tr>\n",
              "    <tr>\n",
              "      <th>75%</th>\n",
              "      <td>8.062066</td>\n",
              "      <td>216.667456</td>\n",
              "      <td>27332.762127</td>\n",
              "      <td>8.114887</td>\n",
              "      <td>359.950170</td>\n",
              "      <td>481.792304</td>\n",
              "      <td>16.557652</td>\n",
              "      <td>77.337473</td>\n",
              "      <td>4.500320</td>\n",
              "      <td>1.000000</td>\n",
              "    </tr>\n",
              "    <tr>\n",
              "      <th>max</th>\n",
              "      <td>14.000000</td>\n",
              "      <td>323.124000</td>\n",
              "      <td>61227.196008</td>\n",
              "      <td>13.127000</td>\n",
              "      <td>481.030642</td>\n",
              "      <td>753.342620</td>\n",
              "      <td>28.300000</td>\n",
              "      <td>124.000000</td>\n",
              "      <td>6.739000</td>\n",
              "      <td>1.000000</td>\n",
              "    </tr>\n",
              "  </tbody>\n",
              "</table>\n",
              "</div>"
            ],
            "text/plain": [
              "                ph     Hardness  ...    Turbidity   Potability\n",
              "count  2785.000000  3276.000000  ...  3276.000000  3276.000000\n",
              "mean      7.080795   196.369496  ...     3.966786     0.390110\n",
              "std       1.594320    32.879761  ...     0.780382     0.487849\n",
              "min       0.000000    47.432000  ...     1.450000     0.000000\n",
              "25%       6.093092   176.850538  ...     3.439711     0.000000\n",
              "50%       7.036752   196.967627  ...     3.955028     0.000000\n",
              "75%       8.062066   216.667456  ...     4.500320     1.000000\n",
              "max      14.000000   323.124000  ...     6.739000     1.000000\n",
              "\n",
              "[8 rows x 10 columns]"
            ]
          },
          "metadata": {},
          "execution_count": 62
        }
      ]
    },
    {
      "cell_type": "markdown",
      "metadata": {
        "id": "S3Q3QAoU0RSQ"
      },
      "source": [
        "Possiamo notare che i dati in nostro possesso sono tutti numerici, e di diversa scala uno dall'altro. Sarà quindi fondamentale procedere allo scaling prima di costruire i modelli. Inoltre, si nota la presenza di valori nulli e di sbilanciamento nella classe **Potability**. "
      ]
    },
    {
      "cell_type": "markdown",
      "metadata": {
        "id": "4ycDGjb6tIi5"
      },
      "source": [
        "Vediamo quanti sono i valori nulli all'interno del dataset."
      ]
    },
    {
      "cell_type": "code",
      "metadata": {
        "id": "cZfxkK0-tMr9",
        "outputId": "3aa24efe-10b7-4d06-f00e-7a50e4b4b353",
        "colab": {
          "base_uri": "https://localhost:8080/"
        }
      },
      "source": [
        "dataset.isnull().sum()"
      ],
      "execution_count": 63,
      "outputs": [
        {
          "output_type": "execute_result",
          "data": {
            "text/plain": [
              "ph                 491\n",
              "Hardness             0\n",
              "Solids               0\n",
              "Chloramines          0\n",
              "Sulfate            781\n",
              "Conductivity         0\n",
              "Organic_carbon       0\n",
              "Trihalomethanes    162\n",
              "Turbidity            0\n",
              "Potability           0\n",
              "dtype: int64"
            ]
          },
          "metadata": {},
          "execution_count": 63
        }
      ]
    },
    {
      "cell_type": "markdown",
      "metadata": {
        "id": "FPMJ7mtmuRli"
      },
      "source": [
        "Procediamo alla rimozione."
      ]
    },
    {
      "cell_type": "code",
      "metadata": {
        "id": "-nuoZfMdtkuB",
        "outputId": "81c76d28-a43e-4e0a-be4e-f68a3912039c",
        "colab": {
          "base_uri": "https://localhost:8080/"
        }
      },
      "source": [
        "dataset.dropna(inplace=True)\n",
        "dataset.isnull().sum()"
      ],
      "execution_count": 64,
      "outputs": [
        {
          "output_type": "execute_result",
          "data": {
            "text/plain": [
              "ph                 0\n",
              "Hardness           0\n",
              "Solids             0\n",
              "Chloramines        0\n",
              "Sulfate            0\n",
              "Conductivity       0\n",
              "Organic_carbon     0\n",
              "Trihalomethanes    0\n",
              "Turbidity          0\n",
              "Potability         0\n",
              "dtype: int64"
            ]
          },
          "metadata": {},
          "execution_count": 64
        }
      ]
    },
    {
      "cell_type": "code",
      "metadata": {
        "id": "HO6pYDfJ0otF",
        "colab": {
          "base_uri": "https://localhost:8080/",
          "height": 248
        },
        "outputId": "4cbf6f51-9ed8-4b8c-c684-e1363c195cab"
      },
      "source": [
        "dataset.Potability.value_counts().plot.pie(autopct=\"%.1f%%\");"
      ],
      "execution_count": 65,
      "outputs": [
        {
          "output_type": "display_data",
          "data": {
            "image/png": "[encoded data removed]",
            "text/plain": [
              "<Figure size 432x288 with 1 Axes>"
            ]
          },
          "metadata": {}
        }
      ]
    },
    {
      "cell_type": "markdown",
      "metadata": {
        "id": "9tzppS6OuZbX"
      },
      "source": [
        "Da questo grafico a torta possiamo vedere meglio la differenza di distribuzione nelle classi."
      ]
    },
    {
      "cell_type": "code",
      "metadata": {
        "id": "qfrQhzDXJLgP"
      },
      "source": [
        "#sns.pairplot(dataset, hue=\"Potability\")"
      ],
      "execution_count": 66,
      "outputs": []
    },
    {
      "cell_type": "markdown",
      "metadata": {
        "id": "HQdGdm-V4-5G"
      },
      "source": [
        "Da questi grafici, che confrontano la distribuzione delle feature nel caso di acqua Potabile o meno, notiamo che non ci sono sbilanciamenti importanti."
      ]
    },
    {
      "cell_type": "code",
      "metadata": {
        "colab": {
          "base_uri": "https://localhost:8080/",
          "height": 338
        },
        "id": "jFKSMTixihMM",
        "outputId": "60a592bd-2c4a-463a-bc94-9e5194464ee8"
      },
      "source": [
        "corr = dataset.corr()\n",
        "mask = np.triu(np.ones_like(corr, dtype=bool))\n",
        "sns.heatmap(corr, mask=mask, cmap=\"Reds\");"
      ],
      "execution_count": 67,
      "outputs": [
        {
          "output_type": "display_data",
          "data": {
            "image/png": "[encoded data removed]",
            "text/plain": [
              "<Figure size 432x288 with 2 Axes>"
            ]
          },
          "metadata": {
            "needs_background": "light"
          }
        }
      ]
    },
    {
      "cell_type": "markdown",
      "metadata": {
        "id": "Bv5GzyxD5ugY"
      },
      "source": [
        "Anche la heatmap delle correlazioni, che dovrebbe mostrarci correlazioni tra le feature, non ne mostra alcuna rilevante.\n",
        "Modelli con feature non lineari dovrebbero performare meglio."
      ]
    },
    {
      "cell_type": "markdown",
      "metadata": {
        "id": "TAUmTnzAYZxm"
      },
      "source": [
        "##Preparazione dei dati"
      ]
    },
    {
      "cell_type": "markdown",
      "metadata": {
        "id": "Uo3IrsVe1oAG"
      },
      "source": [
        "##Preparazione del modello"
      ]
    },
    {
      "cell_type": "code",
      "metadata": {
        "id": "QaMFE0JW1rQa"
      },
      "source": [
        "from sklearn.model_selection import train_test_split\n",
        "from sklearn.linear_model import Perceptron\n",
        "from sklearn.pipeline import Pipeline\n",
        "from sklearn.preprocessing import StandardScaler"
      ],
      "execution_count": 68,
      "outputs": []
    },
    {
      "cell_type": "markdown",
      "metadata": {
        "id": "RqevZCtfEWFr"
      },
      "source": [
        "Split in training e validation"
      ]
    },
    {
      "cell_type": "code",
      "metadata": {
        "id": "AAtxTdjyC2ng"
      },
      "source": [
        "X = dataset.drop(columns=\"Potability\")\n",
        "y = dataset[\"Potability\"]"
      ],
      "execution_count": 69,
      "outputs": []
    },
    {
      "cell_type": "code",
      "metadata": {
        "id": "R6vDGmJrAe_m"
      },
      "source": [
        "X_train, X_val, y_train, y_val = train_test_split(\n",
        "    X,y,\n",
        "    test_size = 1/3,\n",
        "    random_state = 42\n",
        ")"
      ],
      "execution_count": 70,
      "outputs": []
    },
    {
      "cell_type": "markdown",
      "metadata": {
        "id": "OBoBV5xd879z"
      },
      "source": [
        "**Perceptron non standardizzato**"
      ]
    },
    {
      "cell_type": "code",
      "metadata": {
        "id": "myrodvfb9Av-"
      },
      "source": [
        "not_std_model = Pipeline([\n",
        "                  (\"perc\", Perceptron(random_state=42))\n",
        "])"
      ],
      "execution_count": 71,
      "outputs": []
    },
    {
      "cell_type": "code",
      "metadata": {
        "id": "qC5sx_4Y-AkS",
        "outputId": "2bac2b9f-31af-400c-c032-1bb4d0b8f97d",
        "colab": {
          "base_uri": "https://localhost:8080/"
        }
      },
      "source": [
        "not_std_model.fit(X_train, y_train)\n",
        "print(\"R-squared coefficient:\") \n",
        "not_std_model.score(X_val, y_val)"
      ],
      "execution_count": 72,
      "outputs": [
        {
          "output_type": "stream",
          "name": "stdout",
          "text": [
            "R-squared coefficient:\n"
          ]
        },
        {
          "output_type": "execute_result",
          "data": {
            "text/plain": [
              "0.6005961251862891"
            ]
          },
          "metadata": {},
          "execution_count": 72
        }
      ]
    },
    {
      "cell_type": "markdown",
      "metadata": {
        "id": "El52tO86GmbE"
      },
      "source": [
        "# Bilanciamento classi\n"
      ]
    },
    {
      "cell_type": "code",
      "metadata": {
        "id": "qnfYUWqpIYbN"
      },
      "source": [
        "from sklearn.metrics import confusion_matrix\n",
        "from sklearn.metrics import precision_score, recall_score, f1_score\n",
        "from sklearn.metrics import mean_squared_error\n",
        "from imblearn.over_sampling import SMOTE\n",
        "from imblearn.under_sampling import RandomUnderSampler"
      ],
      "execution_count": 73,
      "outputs": []
    },
    {
      "cell_type": "code",
      "metadata": {
        "id": "BUH1Le_3GwWQ"
      },
      "source": [
        "X_train, X_val, y_train, y_val = train_test_split(X, y, test_size=1/3, random_state=42)"
      ],
      "execution_count": 74,
      "outputs": []
    },
    {
      "cell_type": "code",
      "metadata": {
        "id": "Lxa1jPlsJzmA",
        "outputId": "fb98a531-14ef-4d9f-87f9-941413c6f4ba",
        "colab": {
          "base_uri": "https://localhost:8080/",
          "height": 297
        }
      },
      "source": [
        "sns.countplot(x=y_train)"
      ],
      "execution_count": 75,
      "outputs": [
        {
          "output_type": "execute_result",
          "data": {
            "text/plain": [
              "<matplotlib.axes._subplots.AxesSubplot at 0x7fb00daa8fd0>"
            ]
          },
          "metadata": {},
          "execution_count": 75
        },
        {
          "output_type": "display_data",
          "data": {
            "image/png": "[encoded data removed]",
            "text/plain": [
              "<Figure size 432x288 with 1 Axes>"
            ]
          },
          "metadata": {
            "needs_background": "light"
          }
        }
      ]
    },
    {
      "cell_type": "markdown",
      "metadata": {
        "id": "iWxgXFdvKR0t"
      },
      "source": [
        "Faremo un under-sample della maggioranza e un over-sample della minoranza.\n",
        "Qui l'under-sample."
      ]
    },
    {
      "cell_type": "code",
      "metadata": {
        "id": "36I8JVGJJab9",
        "outputId": "068c4366-41ac-4375-fb1d-f0b7ac849416",
        "colab": {
          "base_uri": "https://localhost:8080/"
        }
      },
      "source": [
        "rus = RandomUnderSampler(sampling_strategy=0.75)\n",
        "X_train,y_train = rus.fit_resample(X_train,y_train)"
      ],
      "execution_count": 76,
      "outputs": [
        {
          "output_type": "stream",
          "name": "stderr",
          "text": [
            "/usr/local/lib/python3.7/dist-packages/sklearn/utils/deprecation.py:87: FutureWarning: Function safe_indexing is deprecated; safe_indexing is deprecated in version 0.22 and will be removed in version 0.24.\n",
            "  warnings.warn(msg, category=FutureWarning)\n"
          ]
        }
      ]
    },
    {
      "cell_type": "code",
      "metadata": {
        "id": "0_U6nNyEJ75o",
        "outputId": "f5f00947-a91f-451b-da00-c8a416ed404e",
        "colab": {
          "base_uri": "https://localhost:8080/",
          "height": 283
        }
      },
      "source": [
        "sns.countplot(x=y_train)"
      ],
      "execution_count": 77,
      "outputs": [
        {
          "output_type": "execute_result",
          "data": {
            "text/plain": [
              "<matplotlib.axes._subplots.AxesSubplot at 0x7fb00da7ac90>"
            ]
          },
          "metadata": {},
          "execution_count": 77
        },
        {
          "output_type": "display_data",
          "data": {
            "image/png": "[encoded data removed]",
            "text/plain": [
              "<Figure size 432x288 with 1 Axes>"
            ]
          },
          "metadata": {
            "needs_background": "light"
          }
        }
      ]
    },
    {
      "cell_type": "markdown",
      "metadata": {
        "id": "2R1a_jtnJQdQ"
      },
      "source": [
        "Over-sample della minoranza tramite SMOTE.\n",
        "\n"
      ]
    },
    {
      "cell_type": "code",
      "metadata": {
        "id": "PDHoM0RyIRZh",
        "outputId": "0c9e0eb9-2c6f-4551-f454-3c0f55b718fc",
        "colab": {
          "base_uri": "https://localhost:8080/"
        }
      },
      "source": [
        "smote = SMOTE(sampling_strategy='minority')\n",
        "X_train,y_train = smote.fit_resample(X_train,y_train)"
      ],
      "execution_count": 78,
      "outputs": [
        {
          "output_type": "stream",
          "name": "stderr",
          "text": [
            "/usr/local/lib/python3.7/dist-packages/sklearn/utils/deprecation.py:87: FutureWarning: Function safe_indexing is deprecated; safe_indexing is deprecated in version 0.22 and will be removed in version 0.24.\n",
            "  warnings.warn(msg, category=FutureWarning)\n"
          ]
        }
      ]
    },
    {
      "cell_type": "code",
      "metadata": {
        "id": "rI8vPk6aKkg2",
        "outputId": "fc59f35e-cbcb-4f7c-b65f-a2513e7b2ea2",
        "colab": {
          "base_uri": "https://localhost:8080/",
          "height": 283
        }
      },
      "source": [
        "sns.countplot(x=y_train)"
      ],
      "execution_count": 79,
      "outputs": [
        {
          "output_type": "execute_result",
          "data": {
            "text/plain": [
              "<matplotlib.axes._subplots.AxesSubplot at 0x7fb00d9df550>"
            ]
          },
          "metadata": {},
          "execution_count": 79
        },
        {
          "output_type": "display_data",
          "data": {
            "image/png": "[encoded data removed]",
            "text/plain": [
              "<Figure size 432x288 with 1 Axes>"
            ]
          },
          "metadata": {
            "needs_background": "light"
          }
        }
      ]
    },
    {
      "cell_type": "markdown",
      "metadata": {
        "id": "sxs7Wuu3LSNr"
      },
      "source": [
        "# **Modellazione**"
      ]
    },
    {
      "cell_type": "code",
      "metadata": {
        "id": "jQ7T-YsTT7Me"
      },
      "source": [
        "from sklearn.model_selection import StratifiedKFold\n",
        "from sklearn.model_selection import GridSearchCV\n",
        "from sklearn.svm import SVC\n",
        "from sklearn.tree import DecisionTreeClassifier\n",
        "from sklearn.linear_model import LogisticRegression\n",
        "from sklearn.ensemble import RandomForestClassifier"
      ],
      "execution_count": 80,
      "outputs": []
    },
    {
      "cell_type": "markdown",
      "metadata": {
        "id": "-svy9_0uQUWg"
      },
      "source": [
        "Creiamo dei dizionari per memorizzare informazioni sui modelli"
      ]
    },
    {
      "cell_type": "code",
      "metadata": {
        "id": "2eD0OeZjLV0D"
      },
      "source": [
        "scores = {}\n",
        "f1_scores = {}\n",
        "precision = {}\n",
        "recall = {}\n",
        "models = []\n",
        "confusion_m = {}\n",
        "mse = {}"
      ],
      "execution_count": 81,
      "outputs": []
    },
    {
      "cell_type": "markdown",
      "metadata": {
        "id": "KFdi2TCGRQQR"
      },
      "source": [
        "**Perceptron**"
      ]
    },
    {
      "cell_type": "code",
      "metadata": {
        "id": "IySwArPDUAlC"
      },
      "source": [
        "models.append(\"Perceptron\")\n",
        "\n",
        "model = Pipeline([\n",
        "    (\"scaler\", StandardScaler()),\n",
        "    (\"perc\", Perceptron(random_state=42))\n",
        "])\n",
        "\n",
        "param = {\n",
        "    \"scaler\": [StandardScaler()],\n",
        "    \"perc__penalty\": [\"l2\", \"l1\"],\n",
        "    \"perc__alpha\": np.logspace(-4, 0, 5),\n",
        "    \"perc__fit_intercept\": [False, True]\n",
        "}"
      ],
      "execution_count": 82,
      "outputs": []
    },
    {
      "cell_type": "code",
      "metadata": {
        "id": "ZDtsl4HPbUO8"
      },
      "source": [
        "skf = StratifiedKFold(3, shuffle=True, random_state=42)"
      ],
      "execution_count": 83,
      "outputs": []
    },
    {
      "cell_type": "code",
      "metadata": {
        "id": "L9FdXllzbJru",
        "outputId": "eb987743-be4c-4440-d051-a2b5767ba3ad",
        "colab": {
          "base_uri": "https://localhost:8080/"
        }
      },
      "source": [
        "perc_gv = GridSearchCV(model, param, cv=skf, n_jobs=-1)\n",
        "perc_gv.fit(X_train, y_train)"
      ],
      "execution_count": 84,
      "outputs": [
        {
          "output_type": "execute_result",
          "data": {
            "text/plain": [
              "GridSearchCV(cv=StratifiedKFold(n_splits=3, random_state=42, shuffle=True),\n",
              "             error_score=nan,\n",
              "             estimator=Pipeline(memory=None,\n",
              "                                steps=[('scaler',\n",
              "                                        StandardScaler(copy=True,\n",
              "                                                       with_mean=True,\n",
              "                                                       with_std=True)),\n",
              "                                       ('perc',\n",
              "                                        Perceptron(alpha=0.0001,\n",
              "                                                   class_weight=None,\n",
              "                                                   early_stopping=False,\n",
              "                                                   eta0=1.0, fit_intercept=True,\n",
              "                                                   max_iter=1000,\n",
              "                                                   n_iter_no_change=5,\n",
              "                                                   n_jobs=None, penalty=None,...\n",
              "                                                   verbose=0,\n",
              "                                                   warm_start=False))],\n",
              "                                verbose=False),\n",
              "             iid='deprecated', n_jobs=-1,\n",
              "             param_grid={'perc__alpha': array([1.e-04, 1.e-03, 1.e-02, 1.e-01, 1.e+00]),\n",
              "                         'perc__fit_intercept': [False, True],\n",
              "                         'perc__penalty': ['l2', 'l1'],\n",
              "                         'scaler': [StandardScaler(copy=True, with_mean=True,\n",
              "                                                   with_std=True)]},\n",
              "             pre_dispatch='2*n_jobs', refit=True, return_train_score=False,\n",
              "             scoring=None, verbose=0)"
            ]
          },
          "metadata": {},
          "execution_count": 84
        }
      ]
    },
    {
      "cell_type": "code",
      "metadata": {
        "id": "GX4NtNc_b7Dj",
        "outputId": "ae987878-7b13-4074-f2c7-7c106fa75971",
        "colab": {
          "base_uri": "https://localhost:8080/"
        }
      },
      "source": [
        "print(\"Punteggio migliore: {score}\".format(score=perc_gv.score(X_val, y_val)));\n",
        "print(\"F1 score: {score}\".format(score=f1_score(y_val, perc_gv.predict(X_val), average=\"binary\")));\n",
        "print(\"Precision score: {score}\".format(score=precision_score(y_val, perc_gv.predict(X_val))))\n",
        "print(\"Recall score: {score}\".format(score=recall_score(y_val, perc_gv.predict(X_val))))\n",
        "print(\"Parametri migliori: {params}\".format(params=perc_gv.best_params_))\n",
        "\n",
        "modelName = models[len(models)-1]\n",
        "scores[modelName] = perc_gv.score(X_val, y_val);\n",
        "f1_scores[modelName] = f1_score(y_val, perc_gv.predict(X_val), average=\"binary\")\n",
        "precision[modelName] = precision_score(y_val, perc_gv.predict(X_val))\n",
        "recall[modelName] = recall_score(y_val, perc_gv.predict(X_val))"
      ],
      "execution_count": 85,
      "outputs": [
        {
          "output_type": "stream",
          "name": "stdout",
          "text": [
            "Punteggio migliore: 0.5052160953800298\n",
            "F1 score: 0.4391891891891892\n",
            "Precision score: 0.4012345679012346\n",
            "Recall score: 0.48507462686567165\n",
            "Parametri migliori: {'perc__alpha': 0.1, 'perc__fit_intercept': False, 'perc__penalty': 'l2', 'scaler': StandardScaler(copy=True, with_mean=True, with_std=True)}\n"
          ]
        }
      ]
    },
    {
      "cell_type": "code",
      "metadata": {
        "id": "DRlQzdy5jsRa",
        "outputId": "4fdb49e8-570a-4b62-fac4-e865c09306af",
        "colab": {
          "base_uri": "https://localhost:8080/"
        }
      },
      "source": [
        "index = [\"Not potable\", \"Potable\"]\n",
        "classes = [\"Not potable[P]\", \"Potable[P]\"]\n",
        "confusion_m[modelName] = pd.DataFrame(confusion_matrix(y_val, perc_gv.predict(X_val)), columns=classes, index = index)\n",
        "print(confusion_m[modelName])\n",
        "mse[modelName] = mean_squared_error(y_val, perc_gv.predict(X_val))"
      ],
      "execution_count": 86,
      "outputs": [
        {
          "output_type": "stream",
          "name": "stdout",
          "text": [
            "             Not potable[P]  Potable[P]\n",
            "Not potable             209         194\n",
            "Potable                 138         130\n"
          ]
        }
      ]
    },
    {
      "cell_type": "markdown",
      "metadata": {
        "id": "LWGLNIsKlnSK"
      },
      "source": [
        "**Regressione Logistica**"
      ]
    },
    {
      "cell_type": "code",
      "metadata": {
        "id": "B5DoUtax8DaA"
      },
      "source": [
        "models.append(\"Logistic Regression\")\n",
        "\n",
        "log_model = Pipeline([\n",
        "    (\"scaler\", StandardScaler()),\n",
        "    (\"log_reg\", LogisticRegression(solver='saga', random_state=42))\n",
        "])\n",
        "\n",
        "log_grid = {\n",
        "    \"scaler\": [StandardScaler()],\n",
        "    \"log_reg__penalty\": [\"l2\", \"l1\"],\n",
        "    \"log_reg__C\": np.logspace(-3, 3, 10),\n",
        "    \"log_reg__fit_intercept\": [False, True]\n",
        "}"
      ],
      "execution_count": 87,
      "outputs": []
    },
    {
      "cell_type": "code",
      "metadata": {
        "id": "U7D7Chu_8SMZ",
        "outputId": "3177cbcf-51bf-4b1b-f2b3-876a14eeebe3",
        "colab": {
          "base_uri": "https://localhost:8080/"
        }
      },
      "source": [
        "skf = StratifiedKFold(3, shuffle=True, random_state=42)\n",
        "log_gv = GridSearchCV(log_model, log_grid, cv=skf, n_jobs=-1)\n",
        "log_gv.fit(X_train, y_train)"
      ],
      "execution_count": 88,
      "outputs": [
        {
          "output_type": "execute_result",
          "data": {
            "text/plain": [
              "GridSearchCV(cv=StratifiedKFold(n_splits=3, random_state=42, shuffle=True),\n",
              "             error_score=nan,\n",
              "             estimator=Pipeline(memory=None,\n",
              "                                steps=[('scaler',\n",
              "                                        StandardScaler(copy=True,\n",
              "                                                       with_mean=True,\n",
              "                                                       with_std=True)),\n",
              "                                       ('log_reg',\n",
              "                                        LogisticRegression(C=1.0,\n",
              "                                                           class_weight=None,\n",
              "                                                           dual=False,\n",
              "                                                           fit_intercept=True,\n",
              "                                                           intercept_scaling=1,\n",
              "                                                           l1_ratio=None,\n",
              "                                                           max_iter=100,\n",
              "                                                           multi_class='auto',\n",
              "                                                           n_jobs=...\n",
              "             param_grid={'log_reg__C': array([1.00000000e-03, 4.64158883e-03, 2.15443469e-02, 1.00000000e-01,\n",
              "       4.64158883e-01, 2.15443469e+00, 1.00000000e+01, 4.64158883e+01,\n",
              "       2.15443469e+02, 1.00000000e+03]),\n",
              "                         'log_reg__fit_intercept': [False, True],\n",
              "                         'log_reg__penalty': ['l2', 'l1'],\n",
              "                         'scaler': [StandardScaler(copy=True, with_mean=True,\n",
              "                                                   with_std=True)]},\n",
              "             pre_dispatch='2*n_jobs', refit=True, return_train_score=False,\n",
              "             scoring=None, verbose=0)"
            ]
          },
          "metadata": {},
          "execution_count": 88
        }
      ]
    },
    {
      "cell_type": "code",
      "metadata": {
        "id": "dBzp1mma8XOb",
        "outputId": "cde74f8e-78de-4334-cc04-c4a30c0e7d3b",
        "colab": {
          "base_uri": "https://localhost:8080/"
        }
      },
      "source": [
        "print(\"Punteggio migliore: {score}\".format(score=log_gv.score(X_val, y_val)));\n",
        "print(\"F1 score: {score}\".format(score=f1_score(y_val, log_gv.predict(X_val), average=\"binary\")));\n",
        "print(\"Precision score: {score}\".format(score=precision_score(y_val, log_gv.predict(X_val))))\n",
        "print(\"Recall score: {score}\".format(score=recall_score(y_val, log_gv.predict(X_val))))\n",
        "print(\"Parametri migliori: {params}\".format(params=log_gv.best_params_))\n",
        "\n",
        "modelName = models[len(models)-1]\n",
        "scores[modelName] = log_gv.score(X_val, y_val);\n",
        "f1_scores[modelName] = f1_score(y_val, log_gv.predict(X_val), average=\"binary\")\n",
        "precision[modelName] = precision_score(y_val, log_gv.predict(X_val))\n",
        "recall[modelName] = recall_score(y_val, log_gv.predict(X_val))"
      ],
      "execution_count": 89,
      "outputs": [
        {
          "output_type": "stream",
          "name": "stdout",
          "text": [
            "Punteggio migliore: 0.46795827123695977\n",
            "F1 score: 0.4157119476268412\n",
            "Precision score: 0.37026239067055394\n",
            "Recall score: 0.47388059701492535\n",
            "Parametri migliori: {'log_reg__C': 0.46415888336127775, 'log_reg__fit_intercept': False, 'log_reg__penalty': 'l1', 'scaler': StandardScaler(copy=True, with_mean=True, with_std=True)}\n"
          ]
        }
      ]
    },
    {
      "cell_type": "code",
      "metadata": {
        "id": "vkkIkLVs3OUK",
        "outputId": "6c7aa9b2-54d0-4124-e0e3-c6d499787b15",
        "colab": {
          "base_uri": "https://localhost:8080/"
        }
      },
      "source": [
        "index = [\"Not potable\", \"Potable\"]\n",
        "classes = [\"Not potable[P]\", \"Potable[P]\"]\n",
        "confusion_m[modelName] = pd.DataFrame(confusion_matrix(y_val, log_gv.predict(X_val)), columns=classes, index = index)\n",
        "print(confusion_m[modelName])\n",
        "mse[modelName] = mean_squared_error(y_val, log_gv.predict(X_val))"
      ],
      "execution_count": 90,
      "outputs": [
        {
          "output_type": "stream",
          "name": "stdout",
          "text": [
            "             Not potable[P]  Potable[P]\n",
            "Not potable             187         216\n",
            "Potable                 141         127\n"
          ]
        }
      ]
    },
    {
      "cell_type": "markdown",
      "metadata": {
        "id": "aVg_0bBc-eTK"
      },
      "source": [
        "**SVC**"
      ]
    },
    {
      "cell_type": "code",
      "metadata": {
        "id": "WWgC01XktYWv"
      },
      "source": [
        "models.append(\"Support Vector Machines\")\n",
        "\n",
        "svc_model = Pipeline([\n",
        "    (\"scaler\", StandardScaler()),\n",
        "    (\"svc\", SVC(random_state=42))\n",
        "])\n",
        "\n",
        "param_svc = {\n",
        "    'scaler': [StandardScaler()],\n",
        "    'svc__kernel': ['linear'],\n",
        "    'svc__kernel': ['rbf'],\n",
        "    \"svc__C\": np.linspace(0.5, 5, 10)\n",
        "}"
      ],
      "execution_count": 91,
      "outputs": []
    },
    {
      "cell_type": "code",
      "metadata": {
        "id": "irL9wBVotY6O",
        "outputId": "d2a5bbb5-2048-4b58-d55e-830312d994e8",
        "colab": {
          "base_uri": "https://localhost:8080/"
        }
      },
      "source": [
        "skf = StratifiedKFold(3, shuffle=True, random_state=42)\n",
        "svc_gv = GridSearchCV(svc_model, param_svc, cv=skf)\n",
        "svc_gv.fit(X_train, y_train)"
      ],
      "execution_count": 92,
      "outputs": [
        {
          "output_type": "execute_result",
          "data": {
            "text/plain": [
              "GridSearchCV(cv=StratifiedKFold(n_splits=3, random_state=42, shuffle=True),\n",
              "             error_score=nan,\n",
              "             estimator=Pipeline(memory=None,\n",
              "                                steps=[('scaler',\n",
              "                                        StandardScaler(copy=True,\n",
              "                                                       with_mean=True,\n",
              "                                                       with_std=True)),\n",
              "                                       ('svc',\n",
              "                                        SVC(C=1.0, break_ties=False,\n",
              "                                            cache_size=200, class_weight=None,\n",
              "                                            coef0=0.0,\n",
              "                                            decision_function_shape='ovr',\n",
              "                                            degree=3, gamma='scale',\n",
              "                                            kernel='rbf', max_iter=-1,\n",
              "                                            pr...lity=False, random_state=42,\n",
              "                                            shrinking=True, tol=0.001,\n",
              "                                            verbose=False))],\n",
              "                                verbose=False),\n",
              "             iid='deprecated', n_jobs=None,\n",
              "             param_grid={'scaler': [StandardScaler(copy=True, with_mean=True,\n",
              "                                                   with_std=True)],\n",
              "                         'svc__C': array([0.5, 1. , 1.5, 2. , 2.5, 3. , 3.5, 4. , 4.5, 5. ]),\n",
              "                         'svc__kernel': ['rbf']},\n",
              "             pre_dispatch='2*n_jobs', refit=True, return_train_score=False,\n",
              "             scoring=None, verbose=0)"
            ]
          },
          "metadata": {},
          "execution_count": 92
        }
      ]
    },
    {
      "cell_type": "code",
      "metadata": {
        "id": "-uNYdhqUtZRA",
        "outputId": "1151a6df-137c-4348-a676-3a5b36dd6d57",
        "colab": {
          "base_uri": "https://localhost:8080/"
        }
      },
      "source": [
        "print(\"Punteggio migliore: {score}\".format(score=svc_gv.score(X_val, y_val)));\n",
        "print(\"F1 score: {score}\".format(score=f1_score(y_val, svc_gv.predict(X_val), average=\"binary\")));\n",
        "print(\"Precision score: {score}\".format(score=precision_score(y_val, svc_gv.predict(X_val))))\n",
        "print(\"Recall score: {score}\".format(score=recall_score(y_val, svc_gv.predict(X_val))))\n",
        "print(\"Parametri migliori: {params}\".format(params=svc_gv.best_params_))\n",
        "\n",
        "modelName = models[len(models)-1]\n",
        "scores[modelName] = svc_gv.score(X_val, y_val);\n",
        "f1_scores[modelName] = f1_score(y_val, svc_gv.predict(X_val), average=\"binary\")\n",
        "precision[modelName] = precision_score(y_val, svc_gv.predict(X_val))\n",
        "recall[modelName] = recall_score(y_val, svc_gv.predict(X_val))"
      ],
      "execution_count": 93,
      "outputs": [
        {
          "output_type": "stream",
          "name": "stdout",
          "text": [
            "Punteggio migliore: 0.6363636363636364\n",
            "F1 score: 0.5658362989323844\n",
            "Precision score: 0.5408163265306123\n",
            "Recall score: 0.5932835820895522\n",
            "Parametri migliori: {'scaler': StandardScaler(copy=True, with_mean=True, with_std=True), 'svc__C': 1.0, 'svc__kernel': 'rbf'}\n"
          ]
        }
      ]
    },
    {
      "cell_type": "code",
      "metadata": {
        "id": "li0S4n7etZqZ",
        "outputId": "7e39eed0-06ee-4d98-8b79-d5ff46f215a1",
        "colab": {
          "base_uri": "https://localhost:8080/"
        }
      },
      "source": [
        "index = [\"Not potable\", \"Potable\"]\n",
        "classes = [\"Not potable[P]\", \"Potable[P]\"]\n",
        "confusion_m[modelName] = pd.DataFrame(confusion_matrix(y_val, svc_gv.predict(X_val)), columns=classes, index = index)\n",
        "print(confusion_m[modelName])\n",
        "mse[modelName] = mean_squared_error(y_val, svc_gv.predict(X_val))"
      ],
      "execution_count": 94,
      "outputs": [
        {
          "output_type": "stream",
          "name": "stdout",
          "text": [
            "             Not potable[P]  Potable[P]\n",
            "Not potable             268         135\n",
            "Potable                 109         159\n"
          ]
        }
      ]
    },
    {
      "cell_type": "markdown",
      "metadata": {
        "id": "i2knEhbFbLhs"
      },
      "source": [
        "**Decision tree**"
      ]
    },
    {
      "cell_type": "code",
      "metadata": {
        "id": "GWEF7ZKPbQCK"
      },
      "source": [
        "models.append(\"Decision Tree\")\n",
        "num_features = X.columns.size\n",
        "\n",
        "tree_model = Pipeline([\n",
        "    (\"scaler\", StandardScaler()),\n",
        "    (\"tree\", DecisionTreeClassifier(class_weight=\"balanced\", random_state=42))\n",
        "])\n",
        "\n",
        "tree_grid = {'scaler': [StandardScaler()],\n",
        "             'tree__criterion': ['gini', 'entropy'],\n",
        "             'tree__max_features': range(5, num_features)}"
      ],
      "execution_count": 95,
      "outputs": []
    },
    {
      "cell_type": "code",
      "metadata": {
        "id": "Omg90fn3Hg00",
        "outputId": "ca9f827c-d581-4fa3-9e5b-c0b21f6757bb",
        "colab": {
          "base_uri": "https://localhost:8080/"
        }
      },
      "source": [
        "skf = StratifiedKFold(3, shuffle=True, random_state=42)\n",
        "tree_gv = GridSearchCV(tree_model, tree_grid, cv=skf, n_jobs=-1)\n",
        "tree_gv.fit(X_train, y_train)"
      ],
      "execution_count": 96,
      "outputs": [
        {
          "output_type": "execute_result",
          "data": {
            "text/plain": [
              "GridSearchCV(cv=StratifiedKFold(n_splits=3, random_state=42, shuffle=True),\n",
              "             error_score=nan,\n",
              "             estimator=Pipeline(memory=None,\n",
              "                                steps=[('scaler',\n",
              "                                        StandardScaler(copy=True,\n",
              "                                                       with_mean=True,\n",
              "                                                       with_std=True)),\n",
              "                                       ('tree',\n",
              "                                        DecisionTreeClassifier(ccp_alpha=0.0,\n",
              "                                                               class_weight='balanced',\n",
              "                                                               criterion='gini',\n",
              "                                                               max_depth=None,\n",
              "                                                               max_features=None,\n",
              "                                                               max_leaf_nodes=None,\n",
              "                                                               min_impurity_decre...\n",
              "                                                               min_weight_fraction_leaf=0.0,\n",
              "                                                               presort='deprecated',\n",
              "                                                               random_state=42,\n",
              "                                                               splitter='best'))],\n",
              "                                verbose=False),\n",
              "             iid='deprecated', n_jobs=-1,\n",
              "             param_grid={'scaler': [StandardScaler(copy=True, with_mean=True,\n",
              "                                                   with_std=True)],\n",
              "                         'tree__criterion': ['gini', 'entropy'],\n",
              "                         'tree__max_features': range(5, 9)},\n",
              "             pre_dispatch='2*n_jobs', refit=True, return_train_score=False,\n",
              "             scoring=None, verbose=0)"
            ]
          },
          "metadata": {},
          "execution_count": 96
        }
      ]
    },
    {
      "cell_type": "code",
      "metadata": {
        "id": "_vc_6ZfJHm3u",
        "outputId": "e4fe81ff-9e9b-4457-a529-01d1808e47a4",
        "colab": {
          "base_uri": "https://localhost:8080/"
        }
      },
      "source": [
        "print(\"Punteggio migliore: {score}\".format(score=tree_gv.score(X_val, y_val)));\n",
        "print(\"F1 score: {score}\".format(score=f1_score(y_val, tree_gv.predict(X_val), average=\"binary\")));\n",
        "print(\"Precision score: {score}\".format(score=precision_score(y_val, tree_gv.predict(X_val))))\n",
        "print(\"Recall score: {score}\".format(score=recall_score(y_val, tree_gv.predict(X_val))))\n",
        "print(\"Parametri migliori: {params}\".format(params=tree_gv.best_params_))\n",
        "\n",
        "modelName = models[len(models)-1]\n",
        "scores[modelName] = tree_gv.score(X_val, y_val);\n",
        "f1_scores[modelName] = f1_score(y_val, tree_gv.predict(X_val), average=\"binary\")\n",
        "precision[modelName] = precision_score(y_val, tree_gv.predict(X_val))\n",
        "recall[modelName] = recall_score(y_val, tree_gv.predict(X_val))"
      ],
      "execution_count": 97,
      "outputs": [
        {
          "output_type": "stream",
          "name": "stdout",
          "text": [
            "Punteggio migliore: 0.5767511177347243\n",
            "F1 score: 0.5103448275862068\n",
            "Precision score: 0.47435897435897434\n",
            "Recall score: 0.5522388059701493\n",
            "Parametri migliori: {'scaler': StandardScaler(copy=True, with_mean=True, with_std=True), 'tree__criterion': 'gini', 'tree__max_features': 5}\n"
          ]
        }
      ]
    },
    {
      "cell_type": "code",
      "metadata": {
        "id": "N1hwkELcHp4m",
        "outputId": "e9eb35c5-6bcf-4633-c4ae-184b1dc16200",
        "colab": {
          "base_uri": "https://localhost:8080/"
        }
      },
      "source": [
        "confusion_m[modelName] = pd.DataFrame(confusion_matrix(y_val, tree_gv.predict(X_val)), columns=classes, index = index)\n",
        "print(confusion_m[modelName])\n",
        "mse[modelName] = mean_squared_error(y_val, tree_gv.predict(X_val))"
      ],
      "execution_count": 98,
      "outputs": [
        {
          "output_type": "stream",
          "name": "stdout",
          "text": [
            "             Not potable[P]  Potable[P]\n",
            "Not potable             239         164\n",
            "Potable                 120         148\n"
          ]
        }
      ]
    },
    {
      "cell_type": "markdown",
      "metadata": {
        "id": "TiBAtzQpL_Tk"
      },
      "source": [
        "**XGBOOST**"
      ]
    },
    {
      "cell_type": "code",
      "metadata": {
        "id": "VC6p-LBQMGa0"
      },
      "source": [
        "from xgboost import XGBClassifier\n",
        "train_data = pd.DataFrame(X_train, columns=['ph', 'Hardness', 'Solids', 'Chloramines', 'Sulfate', 'Conductivity', 'Organic_carbon', 'Trihalomethanes', 'Turbidity'])"
      ],
      "execution_count": 99,
      "outputs": []
    },
    {
      "cell_type": "code",
      "metadata": {
        "id": "2H7P0aRsMAgj"
      },
      "source": [
        "models.append(\"XG Boost\")\n",
        "\n",
        "xgb_model = Pipeline([\n",
        "    (\"scaler\", StandardScaler()),\n",
        "    (\"xgb\", XGBClassifier(nthread=8, objective='binary:logistic', random_state=42))\n",
        "])\n",
        "\n",
        "parameters = {\n",
        "    'xgb__max_depth': [13, 14],\n",
        "    'xgb__grow_policy': [\"lossguide\", \"depthwise\"]\n",
        "}\n",
        "\n",
        "skf = StratifiedKFold(3, shuffle=True, random_state=42)\n",
        "gs = GridSearchCV(xgb_model, parameters, cv=skf)\n",
        "\n",
        "gs.fit(train_data, y_train)\n",
        "y_pred = gs.predict(X_val)"
      ],
      "execution_count": 100,
      "outputs": []
    },
    {
      "cell_type": "code",
      "metadata": {
        "id": "b01so7ZDWg5t",
        "outputId": "8a0bf9ad-3d07-467e-f25f-68a4e129e2e8",
        "colab": {
          "base_uri": "https://localhost:8080/"
        }
      },
      "source": [
        "print(\"Punteggio migliore: {score}\".format(score=gs.score(X_val, y_val)));\n",
        "print(\"Precision score: {score}\".format(score=precision_score(y_val, y_pred)))\n",
        "print(\"Recall score: {score}\".format(score=recall_score(y_val, y_pred)))\n",
        "print(\"Parametri migliori: {params}\".format(params=gs.best_params_))\n",
        "\n",
        "modelName = models[len(models)-1]\n",
        "scores[modelName] = gs.score(X_val, y_val)\n",
        "f1_scores[modelName] = f1_score(y_val, y_pred, average=\"binary\")\n",
        "precision[modelName] = precision_score(y_val, y_pred)\n",
        "recall[modelName] = recall_score(y_val, y_pred)"
      ],
      "execution_count": 101,
      "outputs": [
        {
          "output_type": "stream",
          "name": "stdout",
          "text": [
            "Punteggio migliore: 0.6348733233979136\n",
            "Precision score: 0.5409252669039146\n",
            "Recall score: 0.5671641791044776\n",
            "Parametri migliori: {'xgb__grow_policy': 'lossguide', 'xgb__max_depth': 14}\n"
          ]
        }
      ]
    },
    {
      "cell_type": "code",
      "metadata": {
        "id": "BPjdIsEcN-Md",
        "outputId": "c47f2da9-7957-4e07-f045-c552df9d9ee7",
        "colab": {
          "base_uri": "https://localhost:8080/"
        }
      },
      "source": [
        "confusion_m[modelName] = pd.DataFrame(confusion_matrix(y_val, y_pred), index=index, columns=classes)\n",
        "print(confusion_m[modelName])\n",
        "mse[modelName] = mean_squared_error(y_val, y_pred)"
      ],
      "execution_count": 102,
      "outputs": [
        {
          "output_type": "stream",
          "name": "stdout",
          "text": [
            "             Not potable[P]  Potable[P]\n",
            "Not potable             274         129\n",
            "Potable                 116         152\n"
          ]
        }
      ]
    },
    {
      "cell_type": "markdown",
      "metadata": {
        "id": "fHHk2MVuJmWR"
      },
      "source": [
        "**Valutazione dei modelli utilizzati**"
      ]
    },
    {
      "cell_type": "code",
      "metadata": {
        "id": "G9Zc3QbtJq_R",
        "outputId": "3273086f-6c8a-42a9-9e85-b547fb7028ff",
        "colab": {
          "base_uri": "https://localhost:8080/",
          "height": 205
        }
      },
      "source": [
        "pd.DataFrame.from_dict(scores, orient=\"index\", columns=[\"R^2 score\"])"
      ],
      "execution_count": 103,
      "outputs": [
        {
          "output_type": "execute_result",
          "data": {
            "text/html": [
              "<div>\n",
              "<style scoped>\n",
              "    .dataframe tbody tr th:only-of-type {\n",
              "        vertical-align: middle;\n",
              "    }\n",
              "\n",
              "    .dataframe tbody tr th {\n",
              "        vertical-align: top;\n",
              "    }\n",
              "\n",
              "    .dataframe thead th {\n",
              "        text-align: right;\n",
              "    }\n",
              "</style>\n",
              "<table border=\"1\" class=\"dataframe\">\n",
              "  <thead>\n",
              "    <tr style=\"text-align: right;\">\n",
              "      <th></th>\n",
              "      <th>R^2 score</th>\n",
              "    </tr>\n",
              "  </thead>\n",
              "  <tbody>\n",
              "    <tr>\n",
              "      <th>Perceptron</th>\n",
              "      <td>0.505216</td>\n",
              "    </tr>\n",
              "    <tr>\n",
              "      <th>Logistic Regression</th>\n",
              "      <td>0.467958</td>\n",
              "    </tr>\n",
              "    <tr>\n",
              "      <th>Support Vector Machines</th>\n",
              "      <td>0.636364</td>\n",
              "    </tr>\n",
              "    <tr>\n",
              "      <th>Decision Tree</th>\n",
              "      <td>0.576751</td>\n",
              "    </tr>\n",
              "    <tr>\n",
              "      <th>XG Boost</th>\n",
              "      <td>0.634873</td>\n",
              "    </tr>\n",
              "  </tbody>\n",
              "</table>\n",
              "</div>"
            ],
            "text/plain": [
              "                         R^2 score\n",
              "Perceptron                0.505216\n",
              "Logistic Regression       0.467958\n",
              "Support Vector Machines   0.636364\n",
              "Decision Tree             0.576751\n",
              "XG Boost                  0.634873"
            ]
          },
          "metadata": {},
          "execution_count": 103
        }
      ]
    },
    {
      "cell_type": "code",
      "metadata": {
        "id": "5-ultcZGmCMX",
        "outputId": "bf6ca3fa-1a1c-4e5e-d51d-1c0c8574332b",
        "colab": {
          "base_uri": "https://localhost:8080/",
          "height": 205
        }
      },
      "source": [
        "pd.DataFrame.from_dict(f1_scores, orient=\"index\", columns=[\"F1 score\"])"
      ],
      "execution_count": 104,
      "outputs": [
        {
          "output_type": "execute_result",
          "data": {
            "text/html": [
              "<div>\n",
              "<style scoped>\n",
              "    .dataframe tbody tr th:only-of-type {\n",
              "        vertical-align: middle;\n",
              "    }\n",
              "\n",
              "    .dataframe tbody tr th {\n",
              "        vertical-align: top;\n",
              "    }\n",
              "\n",
              "    .dataframe thead th {\n",
              "        text-align: right;\n",
              "    }\n",
              "</style>\n",
              "<table border=\"1\" class=\"dataframe\">\n",
              "  <thead>\n",
              "    <tr style=\"text-align: right;\">\n",
              "      <th></th>\n",
              "      <th>F1 score</th>\n",
              "    </tr>\n",
              "  </thead>\n",
              "  <tbody>\n",
              "    <tr>\n",
              "      <th>Perceptron</th>\n",
              "      <td>0.439189</td>\n",
              "    </tr>\n",
              "    <tr>\n",
              "      <th>Logistic Regression</th>\n",
              "      <td>0.415712</td>\n",
              "    </tr>\n",
              "    <tr>\n",
              "      <th>Support Vector Machines</th>\n",
              "      <td>0.565836</td>\n",
              "    </tr>\n",
              "    <tr>\n",
              "      <th>Decision Tree</th>\n",
              "      <td>0.510345</td>\n",
              "    </tr>\n",
              "    <tr>\n",
              "      <th>XG Boost</th>\n",
              "      <td>0.553734</td>\n",
              "    </tr>\n",
              "  </tbody>\n",
              "</table>\n",
              "</div>"
            ],
            "text/plain": [
              "                         F1 score\n",
              "Perceptron               0.439189\n",
              "Logistic Regression      0.415712\n",
              "Support Vector Machines  0.565836\n",
              "Decision Tree            0.510345\n",
              "XG Boost                 0.553734"
            ]
          },
          "metadata": {},
          "execution_count": 104
        }
      ]
    },
    {
      "cell_type": "code",
      "metadata": {
        "id": "NZxcHiOWmMaY",
        "outputId": "ede6d6dc-7ff8-41e9-e8e1-84d2517abea2",
        "colab": {
          "base_uri": "https://localhost:8080/",
          "height": 205
        }
      },
      "source": [
        "pd.DataFrame.from_dict(recall, orient=\"index\", columns=[\"Recall score\"])"
      ],
      "execution_count": 105,
      "outputs": [
        {
          "output_type": "execute_result",
          "data": {
            "text/html": [
              "<div>\n",
              "<style scoped>\n",
              "    .dataframe tbody tr th:only-of-type {\n",
              "        vertical-align: middle;\n",
              "    }\n",
              "\n",
              "    .dataframe tbody tr th {\n",
              "        vertical-align: top;\n",
              "    }\n",
              "\n",
              "    .dataframe thead th {\n",
              "        text-align: right;\n",
              "    }\n",
              "</style>\n",
              "<table border=\"1\" class=\"dataframe\">\n",
              "  <thead>\n",
              "    <tr style=\"text-align: right;\">\n",
              "      <th></th>\n",
              "      <th>Recall score</th>\n",
              "    </tr>\n",
              "  </thead>\n",
              "  <tbody>\n",
              "    <tr>\n",
              "      <th>Perceptron</th>\n",
              "      <td>0.485075</td>\n",
              "    </tr>\n",
              "    <tr>\n",
              "      <th>Logistic Regression</th>\n",
              "      <td>0.473881</td>\n",
              "    </tr>\n",
              "    <tr>\n",
              "      <th>Support Vector Machines</th>\n",
              "      <td>0.593284</td>\n",
              "    </tr>\n",
              "    <tr>\n",
              "      <th>Decision Tree</th>\n",
              "      <td>0.552239</td>\n",
              "    </tr>\n",
              "    <tr>\n",
              "      <th>XG Boost</th>\n",
              "      <td>0.567164</td>\n",
              "    </tr>\n",
              "  </tbody>\n",
              "</table>\n",
              "</div>"
            ],
            "text/plain": [
              "                         Recall score\n",
              "Perceptron                   0.485075\n",
              "Logistic Regression          0.473881\n",
              "Support Vector Machines      0.593284\n",
              "Decision Tree                0.552239\n",
              "XG Boost                     0.567164"
            ]
          },
          "metadata": {},
          "execution_count": 105
        }
      ]
    },
    {
      "cell_type": "code",
      "metadata": {
        "id": "agdze8KGmSWq",
        "outputId": "ba7e6444-84e8-4cb6-d867-4ad74500fbb0",
        "colab": {
          "base_uri": "https://localhost:8080/",
          "height": 205
        }
      },
      "source": [
        "pd.DataFrame.from_dict(precision, orient=\"index\", columns=[\"Precision score\"])"
      ],
      "execution_count": 106,
      "outputs": [
        {
          "output_type": "execute_result",
          "data": {
            "text/html": [
              "<div>\n",
              "<style scoped>\n",
              "    .dataframe tbody tr th:only-of-type {\n",
              "        vertical-align: middle;\n",
              "    }\n",
              "\n",
              "    .dataframe tbody tr th {\n",
              "        vertical-align: top;\n",
              "    }\n",
              "\n",
              "    .dataframe thead th {\n",
              "        text-align: right;\n",
              "    }\n",
              "</style>\n",
              "<table border=\"1\" class=\"dataframe\">\n",
              "  <thead>\n",
              "    <tr style=\"text-align: right;\">\n",
              "      <th></th>\n",
              "      <th>Precision score</th>\n",
              "    </tr>\n",
              "  </thead>\n",
              "  <tbody>\n",
              "    <tr>\n",
              "      <th>Perceptron</th>\n",
              "      <td>0.401235</td>\n",
              "    </tr>\n",
              "    <tr>\n",
              "      <th>Logistic Regression</th>\n",
              "      <td>0.370262</td>\n",
              "    </tr>\n",
              "    <tr>\n",
              "      <th>Support Vector Machines</th>\n",
              "      <td>0.540816</td>\n",
              "    </tr>\n",
              "    <tr>\n",
              "      <th>Decision Tree</th>\n",
              "      <td>0.474359</td>\n",
              "    </tr>\n",
              "    <tr>\n",
              "      <th>XG Boost</th>\n",
              "      <td>0.540925</td>\n",
              "    </tr>\n",
              "  </tbody>\n",
              "</table>\n",
              "</div>"
            ],
            "text/plain": [
              "                         Precision score\n",
              "Perceptron                      0.401235\n",
              "Logistic Regression             0.370262\n",
              "Support Vector Machines         0.540816\n",
              "Decision Tree                   0.474359\n",
              "XG Boost                        0.540925"
            ]
          },
          "metadata": {},
          "execution_count": 106
        }
      ]
    },
    {
      "cell_type": "code",
      "metadata": {
        "id": "pmTP5x46nhWD",
        "outputId": "3cdf24f5-1843-4039-9b3d-4db4bddfb940",
        "colab": {
          "base_uri": "https://localhost:8080/"
        }
      },
      "source": [
        "for i in range(len(models)):\n",
        "  print(models[i])\n",
        "  print(confusion_m[models[i]])\n",
        "  print('\\n')"
      ],
      "execution_count": 107,
      "outputs": [
        {
          "output_type": "stream",
          "name": "stdout",
          "text": [
            "Perceptron\n",
            "             Not potable[P]  Potable[P]\n",
            "Not potable             209         194\n",
            "Potable                 138         130\n",
            "\n",
            "\n",
            "Logistic Regression\n",
            "             Not potable[P]  Potable[P]\n",
            "Not potable             187         216\n",
            "Potable                 141         127\n",
            "\n",
            "\n",
            "Support Vector Machines\n",
            "             Not potable[P]  Potable[P]\n",
            "Not potable             268         135\n",
            "Potable                 109         159\n",
            "\n",
            "\n",
            "Decision Tree\n",
            "             Not potable[P]  Potable[P]\n",
            "Not potable             239         164\n",
            "Potable                 120         148\n",
            "\n",
            "\n",
            "XG Boost\n",
            "             Not potable[P]  Potable[P]\n",
            "Not potable             274         129\n",
            "Potable                 116         152\n",
            "\n",
            "\n"
          ]
        }
      ]
    },
    {
      "cell_type": "markdown",
      "metadata": {
        "id": "j8xgEpIwB4MX"
      },
      "source": [
        "**Confronto modelli con intervallo di confidenza**"
      ]
    },
    {
      "cell_type": "markdown",
      "metadata": {
        "id": "ATDt86NaM6Kr"
      },
      "source": [
        "Quanto sono affidabili i modelli? Calcoliamo il valore di accuratezza in un intervallo di confidenza al 95%"
      ]
    },
    {
      "cell_type": "code",
      "metadata": {
        "id": "HAGjsSxrcSFn"
      },
      "source": [
        "def accuracy(confusion_m):\n",
        "  return np.diag(confusion_m).sum() / confusion_m.sum().sum()"
      ],
      "execution_count": 108,
      "outputs": []
    },
    {
      "cell_type": "code",
      "metadata": {
        "id": "oOACA9oScVwD"
      },
      "source": [
        "def confidence_interval(accuracy, N, Z):\n",
        "  den = (2*(N+Z**2))\n",
        "  variance = (Z*np.sqrt(Z**2+4*N*accuracy-4*N*accuracy**2)) / den\n",
        "  a = (2*N*accuracy+Z**2) / den\n",
        "  inf = a - variance\n",
        "  sup = a + variance\n",
        "  return np.round((inf, sup), 4)"
      ],
      "execution_count": 109,
      "outputs": []
    },
    {
      "cell_type": "code",
      "metadata": {
        "id": "SlOlWEG-6BA3"
      },
      "source": [
        "def confidence_interval_between_models99(mse1, mse2):\n",
        "  d = np.abs(mse1 - mse2)\n",
        "  variance = (mse1 * (1 - mse1)) / len(X_val) + (mse2 * (1 - mse2)) / len(X_val)\n",
        "  d_min = d - 2.58 * np.sqrt(variance)\n",
        "  d_max = d + 2.58 * np.sqrt(variance)\n",
        "  return np.round((d_min, d_max), 4)"
      ],
      "execution_count": 110,
      "outputs": []
    },
    {
      "cell_type": "code",
      "metadata": {
        "id": "ZONbSRqKcY6L",
        "outputId": "e3eb85f6-0532-49bf-b5b8-3144655b96c7",
        "colab": {
          "base_uri": "https://localhost:8080/",
          "height": 205
        }
      },
      "source": [
        "#Intervallo di confidenza al 95%\n",
        "Z = 1.96\n",
        "\n",
        "pd.DataFrame([confidence_interval(accuracy(confusion_m[models[i]]), len(X_val), Z)  for i in range(5)],\n",
        "              index=models,\n",
        "              columns=[\"inf\", \"sup\"])"
      ],
      "execution_count": 111,
      "outputs": [
        {
          "output_type": "execute_result",
          "data": {
            "text/html": [
              "<div>\n",
              "<style scoped>\n",
              "    .dataframe tbody tr th:only-of-type {\n",
              "        vertical-align: middle;\n",
              "    }\n",
              "\n",
              "    .dataframe tbody tr th {\n",
              "        vertical-align: top;\n",
              "    }\n",
              "\n",
              "    .dataframe thead th {\n",
              "        text-align: right;\n",
              "    }\n",
              "</style>\n",
              "<table border=\"1\" class=\"dataframe\">\n",
              "  <thead>\n",
              "    <tr style=\"text-align: right;\">\n",
              "      <th></th>\n",
              "      <th>inf</th>\n",
              "      <th>sup</th>\n",
              "    </tr>\n",
              "  </thead>\n",
              "  <tbody>\n",
              "    <tr>\n",
              "      <th>Perceptron</th>\n",
              "      <td>0.4675</td>\n",
              "      <td>0.5429</td>\n",
              "    </tr>\n",
              "    <tr>\n",
              "      <th>Logistic Regression</th>\n",
              "      <td>0.4305</td>\n",
              "      <td>0.5058</td>\n",
              "    </tr>\n",
              "    <tr>\n",
              "      <th>Support Vector Machines</th>\n",
              "      <td>0.5993</td>\n",
              "      <td>0.6719</td>\n",
              "    </tr>\n",
              "    <tr>\n",
              "      <th>Decision Tree</th>\n",
              "      <td>0.5390</td>\n",
              "      <td>0.6136</td>\n",
              "    </tr>\n",
              "    <tr>\n",
              "      <th>XG Boost</th>\n",
              "      <td>0.5978</td>\n",
              "      <td>0.6704</td>\n",
              "    </tr>\n",
              "  </tbody>\n",
              "</table>\n",
              "</div>"
            ],
            "text/plain": [
              "                            inf     sup\n",
              "Perceptron               0.4675  0.5429\n",
              "Logistic Regression      0.4305  0.5058\n",
              "Support Vector Machines  0.5993  0.6719\n",
              "Decision Tree            0.5390  0.6136\n",
              "XG Boost                 0.5978  0.6704"
            ]
          },
          "metadata": {},
          "execution_count": 111
        }
      ]
    },
    {
      "cell_type": "code",
      "metadata": {
        "id": "m6_Oobhxr2kT",
        "outputId": "b5dd2bfb-8db2-4fc0-fd98-8549f95e511a",
        "colab": {
          "base_uri": "https://localhost:8080/"
        }
      },
      "source": [
        "for i in range(len(models)):\n",
        "  for k in range(i+1, len(models)):\n",
        "    print(models[i] + \" vs \" + models[k])\n",
        "    print(confidence_interval_between_models99(mse[models[i]], mse[models[k]]))"
      ],
      "execution_count": 112,
      "outputs": [
        {
          "output_type": "stream",
          "name": "stdout",
          "text": [
            "Perceptron vs Logistic Regression\n",
            "[-0.0331  0.1076]\n",
            "Perceptron vs Support Vector Machines\n",
            "[0.062  0.2003]\n",
            "Perceptron vs Decision Tree\n",
            "[0.0015 0.1415]\n",
            "Perceptron vs XG Boost\n",
            "[0.0605 0.1988]\n",
            "Logistic Regression vs Support Vector Machines\n",
            "[0.0994 0.2374]\n",
            "Logistic Regression vs Decision Tree\n",
            "[0.0389 0.1787]\n",
            "Logistic Regression vs XG Boost\n",
            "[0.0979 0.236 ]\n",
            "Support Vector Machines vs Decision Tree\n",
            "[-0.0091  0.1283]\n",
            "Support Vector Machines vs XG Boost\n",
            "[-0.0663  0.0693]\n",
            "Decision Tree vs XG Boost\n",
            "[-0.0106  0.1268]\n"
          ]
        }
      ]
    },
    {
      "cell_type": "markdown",
      "metadata": {
        "id": "kWWAS0OxMu2C"
      },
      "source": [
        "I modelli che performano meglio non presentano differenze significative."
      ]
    },
    {
      "cell_type": "markdown",
      "metadata": {
        "id": "AS4xZvDtdo1t"
      },
      "source": [
        "**Confronto con un modello casuale**"
      ]
    },
    {
      "cell_type": "code",
      "metadata": {
        "id": "94Pbuvp4dvgx"
      },
      "source": [
        "from sklearn.dummy import DummyClassifier"
      ],
      "execution_count": 113,
      "outputs": []
    },
    {
      "cell_type": "code",
      "metadata": {
        "id": "Bv8SiwoCdsIQ",
        "outputId": "80e64f87-1e6d-43dc-f781-7f890fb79df4",
        "colab": {
          "base_uri": "https://localhost:8080/"
        }
      },
      "source": [
        "random = DummyClassifier(strategy=\"uniform\", random_state=42)\n",
        "random.fit(X_train, y_train)"
      ],
      "execution_count": 114,
      "outputs": [
        {
          "output_type": "execute_result",
          "data": {
            "text/plain": [
              "DummyClassifier(constant=None, random_state=42, strategy='uniform')"
            ]
          },
          "metadata": {},
          "execution_count": 114
        }
      ]
    },
    {
      "cell_type": "code",
      "metadata": {
        "id": "4IhVOGyFLtL0"
      },
      "source": [
        "y_pred = random.predict(X_val)\n",
        "mse[\"Random\"] = mean_squared_error(y_val, y_pred)"
      ],
      "execution_count": 115,
      "outputs": []
    },
    {
      "cell_type": "code",
      "metadata": {
        "id": "wqe02KV-L_q0",
        "outputId": "bb4ddcde-06e2-4dda-f64e-960f01bfd26f",
        "colab": {
          "base_uri": "https://localhost:8080/"
        }
      },
      "source": [
        "for i in range(len(models)):\n",
        "  print(models[i] + \" vs Random\")\n",
        "  print(confidence_interval_between_models99(mse[models[i]], mse[\"Random\"]))"
      ],
      "execution_count": 116,
      "outputs": [
        {
          "output_type": "stream",
          "name": "stdout",
          "text": [
            "Perceptron vs Random\n",
            "[-0.0674  0.0734]\n",
            "Logistic Regression vs Random\n",
            "[-0.0361  0.1046]\n",
            "Support Vector Machines vs Random\n",
            "[0.065  0.2032]\n",
            "Decision Tree vs Random\n",
            "[0.0045 0.1445]\n",
            "XG Boost vs Random\n",
            "[0.0635 0.2018]\n"
          ]
        }
      ]
    },
    {
      "cell_type": "markdown",
      "metadata": {
        "id": "NimKot8SMcmJ"
      },
      "source": [
        "I modelli basati su Perceptron e Logistic Regression non sono statisticamente migliori rispetto a quello Random.\n",
        "Tuttavia, i modelli che hanno mostrato score più alti già nelle precedenti analisi performano in modo significativo rispetto al modello casuale."
      ]
    }
  ]
}